{
 "cells": [
  {
   "cell_type": "markdown",
   "metadata": {},
   "source": [
    "Ruggiero Seccia\n",
    "\n",
    "La Sapienza University of Rome\n",
    "\n",
    "Email: ruggiero.seccia@uniroma1.it\n",
    "\n",
    "Phone: +39 3318606535\n",
    "\n",
    "# Optimal management of nurses' shifts (V3)\n",
    "\n",
    "\n",
    "This notebook implements the final model described in the file PDF file, where we allow the nurses to work for half extra shift each day."
   ]
  },
  {
   "cell_type": "markdown",
   "metadata": {},
   "source": [
    "## importing the packages"
   ]
  },
  {
   "cell_type": "code",
   "execution_count": 1,
   "metadata": {},
   "outputs": [],
   "source": [
    "import numpy as np\n",
    "try:\n",
    "    from docplex.mp.model import Model\n",
    "except:\n",
    "    !pip install docplex\n",
    "from docplex.mp.model import Model\n",
    "\n",
    "import pandas as pd\n",
    "\n",
    "try:\n",
    "    import ipywidgets\n",
    "except:\n",
    "    !pip install ipywidgets\n",
    "from ipywidgets import interact\n",
    "import ipywidgets as widgets\n",
    "import copy"
   ]
  },
  {
   "cell_type": "markdown",
   "metadata": {},
   "source": [
    "## Parameters specification\n",
    "Let us consider a department in a hospital with a given number of nurses $N$. We want to organize their shifts for the next $T$ days, e.g. $T=7$ one week or $T=30$ next month,  and for all the followings so to minimize the effort required by the staff to satisfy the demand. By contract, each nurse $i$ has to work $H_i$ hours over the time horizon $T$ (e.g. each nurse must work at least 36 hours per week, $H=36$ and $T=7$). If the $i$th nurse works for a number of hours higher than $H_i$, then it is counted as extra work and then paid more by the healthcare structure. Each day three shifts need to be covered by the nurses: \n",
    "- Morning \n",
    "- Afternoon \n",
    "- Night\n",
    "\n",
    "Each shift $s$ requires $R_s$ nurses and lasts $h_s$ hours. Each nurse cannot cover more than one shift per day. Moreover, we have the further constraint that if a nurse covers a night shift then they need to rest and cannot work the following day. \n",
    "\n",
    "Let us  consider the parameter $p_i$ which brings information about the previous period. Namely, $p_i$ is a boolean parameter such that \n",
    "\\begin{equation*}\n",
    "    p_i=\n",
    "    \\begin{cases}\n",
    "    1  \\qquad \\text{if the } i \\text{th nurse worked on the last day of the previous period} \\\\\n",
    "    0 \\qquad \\text{otherwise.}\n",
    "    \\end{cases}\n",
    "\\end{equation*}\n",
    "\n",
    "Each nurse can work more than one shift per day but up to $H^{\\max}$ hours per period. In particular, each nurse is allowed to work an extra half shift before or after entering the assigned shift.\n"
   ]
  },
  {
   "cell_type": "code",
   "execution_count": 2,
   "metadata": {},
   "outputs": [],
   "source": [
    "# number of nurses\n",
    "N = 10\n",
    "nurses = ['Nurse_' +str(n) for n in range(N)]\n",
    "# periods to schedule\n",
    "T = 7\n",
    "days = ['Day_' +str(t) for t in range(T)]\n",
    "# shifts\n",
    "S = ['Morning', 'Afternoon', 'Night']\n",
    "\n",
    "\n",
    "# standard number of hours by contract per nurse (e.g. 6 hours per day)\n",
    "H_base = 6*T\n",
    "H = {n:j for n in nurses for j in [H_base]*len(nurses)}\n",
    "\n",
    "# maximum number of hours a nurse can work including the extra shifts (e.g. 10 hours per day)\n",
    "H_max = 10*T\n",
    "H_MAX = {n:j for n in nurses for j in [H_max]*len(nurses)}\n",
    "\n",
    "# update some nurses values\n",
    "# H['Nurse_1'] =20\n",
    "\n",
    "# number of nurses required per shift\n",
    "R = {'Morning' : 4,\n",
    "     'Afternoon' : 3,\n",
    "     'Night' : 3}\n",
    "# duration of each shift\n",
    "h = {'Morning' : 7,\n",
    "     'Afternoon' : 8,\n",
    "     'Night' : 9}\n",
    "\n",
    "# list of nurses that on the last day of the previous period covered  the night shift\n",
    "p_list= ['Nurse_0']\n",
    "# dictionary with the values of p per each nurse\n",
    "p = {n:0 for n in nurses}\n",
    "# update the dictionary with p_list\n",
    "for pp in p_list:\n",
    "    p[pp]=1\n"
   ]
  },
  {
   "cell_type": "markdown",
   "metadata": {},
   "source": [
    "x_i_0_1 is the boolean array with the information about the last shift of the previous week\n",
    "\\begin{equation*}\n",
    "    x_{i01}=\n",
    "    \\begin{cases}\n",
    "    1  \\qquad \\text{if the } i \\text{th nurse worked on the last shift of the previous period} \\\\\n",
    "    0 \\qquad \\text{otherwise.}\n",
    "    \\end{cases}\n",
    "\\end{equation*}\n"
   ]
  },
  {
   "cell_type": "code",
   "execution_count": 3,
   "metadata": {},
   "outputs": [],
   "source": [
    "x_i_0_1 = [0]*N"
   ]
  },
  {
   "cell_type": "markdown",
   "metadata": {},
   "source": [
    "x_i_4_1 is the boolean array with the information about the first shift of the next period. It should be 0 (i.e. we don't know who will work on the first shift of the next period)\n",
    "\\begin{equation*}\n",
    "    x_{i41}=\n",
    "    \\begin{cases}\n",
    "    1  \\qquad \\text{if the } i \\text{th nurse works on the first shift of the first day of the next period} \\\\\n",
    "    0 \\qquad \\text{otherwise.}\n",
    "    \\end{cases}\n",
    "\\end{equation*}\n",
    "\n",
    "\n",
    "\n"
   ]
  },
  {
   "cell_type": "code",
   "execution_count": 4,
   "metadata": {},
   "outputs": [],
   "source": [
    "x_i_4_T = [0]*N"
   ]
  },
  {
   "cell_type": "markdown",
   "metadata": {},
   "source": [
    "## Optimization model \n",
    "\n",
    "To formulate this optimization problem, let us introduce the binary variable $x_{ist}\\in\\{0,1\\}$ such that \n",
    "\\begin{equation*}\n",
    "    x_{ist}=\n",
    "    \\begin{cases}\n",
    "    1  \\qquad \\text{if nurse } i \\text{th covers shift } s \\text{th on day } t\\text{th} \\\\\n",
    "    0 \\qquad \\text{otherwise}\n",
    "    \\end{cases}\n",
    "\\end{equation*}\n",
    "\n",
    " We introduce the two additional integer variables $z_{ist},q_{ist}\\in\\{0,1\\}$ such that:\n",
    "\\begin{equation*}\n",
    "    z_{ist}=\n",
    "    \\begin{cases}\n",
    "    1  \\qquad \\text{if nurse } i \\text{th works the first half of the  shift } s  \\text{th on day } t\\text{th} \\\\\n",
    "    0 \\qquad \\text{otherwise.}\n",
    "    \\end{cases}\n",
    "\\end{equation*}\n",
    "\\begin{equation*}\n",
    "    q_{ist}=\n",
    "    \\begin{cases}\n",
    "    1  \\qquad \\text{if nurse } i \\text{th works the second half of the  shift } s  \\text{th on day } t\\text{th} \\\\\n",
    "    0 \\qquad \\text{otherwise.}\n",
    "    \\end{cases}\n",
    "\\end{equation*}\n",
    "\n",
    "Finally, we define the variable $\\alpha_{st} \\in R $ which represents the number of nurses that are missing to satisfy the minimum demand of the $s$th shift on the $t$th department.\n"
   ]
  },
  {
   "cell_type": "code",
   "execution_count": 5,
   "metadata": {},
   "outputs": [],
   "source": [
    "mdl = Model('Scheduling')\n",
    "\n",
    "# create the variables\n",
    "idx_x = [(i,s,t) for i in nurses for s in S for t in days]\n",
    "x = mdl.binary_var_dict(idx_x)\n",
    "z = mdl.binary_var_dict(idx_x)\n",
    "q = mdl.binary_var_dict(idx_x)\n",
    "\n",
    "idx_alpha = [(s,t) for s in S for t in days]\n",
    "alpha = mdl.continuous_var_dict(idx_alpha)"
   ]
  },
  {
   "cell_type": "markdown",
   "metadata": {},
   "source": [
    "### Objective function\n",
    "We want to find the optimal schedule $x^\\star,z^\\star,q^\\star$ such that the proper hours worked by each nurse plus the extra shift working hours is minimized while all the department's constraints are satisfied. Of course, we are also interested in minimizing the number of shifts that cannot be covered by the nurses ($\\sum_{st}\\alpha_st$)\n",
    "\n",
    "$$\n",
    "\\sum_{i=1}^N\\sum_{s=1}^3\\sum_{t=1}^T  \\left(h_s x_{ist} + \\frac 1 2 h_s z_{ist} +\\frac 1 2 h_s q_{ist} \\right) +\\rho \\sum_{s=1}^3\\sum_{t=1}^T \\alpha_{st}\n",
    "$$\n",
    "  \n",
    "with $\\rho>\\max_s h_s$. Note that, even if $\\alpha$ represents a discrete quantity, it is modeled as a continuous variable since at the optimum it will achieve only integer values (thanks to some further constraints defined in the following)."
   ]
  },
  {
   "cell_type": "code",
   "execution_count": 6,
   "metadata": {},
   "outputs": [],
   "source": [
    "mdl.minimize(mdl.sum(x[i,s,t]*h[s] +0.5*h[s]*z[i,s,t]+0.5*h[s]*q[i,s,t] for i in nurses for s in S for t in days)\n",
    "             +(max(h.values())+1000)*mdl.sum(alpha[s,t] for s in S for t in days)\n",
    "            )"
   ]
  },
  {
   "cell_type": "markdown",
   "metadata": {},
   "source": [
    "### Constraints\n",
    "- Each person cannot cover more than one shift in the same day. \n",
    "$$ \\sum_{s=1}^3x_{ist}\\leq 1 \\qquad \\forall i,t$$\n",
    "- The number of personnel per each shift in each day is satisfied. It is splitted in two because we need to consider both the first half and the second half of the shift\n",
    "$$ \\sum_{i=1}^N \\left(x_{ist}+z_{ist}\\right)+\\alpha_{st} \\geq R_{s} \\qquad \\forall s,t $$\n",
    "$$ \\sum_{i=1}^N \\left(x_{ist}+q_{ist}\\right)+\\alpha_{st} \\geq R_{s} \\qquad \\forall s, t $$"
   ]
  },
  {
   "cell_type": "code",
   "execution_count": 7,
   "metadata": {},
   "outputs": [],
   "source": [
    "mdl.add_constraints(mdl.sum(x[i,s,t] for s in S) <= 1 for i in nurses for t in days);\n",
    "mdl.add_constraints(mdl.sum(x[i,s,t] + z[i,s,t] for i in nurses)+alpha[s,t]>= R[s]  for s in S for t in days);\n",
    "mdl.add_constraints(mdl.sum(x[i,s,t] + q[i,s,t] for i in nurses)+alpha[s,t]>= R[s]  for s in S for t in days);"
   ]
  },
  {
   "cell_type": "markdown",
   "metadata": {},
   "source": [
    "- Each nurse can work a maximum number of hours $H^{\\max}$ without burning out:\n",
    "$$  \\sum_{s=1}^3\\sum_{t=1}^T h_s \\left(x_{ist}+\\frac 1 2 z_{ist} + \\frac 1 2 q_{ist}\\right) \\le H^{\\max}\\qquad \\forall\\ i,s,t $$ \n",
    "- Each nurse works at minimum the number of hours required by contract (excluded the extra hours). \n",
    "$$ \\sum_{s=1}^3\\sum_{t=1}^T x_{ist}h_s\\geq H_i \\qquad \\forall i $$ "
   ]
  },
  {
   "cell_type": "code",
   "execution_count": 8,
   "metadata": {},
   "outputs": [],
   "source": [
    "mdl.add_constraints(mdl.sum(h[s]*(x[i,s,t]+0.5*z[i,s,t]+0.5*q[i,s,t]) for s in S for t in days) <= H_MAX[i] for i in nurses );\n",
    "mdl.add_constraints(mdl.sum(x[i,s,t]*h[s] for s in S for t in days) >= H[i] for i in nurses );"
   ]
  },
  {
   "cell_type": "markdown",
   "metadata": {},
   "source": [
    "- If a nurse covers a night shift, then the next day they cannot work;\n",
    "$$ x_{i3t}+\\sum_{s=1}^3 x_{ist+1}\\leq 1 \\qquad \\forall i,t $$ \n",
    "- Each nurse cannot work on the first day of the new period if they worked on the last shift of the previous period. \n",
    "$$ \\sum_{s=1}^3 x_{is1}\\leq (1-p_i) \\qquad \\forall i  $$ "
   ]
  },
  {
   "cell_type": "code",
   "execution_count": 9,
   "metadata": {},
   "outputs": [],
   "source": [
    "mdl.add_constraints( x[i,S[-1],t] + mdl.sum(x[i,s,days[j+1]] for s in S )<= 1 for i in nurses for j,t in enumerate(days[:-1]) );\n",
    "mdl.add_constraints(mdl.sum(x[i,s,days[0]] for s in S ) <= (1-p[i]) for i in nurses );"
   ]
  },
  {
   "cell_type": "markdown",
   "metadata": {},
   "source": [
    "-  Extra hours of the shift cannot be in consecutive days\n",
    "$$ \\sum_{s=1}^3 \\left(z_{ist}+ z_{is(t+1)}+ q_{ist}+ q_{is(t+1)}\\right)\\le 1 \\quad \\forall i\\; t=1,...,T-1$$\n",
    "-  Nurses cannot work half of the shift $s$th on the day $t$th if they have already been assigned to that shift\n",
    "$$ z_{ist}\\leq 1-x_{ist} \\qquad \\forall i,s,t$$\n",
    "$$ q_{ist}\\le 1 - x_{ist} \\qquad \\forall i,s,t$$\n",
    "- The number of nurses covering the first and the second hslf of each shift, have to be the same (this allow us to define the variable $\\alpha_{st}$ as continuous and not as discrete)\n",
    "$$ \\sum_{i=1}^N z_{ist}=\\sum_{i=1}^N q_{ist} \\qquad \\forall s,t$$\n"
   ]
  },
  {
   "cell_type": "code",
   "execution_count": 10,
   "metadata": {},
   "outputs": [],
   "source": [
    "mdl.add_constraints(mdl.sum(z[i,s,t]+z[i,s,days[j+1]] +q[i,s,t] + q[i,s,days[j+1]] for s in S)<= 1 for i in nurses for j,t in enumerate(days[:-1]));\n",
    "mdl.add_constraints(z[i,s,t]<=1-x[i,s,t] for i in nurses for s in S for t in days);\n",
    "mdl.add_constraints(q[i,s,t]<=1-x[i,s,t] for i in nurses for s in S for t in days);\n",
    "mdl.add_constraints(mdl.sum(z[i,s,t] for i in nurses)== mdl.sum(q[i,s,t] for i in nurses) for s in S for t in days);"
   ]
  },
  {
   "cell_type": "markdown",
   "metadata": {},
   "source": [
    "-  the additional hours are joined to a proper shift\n",
    "$$ z_{ist}\\leq x_{is-1t} \\qquad \\forall i,s,t$$\n",
    "$$ q_{ist}\\leq x_{is+1t} \\qquad \\forall i,s,t$$\n",
    "where $x_{i4t}=x_{i1t+1}$ and $x_{i0t} = x_{i3t-1}$. Moreover, $x_{i01}$ is known from the schedule of the previous week and $x_{i4T}$ is assumed to be zero (i.e. nobody works on the first day of the next period)."
   ]
  },
  {
   "cell_type": "code",
   "execution_count": 11,
   "metadata": {
    "code_folding": [
     0
    ],
    "scrolled": true
   },
   "outputs": [],
   "source": [
    "for idx_i,i in enumerate(nurses):\n",
    "    for idx_s, s in enumerate(S):\n",
    "        for idx_t,t in enumerate(days):\n",
    "            if s == S[0] and t == 'Day_0':\n",
    "                mdl.add_constraint(z[i,s,t]<=x_i_0_1[idx_i])\n",
    "            elif s == S[0]:\n",
    "                mdl.add_constraint(z[i,s,t]<=x[i,S[-1],days[idx_t-1]])\n",
    "            else:\n",
    "                mdl.add_constraint(z[i,s,t]<=x[i,S[idx_s-1],t])"
   ]
  },
  {
   "cell_type": "code",
   "execution_count": 12,
   "metadata": {
    "code_folding": [
     0
    ]
   },
   "outputs": [],
   "source": [
    "for idx_i,i in enumerate(nurses):\n",
    "    for idx_s, s in enumerate(S):\n",
    "        for idx_t,t in enumerate(days):\n",
    "            # if it is the last day of the period T\n",
    "            if s == S[-1] and t == 'Day_'+str(T-1):\n",
    "                mdl.add_constraint(q[i,s,t]<=x_i_4_T[idx_i])\n",
    "\n",
    "            elif s == S[-1]:\n",
    "                mdl.add_constraint(q[i,s,t]<=x[i,S[0],days[idx_t+1]])\n",
    "            else:\n",
    "                mdl.add_constraint(q[i,s,t]<=x[i,S[idx_s+1],t])"
   ]
  },
  {
   "cell_type": "markdown",
   "metadata": {},
   "source": [
    "### Solve the problem"
   ]
  },
  {
   "cell_type": "code",
   "execution_count": 13,
   "metadata": {},
   "outputs": [],
   "source": [
    "# We set a limit time for computations\n",
    "mdl.set_time_limit(240)"
   ]
  },
  {
   "cell_type": "code",
   "execution_count": 14,
   "metadata": {
    "scrolled": true
   },
   "outputs": [
    {
     "name": "stdout",
     "output_type": "stream",
     "text": [
      "Model: Scheduling\n",
      " - number of variables: 651\n",
      "   - binary=630, integer=0, continuous=21\n",
      " - number of constraints: 1123\n",
      "   - linear=1123\n",
      " - parameters:\n",
      "     parameters.timelimit = 240.00000000000000\n",
      " - problem type is: MILP\n"
     ]
    },
    {
     "data": {
      "text/plain": [
       "docplex.mp.SolveDetails(time=0.328,status='integer optimal solution')"
      ]
     },
     "execution_count": 14,
     "metadata": {},
     "output_type": "execute_result"
    }
   ],
   "source": [
    "mdl.print_information()\n",
    "mdl.solve()\n",
    "mdl.solution.solve_details"
   ]
  },
  {
   "cell_type": "code",
   "execution_count": 15,
   "metadata": {},
   "outputs": [
    {
     "data": {
      "text/plain": [
       "True"
      ]
     },
     "execution_count": 15,
     "metadata": {},
     "output_type": "execute_result"
    }
   ],
   "source": [
    "status = mdl.solve_details.status == 'integer optimal solution'\n",
    "status"
   ]
  },
  {
   "cell_type": "markdown",
   "metadata": {},
   "source": [
    "## Analysing the solution\n",
    "Below we provide simple tools to analyse the solution obtained"
   ]
  },
  {
   "cell_type": "code",
   "execution_count": 16,
   "metadata": {},
   "outputs": [],
   "source": [
    "def sol_to_pandas(x):\n",
    "    '''\n",
    "    takes in input the solution of the optimization problem as a dictionary \n",
    "    returns the solution as a dataframe \n",
    "    '''\n",
    "    sol = pd.DataFrame(columns = ['Nurse', 'Shift', 'Day'])\n",
    "    k = 0\n",
    "    for key, value in x.items():\n",
    "        if value>0:\n",
    "            sol.loc[k] =np.array([i for i in key])\n",
    "            k+=1\n",
    "    return sol"
   ]
  },
  {
   "cell_type": "code",
   "execution_count": 17,
   "metadata": {
    "scrolled": true
   },
   "outputs": [],
   "source": [
    "# transform the solution into a dataframe\n",
    "x_star_dict =mdl.solution.get_value_dict(x)\n",
    "sol_x = sol_to_pandas(x_star_dict)\n",
    "\n",
    "z_star_dict =mdl.solution.get_value_dict(z)\n",
    "sol_z = sol_to_pandas(z_star_dict)\n",
    "\n",
    "q_star_dict =mdl.solution.get_value_dict(q)\n",
    "sol_q = sol_to_pandas(q_star_dict)\n"
   ]
  },
  {
   "cell_type": "markdown",
   "metadata": {},
   "source": [
    "### Is the number of nurses $N$ enough to satisfy the demand?"
   ]
  },
  {
   "cell_type": "code",
   "execution_count": 18,
   "metadata": {
    "scrolled": true
   },
   "outputs": [
    {
     "name": "stdout",
     "output_type": "stream",
     "text": [
      "YES! The number of nurses is enough to satisfy the demand\n"
     ]
    }
   ],
   "source": [
    "alpha_star_dict =mdl.solution.get_value_dict(alpha)\n",
    "if max(list(alpha_star_dict.values()))==0:\n",
    "    print('YES! The number of nurses is enough to satisfy the demand')\n",
    "else:\n",
    "    print('NO! The number of nurses is not enough to satisfy the demand')\n"
   ]
  },
  {
   "cell_type": "markdown",
   "metadata": {},
   "source": [
    "### How many hours does each nurse work?"
   ]
  },
  {
   "cell_type": "code",
   "execution_count": 19,
   "metadata": {
    "scrolled": false
   },
   "outputs": [
    {
     "data": {
      "text/plain": [
       "{'Nurse_0': 45,\n",
       " 'Nurse_1': 44,\n",
       " 'Nurse_2': 46,\n",
       " 'Nurse_3': 45,\n",
       " 'Nurse_4': 48,\n",
       " 'Nurse_5': 46,\n",
       " 'Nurse_6': 47,\n",
       " 'Nurse_7': 42,\n",
       " 'Nurse_8': 47,\n",
       " 'Nurse_9': 46}"
      ]
     },
     "execution_count": 19,
     "metadata": {},
     "output_type": "execute_result"
    }
   ],
   "source": [
    "worked_hours = {n:0 for n in nurses}\n",
    "\n",
    "for i,j in sol_x.iterrows():\n",
    "    worked_hours[j['Nurse']]+=h[j['Shift']]\n",
    "worked_hours"
   ]
  },
  {
   "cell_type": "markdown",
   "metadata": {},
   "source": [
    "### Maximum number of hours worked:"
   ]
  },
  {
   "cell_type": "code",
   "execution_count": 20,
   "metadata": {},
   "outputs": [
    {
     "data": {
      "text/plain": [
       "48"
      ]
     },
     "execution_count": 20,
     "metadata": {},
     "output_type": "execute_result"
    }
   ],
   "source": [
    "max(worked_hours.values())"
   ]
  },
  {
   "cell_type": "markdown",
   "metadata": {},
   "source": [
    "### Average of hours worked by day"
   ]
  },
  {
   "cell_type": "code",
   "execution_count": 21,
   "metadata": {},
   "outputs": [
    {
     "name": "stdout",
     "output_type": "stream",
     "text": [
      "Nurse_0 : 6.428571428571429\n",
      "Nurse_1 : 6.285714285714286\n",
      "Nurse_2 : 6.571428571428571\n",
      "Nurse_3 : 6.428571428571429\n",
      "Nurse_4 : 6.857142857142857\n",
      "Nurse_5 : 6.571428571428571\n",
      "Nurse_6 : 6.714285714285714\n",
      "Nurse_7 : 6.0\n",
      "Nurse_8 : 6.714285714285714\n",
      "Nurse_9 : 6.571428571428571\n"
     ]
    }
   ],
   "source": [
    "for i, j in worked_hours.items():\n",
    "    print(i,':',j/T)"
   ]
  },
  {
   "cell_type": "markdown",
   "metadata": {},
   "source": [
    "### How many extra hours does each nurse work?"
   ]
  },
  {
   "cell_type": "code",
   "execution_count": 22,
   "metadata": {
    "scrolled": false
   },
   "outputs": [
    {
     "data": {
      "text/plain": [
       "{'Nurse_0': 13.5,\n",
       " 'Nurse_1': 9.0,\n",
       " 'Nurse_2': 9.0,\n",
       " 'Nurse_3': 13.0,\n",
       " 'Nurse_4': 9.0,\n",
       " 'Nurse_5': 4.5,\n",
       " 'Nurse_6': 9.0,\n",
       " 'Nurse_7': 8.0,\n",
       " 'Nurse_8': 8.5,\n",
       " 'Nurse_9': 13.5}"
      ]
     },
     "execution_count": 22,
     "metadata": {},
     "output_type": "execute_result"
    }
   ],
   "source": [
    "extra_worked_hours = {n:0 for n in nurses}\n",
    "\n",
    "for i,j in sol_z.iterrows():\n",
    "    extra_worked_hours[j['Nurse']]+=h[j['Shift']]*0.5\n",
    "for i,j in sol_q.iterrows():\n",
    "    extra_worked_hours[j['Nurse']]+=h[j['Shift']]*0.5\n",
    "extra_worked_hours"
   ]
  },
  {
   "cell_type": "markdown",
   "metadata": {},
   "source": [
    "### Maximum number of extra hours worked:"
   ]
  },
  {
   "cell_type": "code",
   "execution_count": 23,
   "metadata": {},
   "outputs": [
    {
     "data": {
      "text/plain": [
       "13.5"
      ]
     },
     "execution_count": 23,
     "metadata": {},
     "output_type": "execute_result"
    }
   ],
   "source": [
    "max(extra_worked_hours.values())"
   ]
  },
  {
   "cell_type": "markdown",
   "metadata": {},
   "source": [
    "### Average of extra hours worked by day"
   ]
  },
  {
   "cell_type": "code",
   "execution_count": 24,
   "metadata": {
    "scrolled": true
   },
   "outputs": [
    {
     "name": "stdout",
     "output_type": "stream",
     "text": [
      "Nurse_0 : 1.9285714285714286\n",
      "Nurse_1 : 1.2857142857142858\n",
      "Nurse_2 : 1.2857142857142858\n",
      "Nurse_3 : 1.8571428571428572\n",
      "Nurse_4 : 1.2857142857142858\n",
      "Nurse_5 : 0.6428571428571429\n",
      "Nurse_6 : 1.2857142857142858\n",
      "Nurse_7 : 1.1428571428571428\n",
      "Nurse_8 : 1.2142857142857142\n",
      "Nurse_9 : 1.9285714285714286\n"
     ]
    }
   ],
   "source": [
    "for i, j in extra_worked_hours.items():\n",
    "    print(i,':',j/T)"
   ]
  },
  {
   "cell_type": "markdown",
   "metadata": {},
   "source": [
    "### Overall hours worked"
   ]
  },
  {
   "cell_type": "code",
   "execution_count": 25,
   "metadata": {
    "scrolled": true
   },
   "outputs": [
    {
     "data": {
      "text/plain": [
       "{'Nurse_0': 58.5,\n",
       " 'Nurse_1': 53.0,\n",
       " 'Nurse_2': 55.0,\n",
       " 'Nurse_3': 58.0,\n",
       " 'Nurse_4': 57.0,\n",
       " 'Nurse_5': 50.5,\n",
       " 'Nurse_6': 56.0,\n",
       " 'Nurse_7': 50.0,\n",
       " 'Nurse_8': 55.5,\n",
       " 'Nurse_9': 59.5}"
      ]
     },
     "execution_count": 25,
     "metadata": {},
     "output_type": "execute_result"
    }
   ],
   "source": [
    "overall_worked_hours = worked_hours.copy()\n",
    "for i,j in extra_worked_hours.items():\n",
    "    overall_worked_hours[i]+=j\n",
    "\n",
    "overall_worked_hours"
   ]
  },
  {
   "cell_type": "markdown",
   "metadata": {},
   "source": [
    "### Visualization tool\n",
    "\n",
    "Below we provide a tool to check the schedule. "
   ]
  },
  {
   "cell_type": "code",
   "execution_count": 26,
   "metadata": {},
   "outputs": [],
   "source": [
    "# remove warning from pandas (in the viz_tool it does what we need)\n",
    "import warnings\n",
    "warnings.simplefilter(action='ignore')"
   ]
  },
  {
   "cell_type": "code",
   "execution_count": 27,
   "metadata": {
    "scrolled": false
   },
   "outputs": [
    {
     "data": {
      "application/vnd.jupyter.widget-view+json": {
       "model_id": "083c778215644c7b9c1ec5c9eadda1cb",
       "version_major": 2,
       "version_minor": 0
      },
      "text/plain": [
       "interactive(children=(Dropdown(description='nurse', index=10, options=('Nurse_0', 'Nurse_1', 'Nurse_2', 'Nurse…"
      ]
     },
     "metadata": {},
     "output_type": "display_data"
    }
   ],
   "source": [
    "def extract_info(nurse,shift,day):\n",
    "    '''\n",
    "    interactive function to extract the information required:\n",
    "    if a value is 'All' then it returns all the values for that specific feature\n",
    "    '''\n",
    "    \n",
    "    global nurses,S,days\n",
    "    \n",
    "    \n",
    "    if nurse == 'All':\n",
    "        df_tmp = sol_x[(sol_x['Nurse'].isin(nurses))]\n",
    "    else:\n",
    "        df_tmp = sol_x[(sol_x['Nurse']==nurse)]\n",
    "\n",
    "    if shift == 'All':\n",
    "        df_tmp = df_tmp[(sol_x['Shift'].isin(S))]\n",
    "    else:\n",
    "        df_tmp = df_tmp[(sol_x['Shift']==shift)]\n",
    "\n",
    "    if day == 'All':\n",
    "        df_tmp = df_tmp[(sol_x['Day'].isin(days))]    \n",
    "    else:\n",
    "        df_tmp = df_tmp[(sol_x['Day']==day)]\n",
    "\n",
    "    print('------------All shift------------')\n",
    "    print(df_tmp)\n",
    "    \n",
    "    if nurse == 'All':\n",
    "        df_tmp = sol_z[(sol_z['Nurse'].isin(nurses))]\n",
    "    else:\n",
    "        df_tmp = sol_z[(sol_z['Nurse']==nurse)]\n",
    "\n",
    "    if shift == 'All':\n",
    "        df_tmp = df_tmp[(sol_z['Shift'].isin(S))]\n",
    "    else:\n",
    "        df_tmp = df_tmp[(sol_z['Shift']==shift)]\n",
    "\n",
    "    if day == 'All':\n",
    "        df_tmp = df_tmp[(sol_z['Day'].isin(days))]    \n",
    "    else:\n",
    "        df_tmp = df_tmp[(sol_z['Day']==day)]\n",
    "\n",
    "    print('------------First half shift------------')\n",
    "\n",
    "    print(df_tmp)\n",
    "    \n",
    "    if nurse == 'All':\n",
    "        df_tmp = sol_q[(sol_q['Nurse'].isin(nurses))]\n",
    "    else:\n",
    "        df_tmp = sol_q[(sol_q['Nurse']==nurse)]\n",
    "\n",
    "    if shift == 'All':\n",
    "        df_tmp = df_tmp[(sol_q['Shift'].isin(S))]\n",
    "    else:\n",
    "        df_tmp = df_tmp[(sol_q['Shift']==shift)]\n",
    "\n",
    "    if day == 'All':\n",
    "        df_tmp = df_tmp[(sol_q['Day'].isin(days))]    \n",
    "    else:\n",
    "        df_tmp = df_tmp[(sol_q['Day']==day)]\n",
    "\n",
    "    print('------------Second half shift------------')\n",
    "    print(df_tmp)\n",
    "\n",
    "\n",
    "interact(extract_info, nurse = widgets.Dropdown(value=\"All\",placeholder='Type something', options=nurses+['All']),\n",
    "              shift=widgets.Dropdown(value='All',placeholder='Type something', options=S+['All']),\n",
    "              day = widgets.Dropdown(value=\"All\",placeholder='Type something', options=days+['All'])\n",
    "        );\n",
    "\n"
   ]
  },
  {
   "cell_type": "markdown",
   "metadata": {},
   "source": [
    "## Minimizing the worst case scenario\n",
    "\n",
    " We want to modify the objective function so to minimize the worst case scenario, i.e. minimize the maximum number of hours done by a nurse. It can be easily accomplished by introducing the further continuous variable $y\\in R$, rewriting the objective function as\n",
    "\\begin{equation*}\n",
    "    \\underset{x_{ist}\\in\\{0,1\\},y\\in R,\\alpha_{st}\\in R}{\\text{min}} \\quad  y + \\rho \\sum_{s=1}^3\\sum_{t=1}^T\\alpha_{st}\n",
    "\\end{equation*}\n",
    "\n",
    "and introducing the set of constraints:\n",
    "\\begin{equation*}\n",
    "    y\\geq\\sum_{s=1}^3\\sum_{t=1}^T  \\left(h_s x_{ist} + \\frac 1 2 h_s z_{ist} +\\frac 1 2 h_s q_{ist} \\right) \\qquad \\forall i=1,...,N\n",
    "\\end{equation*}"
   ]
  },
  {
   "cell_type": "code",
   "execution_count": 28,
   "metadata": {},
   "outputs": [
    {
     "data": {
      "text/plain": [
       "docplex.mp.solution.SolveSolution(obj=55.5,values={x2:1,x3:1,x4:1,x5:1,x.."
      ]
     },
     "execution_count": 28,
     "metadata": {},
     "output_type": "execute_result"
    }
   ],
   "source": [
    "# create the new variable for minimizing the worst case scenario\n",
    "y = mdl.continuous_var()\n",
    "\n",
    "# modify the objective function\n",
    "mdl.minimize(y\n",
    "             +(max(h.values())+1)*mdl.sum(alpha[s,t] for s in S for t in days))\n",
    "\n",
    "# add the linear constraint\n",
    "mdl.add_constraints( y>= mdl.sum(x[i,s,t]*h[s] +0.5*h[s]*z[i,s,t]+0.5*h[s]*q[i,s,t]for s in S for t in days)  for i in nurses );\n",
    "\n",
    "mdl.solve()"
   ]
  },
  {
   "cell_type": "code",
   "execution_count": 29,
   "metadata": {},
   "outputs": [
    {
     "name": "stdout",
     "output_type": "stream",
     "text": [
      "Model: Scheduling\n",
      " - number of variables: 652\n",
      "   - binary=630, integer=0, continuous=22\n",
      " - number of constraints: 1133\n",
      "   - linear=1133\n",
      " - parameters:\n",
      "     parameters.timelimit = 240.00000000000000\n",
      " - problem type is: MILP\n"
     ]
    },
    {
     "data": {
      "text/plain": [
       "docplex.mp.SolveDetails(time=0.078,status='integer optimal solution')"
      ]
     },
     "execution_count": 29,
     "metadata": {},
     "output_type": "execute_result"
    }
   ],
   "source": [
    "mdl.print_information()\n",
    "mdl.solve()\n",
    "mdl.solution.solve_details"
   ]
  },
  {
   "cell_type": "code",
   "execution_count": 30,
   "metadata": {},
   "outputs": [
    {
     "data": {
      "text/plain": [
       "'integer optimal solution'"
      ]
     },
     "execution_count": 30,
     "metadata": {},
     "output_type": "execute_result"
    }
   ],
   "source": [
    "mdl.solve_details.status"
   ]
  },
  {
   "cell_type": "markdown",
   "metadata": {},
   "source": [
    "## Comparing the new solution with the old one\n"
   ]
  },
  {
   "cell_type": "code",
   "execution_count": 31,
   "metadata": {
    "scrolled": true
   },
   "outputs": [],
   "source": [
    "# transform the solution into a dataframe\n",
    "x_star_dict =mdl.solution.get_value_dict(x)\n",
    "sol_x = sol_to_pandas(x_star_dict)\n",
    "\n",
    "z_star_dict =mdl.solution.get_value_dict(z)\n",
    "sol_z = sol_to_pandas(z_star_dict)\n",
    "\n",
    "q_star_dict =mdl.solution.get_value_dict(q)\n",
    "sol_q = sol_to_pandas(q_star_dict)\n"
   ]
  },
  {
   "cell_type": "markdown",
   "metadata": {},
   "source": [
    "### Compute number of hours worked"
   ]
  },
  {
   "cell_type": "code",
   "execution_count": 32,
   "metadata": {},
   "outputs": [],
   "source": [
    "# number of hours worked by each nurse \n",
    "worked_hours_wc = {n:0 for n in nurses}\n",
    "\n",
    "for i,j in sol_x.iterrows():\n",
    "    worked_hours_wc[j['Nurse']]+=h[j['Shift']]"
   ]
  },
  {
   "cell_type": "code",
   "execution_count": 33,
   "metadata": {
    "scrolled": false
   },
   "outputs": [],
   "source": [
    "# number of extra hours worked by each nurse\n",
    "extra_worked_hours_wc = {n:0 for n in nurses}\n",
    "# first half\n",
    "for i,j in sol_z.iterrows():\n",
    "    extra_worked_hours_wc[j['Nurse']]+=h[j['Shift']]*0.5\n",
    "# second half\n",
    "for i,j in sol_q.iterrows():\n",
    "    extra_worked_hours_wc[j['Nurse']]+=h[j['Shift']]*0.5"
   ]
  },
  {
   "cell_type": "code",
   "execution_count": 34,
   "metadata": {
    "scrolled": true
   },
   "outputs": [],
   "source": [
    "# number of hours worked by each nurse overall\n",
    "\n",
    "overall_worked_hours_wc = worked_hours_wc.copy()\n",
    "for i,j in extra_worked_hours_wc.items():\n",
    "    overall_worked_hours_wc[i]+=j"
   ]
  },
  {
   "cell_type": "markdown",
   "metadata": {},
   "source": [
    "### Comparison with the previous solution\n",
    "\n",
    "Hours are more equally distributed!"
   ]
  },
  {
   "cell_type": "code",
   "execution_count": 35,
   "metadata": {},
   "outputs": [
    {
     "name": "stdout",
     "output_type": "stream",
     "text": [
      "Nurse      Old value  New value \n",
      "Nurse_0:   58.5       55.5      \n",
      "Nurse_1:   53.0       55.5      \n",
      "Nurse_2:   55.0       55.0      \n",
      "Nurse_3:   58.0       55.5      \n",
      "Nurse_4:   57.0       55.0      \n",
      "Nurse_5:   50.5       55.5      \n",
      "Nurse_6:   56.0       55.5      \n",
      "Nurse_7:   50.0       55.5      \n",
      "Nurse_8:   55.5       55.5      \n",
      "Nurse_9:   59.5       54.5      \n"
     ]
    }
   ],
   "source": [
    "print(\"{0:<10s} {1:<10s} {2:<10s}\".format(\"Nurse\",\"Old value\", \"New value\") )\n",
    "for i in worked_hours.keys():\n",
    "    print(\"{0:<10s} {1:<10.1f} {2:<10.1f}\".format(i+\":\",overall_worked_hours[i],overall_worked_hours_wc[i]) )"
   ]
  },
  {
   "cell_type": "markdown",
   "metadata": {},
   "source": [
    "### Comparing the maximum number of hours worked overall"
   ]
  },
  {
   "cell_type": "code",
   "execution_count": 36,
   "metadata": {},
   "outputs": [
    {
     "name": "stdout",
     "output_type": "stream",
     "text": [
      "Maximum number of hours worked:\n",
      "Old value: 59.50 New value: 55.50\n"
     ]
    }
   ],
   "source": [
    "print('Maximum number of hours worked:')\n",
    "print(\"Old value: {0:>2.2f} New value: {1:>2.2f}\".format(max(overall_worked_hours.values()),max(overall_worked_hours_wc.values())) )\n"
   ]
  },
  {
   "cell_type": "markdown",
   "metadata": {},
   "source": [
    "### Visualization tool\n",
    "\n",
    "Below we provide a tool to check the schedule. "
   ]
  },
  {
   "cell_type": "code",
   "execution_count": 37,
   "metadata": {
    "scrolled": false
   },
   "outputs": [
    {
     "data": {
      "application/vnd.jupyter.widget-view+json": {
       "model_id": "71512db597784715859e199fccd4a44c",
       "version_major": 2,
       "version_minor": 0
      },
      "text/plain": [
       "interactive(children=(Dropdown(description='nurse', index=10, options=('Nurse_0', 'Nurse_1', 'Nurse_2', 'Nurse…"
      ]
     },
     "metadata": {},
     "output_type": "display_data"
    }
   ],
   "source": [
    "interact(extract_info, nurse = widgets.Dropdown(value=\"All\",placeholder='Type something', options=nurses+['All']),\n",
    "              shift=widgets.Dropdown(value='All',placeholder='Type something', options=S+['All']),\n",
    "              day = widgets.Dropdown(value=\"All\",placeholder='Type something', options=days+['All'])\n",
    "        );\n",
    "\n"
   ]
  },
  {
   "cell_type": "code",
   "execution_count": null,
   "metadata": {},
   "outputs": [],
   "source": []
  }
 ],
 "metadata": {
  "kernelspec": {
   "display_name": "Python 3",
   "language": "python",
   "name": "python3"
  },
  "language_info": {
   "codemirror_mode": {
    "name": "ipython",
    "version": 3
   },
   "file_extension": ".py",
   "mimetype": "text/x-python",
   "name": "python",
   "nbconvert_exporter": "python",
   "pygments_lexer": "ipython3",
   "version": "3.7.3"
  },
  "toc": {
   "base_numbering": 1,
   "nav_menu": {},
   "number_sections": true,
   "sideBar": true,
   "skip_h1_title": true,
   "title_cell": "Table of Contents",
   "title_sidebar": "Contents",
   "toc_cell": false,
   "toc_position": {},
   "toc_section_display": true,
   "toc_window_display": true
  },
  "varInspector": {
   "cols": {
    "lenName": 16,
    "lenType": 16,
    "lenVar": 40
   },
   "kernels_config": {
    "python": {
     "delete_cmd_postfix": "",
     "delete_cmd_prefix": "del ",
     "library": "var_list.py",
     "varRefreshCmd": "print(var_dic_list())"
    },
    "r": {
     "delete_cmd_postfix": ") ",
     "delete_cmd_prefix": "rm(",
     "library": "var_list.r",
     "varRefreshCmd": "cat(var_dic_list()) "
    }
   },
   "types_to_exclude": [
    "module",
    "function",
    "builtin_function_or_method",
    "instance",
    "_Feature"
   ],
   "window_display": false
  }
 },
 "nbformat": 4,
 "nbformat_minor": 2
}
