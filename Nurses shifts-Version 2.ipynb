{
 "cells": [
  {
   "cell_type": "markdown",
   "metadata": {},
   "source": [
    "Ruggiero Seccia\n",
    "\n",
    "La Sapienza University of Rome\n",
    "\n",
    "Email: ruggiero.seccia@uniroma1.it\n",
    "\n",
    "Phone: +39 3318606535\n",
    "\n",
    "# Optimal management of nurses' shifts (V2)\n",
    "\n",
    "\n",
    "This notebook implements the second version of the scheduling problem. An extension of this model is reported in _Version 3_ "
   ]
  },
  {
   "cell_type": "markdown",
   "metadata": {},
   "source": [
    "## importing the packages"
   ]
  },
  {
   "cell_type": "code",
   "execution_count": 1,
   "metadata": {},
   "outputs": [],
   "source": [
    "import numpy as np\n",
    "try:\n",
    "    from docplex.mp.model import Model\n",
    "except:\n",
    "    !pip install docplex\n",
    "from docplex.mp.model import Model\n",
    "\n",
    "import pandas as pd\n",
    "\n",
    "try:\n",
    "    import ipywidgets\n",
    "except:\n",
    "    !pip install ipywidgets\n",
    "from ipywidgets import interact\n",
    "import ipywidgets as widgets\n",
    "import time"
   ]
  },
  {
   "cell_type": "markdown",
   "metadata": {},
   "source": [
    "## Parameters specification\n",
    "\n",
    "Let us consider a department in a hospital with a given number of nurses $N$. We want to organize their shifts for the next $T$ days, e.g. $T=7$ one week or $T=30$ next month,  and for all the followings so to minimize the effort required by the staff to satisfy the demand. By contract, each nurse $i$ has to work $H_i$ hours over the time horizon $T$ (e.g. each nurse must work at least 36 hours per week, $H=36$ and $T=7$). If the $i$th nurse works for a number of hours higher than $H_i$, then it is counted as extra work and then paid more by the healthcare structure. Each day three shifts need to be covered by the nurses: morning, afternoon and night. Each shift $s$ requires $R_s$ nurses and lasts $h_s$ hours. Each nurse cannot cover more than one shift per day. Moreover, we have the further constraint that if a nurse covers a night shift then they need to rest and cannot work the following day.\n",
    "\n",
    "Let us  consider the parameter $p_i$ which brings information about the previous period. Namely, $p_i$ is a boolean parameter such that \n",
    "\\begin{equation*}\n",
    "    p_i=\n",
    "    \\begin{cases}\n",
    "    1  \\qquad \\text{if the } i \\text{th nurse worked on the last day of the previous period} \\\\\n",
    "    0 \\qquad \\text{otherwise.}\n",
    "    \\end{cases}\n",
    "\\end{equation*}\n"
   ]
  },
  {
   "cell_type": "code",
   "execution_count": 2,
   "metadata": {},
   "outputs": [],
   "source": [
    "# number of nurses\n",
    "N = 10\n",
    "nurses = ['Nurse_' +str(n) for n in range(N)]\n",
    "# periods to schedule\n",
    "T = 7\n",
    "days = ['Day_' +str(t) for t in range(T)]\n",
    "# shifts\n",
    "S = ['Morning', 'Afternoon', 'Night']\n",
    "\n",
    "\n",
    "# standard number of hours by contract per nurse\n",
    "H_base = 36\n",
    "H = {n:j for n in nurses for j in [H_base]*len(nurses)}\n",
    "\n",
    "# update some nurses values\n",
    "# H['Nurse_1'] =20\n",
    "\n",
    "# number of nurses required per shift\n",
    "R = {'Morning' : 3,\n",
    "     'Afternoon' : 3,\n",
    "     'Night' : 3}\n",
    "# duration of each shift\n",
    "h = {'Morning' : 7,\n",
    "     'Afternoon' : 8,\n",
    "     'Night' : 9}\n",
    "\n",
    "# list of nurses that on the last day of the previous period covered  the night shift\n",
    "p_list= ['Nurse_0']\n",
    "# dictionary with the values of p per each nurse\n",
    "p = {n:0 for n in nurses}\n",
    "# update the dictionary with p_list\n",
    "for pp in p_list:\n",
    "    p[pp]=1\n"
   ]
  },
  {
   "cell_type": "markdown",
   "metadata": {},
   "source": [
    "## Optimization model \n",
    "\n",
    "To formulate this optimization problem, let us introduce the binary variable $x_{ist}\\in\\{0,1\\}$ such that \n",
    "\\begin{equation*}\n",
    "    x_{ist}=\n",
    "    \\begin{cases}\n",
    "    1  \\qquad \\text{if nurse } i \\text{th covers shift } s \\text{th on day } t\\text{th} \\\\\n",
    "    0 \\qquad \\text{otherwise}\n",
    "    \\end{cases}\n",
    "\\end{equation*}\n",
    "\n",
    "Moreover we define the variable $\\alpha_{st} \\in R $ which represents the number of nurses that are missing to satisfy the minimum demand of the $s$th shift on the $t$th department.\n",
    "\n",
    "We want to find the optimal schedule $x^\\star$ such that the number of hours worked by nurses is minimized and all the department's constraints are satisfied. Of course, we are also interested in minimizing the number of shifts that cannot be covered by the nurses ($\\sum_{st}\\alpha_st$)"
   ]
  },
  {
   "cell_type": "code",
   "execution_count": 3,
   "metadata": {},
   "outputs": [],
   "source": [
    "mdl = Model('Scheduling')\n",
    "\n",
    "# create the variables\n",
    "idx_x = [(i,s,t) for i in nurses for s in S for t in days]\n",
    "x = mdl.binary_var_dict(idx_x)\n",
    "idx_alpha = [(s,t) for s in S for t in days]\n",
    "alpha = mdl.continuous_var_dict(idx_alpha)\n"
   ]
  },
  {
   "cell_type": "markdown",
   "metadata": {},
   "source": [
    "### Objective function\n",
    "The objective function is asking to minimize the overall number of hours worked by all nurses within the period under consideration while reducing the most the number of hours not covered by nurses\n",
    "\n",
    "\\begin{equation*}\n",
    "\\begin{aligned}\n",
    "& \\underset{x_{ist}\\in\\{0,1\\},\\alpha_{st}\\in R}{\\text{min}}\n",
    "& & \\sum_{i=1}^N\\sum_{s=1}^3\\sum_{t=1}^T x_{ist}h_s +\n",
    "  \\rho \\sum_{s=1}^3\\sum_{t=1}^T\\alpha_{st}\\\\\n",
    "\\end{aligned}\n",
    "\\end{equation*}\n",
    "\n",
    "with $\\rho>\\max_s h_s$. Note that, even if $\\alpha$ represents a discrete quantity, it is modeled as a continuous variable since at the optimum it will achieve only integer values."
   ]
  },
  {
   "cell_type": "code",
   "execution_count": 4,
   "metadata": {},
   "outputs": [],
   "source": [
    "# objective function definition\n",
    "mdl.minimize(mdl.sum(x[i,s,t]*h[s] for i in nurses for s in S for t in days)\n",
    "             +(max(h.values())+1)*mdl.sum(alpha[s,t] for s in S for t in days))"
   ]
  },
  {
   "cell_type": "markdown",
   "metadata": {},
   "source": [
    "### Constraints\n",
    "- Each person cannot cover more than one shift in the same day. \n",
    "$$ \\sum_{s=1}^3x_{ist}\\leq 1 \\qquad \\forall i=1,...,N \\;t=1,...,T \\label{eq: 21}$$\n",
    "\n",
    "- The number of personnel per each shift in each day is satisfied. \n",
    "$$\\sum_{i=1}^N x_{ist} +\\alpha_{st} \\geq R_{s} \\qquad \\forall s=1,...,3 \\; t=1,...,T  \\label{eq: 22} $$\n",
    "\n",
    "- Each nurse works at minimum the number of hours required by contract. \n",
    "$$ \\sum_{s=1}^3\\sum_{t=1}^T x_{ist}h_s\\geq H_i \\qquad \\forall i=1,...,N \\label{eq: 23}$$\n",
    "\n",
    "- If a nurse covers a night shift, then the next day they cannot work;\n",
    "$$ x_{i3t}+\\sum_{s=1}^3 x_{ist+1}\\leq 1 \\qquad \\forall i=1,...N \\; t=1,...,T-1\\label{eq: 24}$$\n",
    "\n",
    "- Each nurse cannot work on the first day of the new period if they worked on the last day of the previous period. \n",
    "$$ \\sum_{s=1}^3 x_{is1}\\leq (1-p_i) \\qquad \\forall i=1,...,N  \\label{eq: 25}$$\n"
   ]
  },
  {
   "cell_type": "code",
   "execution_count": 5,
   "metadata": {},
   "outputs": [],
   "source": [
    "mdl.add_constraints(mdl.sum(x[i,s,t] for s in S) <= 1 for i in nurses for t in days);\n",
    "\n",
    "mdl.add_constraints(mdl.sum(x[i,s,t] for i in nurses)+alpha[s,t]>= R[s]  for s in S for t in days);\n",
    "\n",
    "mdl.add_constraints(mdl.sum(x[i,s,t]*h[s] for s in S for t in days) >= H[i] for i in nurses );\n",
    "\n",
    "mdl.add_constraints( x[i,S[-1],t] + mdl.sum(x[i,s,days[j+1]] for s in S )<= 1 for i in nurses for j,t in enumerate(days[:-1]) );\n",
    "\n",
    "mdl.add_constraints(mdl.sum(x[i,s,days[0]] for s in S ) <= (1-p[i]) for i in nurses );"
   ]
  },
  {
   "cell_type": "markdown",
   "metadata": {},
   "source": [
    "### Solve the problem"
   ]
  },
  {
   "cell_type": "code",
   "execution_count": 6,
   "metadata": {
    "scrolled": false
   },
   "outputs": [
    {
     "name": "stdout",
     "output_type": "stream",
     "text": [
      "Model: Scheduling\n",
      " - number of variables: 231\n",
      "   - binary=210, integer=0, continuous=21\n",
      " - number of constraints: 171\n",
      "   - linear=171\n",
      " - parameters: defaults\n",
      " - problem type is: MILP\n"
     ]
    },
    {
     "data": {
      "text/plain": [
       "docplex.mp.SolveDetails(time=0.047,status='integer optimal solution')"
      ]
     },
     "execution_count": 6,
     "metadata": {},
     "output_type": "execute_result"
    }
   ],
   "source": [
    "mdl.print_information()\n",
    "mdl.solve()\n",
    "mdl.solution.solve_details"
   ]
  },
  {
   "cell_type": "code",
   "execution_count": 7,
   "metadata": {},
   "outputs": [
    {
     "data": {
      "text/plain": [
       "True"
      ]
     },
     "execution_count": 7,
     "metadata": {},
     "output_type": "execute_result"
    }
   ],
   "source": [
    "status = mdl.solve_details.status == 'integer optimal solution'\n",
    "status"
   ]
  },
  {
   "cell_type": "markdown",
   "metadata": {},
   "source": [
    "## Analysing the solution\n",
    "\n",
    "Below we provide simple tools to analyse the solution obtained"
   ]
  },
  {
   "cell_type": "code",
   "execution_count": 8,
   "metadata": {},
   "outputs": [],
   "source": [
    "def x_star_to_pandas(x):\n",
    "    '''\n",
    "    takes in input the solution of the optimization problem as a dictionary \n",
    "    returns the solution as a dataframe \n",
    "    '''\n",
    "    sol = pd.DataFrame(columns = ['Nurse', 'Shift', 'Day'])\n",
    "    k = 0\n",
    "    for key, value in x.items():\n",
    "        if value>0:\n",
    "            sol.loc[k] =np.array([i for i in key])\n",
    "            k+=1\n",
    "    return sol"
   ]
  },
  {
   "cell_type": "code",
   "execution_count": 9,
   "metadata": {
    "scrolled": true
   },
   "outputs": [
    {
     "data": {
      "text/html": [
       "<div>\n",
       "<style scoped>\n",
       "    .dataframe tbody tr th:only-of-type {\n",
       "        vertical-align: middle;\n",
       "    }\n",
       "\n",
       "    .dataframe tbody tr th {\n",
       "        vertical-align: top;\n",
       "    }\n",
       "\n",
       "    .dataframe thead th {\n",
       "        text-align: right;\n",
       "    }\n",
       "</style>\n",
       "<table border=\"1\" class=\"dataframe\">\n",
       "  <thead>\n",
       "    <tr style=\"text-align: right;\">\n",
       "      <th></th>\n",
       "      <th>Nurse</th>\n",
       "      <th>Shift</th>\n",
       "      <th>Day</th>\n",
       "    </tr>\n",
       "  </thead>\n",
       "  <tbody>\n",
       "    <tr>\n",
       "      <th>0</th>\n",
       "      <td>Nurse_0</td>\n",
       "      <td>Morning</td>\n",
       "      <td>Day_6</td>\n",
       "    </tr>\n",
       "    <tr>\n",
       "      <th>1</th>\n",
       "      <td>Nurse_0</td>\n",
       "      <td>Afternoon</td>\n",
       "      <td>Day_1</td>\n",
       "    </tr>\n",
       "    <tr>\n",
       "      <th>2</th>\n",
       "      <td>Nurse_0</td>\n",
       "      <td>Afternoon</td>\n",
       "      <td>Day_2</td>\n",
       "    </tr>\n",
       "    <tr>\n",
       "      <th>3</th>\n",
       "      <td>Nurse_0</td>\n",
       "      <td>Afternoon</td>\n",
       "      <td>Day_3</td>\n",
       "    </tr>\n",
       "    <tr>\n",
       "      <th>4</th>\n",
       "      <td>Nurse_0</td>\n",
       "      <td>Night</td>\n",
       "      <td>Day_4</td>\n",
       "    </tr>\n",
       "  </tbody>\n",
       "</table>\n",
       "</div>"
      ],
      "text/plain": [
       "     Nurse      Shift    Day\n",
       "0  Nurse_0    Morning  Day_6\n",
       "1  Nurse_0  Afternoon  Day_1\n",
       "2  Nurse_0  Afternoon  Day_2\n",
       "3  Nurse_0  Afternoon  Day_3\n",
       "4  Nurse_0      Night  Day_4"
      ]
     },
     "execution_count": 9,
     "metadata": {},
     "output_type": "execute_result"
    }
   ],
   "source": [
    "# transform the solution into a dataframe\n",
    "x_star_dict =mdl.solution.get_value_dict(x)\n",
    "sol_x = x_star_to_pandas(x_star_dict)\n",
    "sol_x.head()"
   ]
  },
  {
   "cell_type": "markdown",
   "metadata": {},
   "source": [
    "### Is the number of nurses $N$ enough to satisfy the demand?"
   ]
  },
  {
   "cell_type": "code",
   "execution_count": 10,
   "metadata": {
    "scrolled": true
   },
   "outputs": [
    {
     "name": "stdout",
     "output_type": "stream",
     "text": [
      "NO! The number of nurses is not enough to satisfy the demand. alpha_star=  2.0\n"
     ]
    }
   ],
   "source": [
    "alpha_star_dict =mdl.solution.get_value_dict(alpha)\n",
    "if max(list(alpha_star_dict.values()))==0:\n",
    "    print('YES! The number of nurses is enough to satisfy the demand')\n",
    "else:\n",
    "    print('NO! The number of nurses is not enough to satisfy the demand. alpha_star= ',max(list(alpha_star_dict.values())))\n"
   ]
  },
  {
   "cell_type": "markdown",
   "metadata": {},
   "source": [
    "### How many hours does each nurse work over the period?"
   ]
  },
  {
   "cell_type": "code",
   "execution_count": 11,
   "metadata": {
    "scrolled": false
   },
   "outputs": [
    {
     "data": {
      "text/plain": [
       "{'Nurse_0': 40,\n",
       " 'Nurse_1': 43,\n",
       " 'Nurse_2': 40,\n",
       " 'Nurse_3': 56,\n",
       " 'Nurse_4': 50,\n",
       " 'Nurse_5': 44,\n",
       " 'Nurse_6': 47,\n",
       " 'Nurse_7': 40,\n",
       " 'Nurse_8': 43,\n",
       " 'Nurse_9': 47}"
      ]
     },
     "execution_count": 11,
     "metadata": {},
     "output_type": "execute_result"
    }
   ],
   "source": [
    "worked_hours = {n:0 for n in nurses}\n",
    "\n",
    "for i,j in sol_x.iterrows():\n",
    "    worked_hours[j['Nurse']]+=h[j['Shift']]\n",
    "worked_hours"
   ]
  },
  {
   "cell_type": "markdown",
   "metadata": {},
   "source": [
    "### Maximum number of hours worked:"
   ]
  },
  {
   "cell_type": "code",
   "execution_count": 12,
   "metadata": {},
   "outputs": [
    {
     "data": {
      "text/plain": [
       "56"
      ]
     },
     "execution_count": 12,
     "metadata": {},
     "output_type": "execute_result"
    }
   ],
   "source": [
    "max(worked_hours.values())"
   ]
  },
  {
   "cell_type": "markdown",
   "metadata": {},
   "source": [
    "### Average of hours worked by day"
   ]
  },
  {
   "cell_type": "code",
   "execution_count": 13,
   "metadata": {
    "scrolled": true
   },
   "outputs": [
    {
     "name": "stdout",
     "output_type": "stream",
     "text": [
      "Nurse_0 : 5.714285714285714\n",
      "Nurse_1 : 6.142857142857143\n",
      "Nurse_2 : 5.714285714285714\n",
      "Nurse_3 : 8.0\n",
      "Nurse_4 : 7.142857142857143\n",
      "Nurse_5 : 6.285714285714286\n",
      "Nurse_6 : 6.714285714285714\n",
      "Nurse_7 : 5.714285714285714\n",
      "Nurse_8 : 6.142857142857143\n",
      "Nurse_9 : 6.714285714285714\n"
     ]
    }
   ],
   "source": [
    "for i, j in worked_hours.items():\n",
    "    print(i,':',j/T)"
   ]
  },
  {
   "cell_type": "markdown",
   "metadata": {},
   "source": [
    "### Visualization tool\n",
    "\n",
    "Below we provide a tool to check the schedule. "
   ]
  },
  {
   "cell_type": "code",
   "execution_count": 14,
   "metadata": {},
   "outputs": [],
   "source": [
    "# remove warning from pandas (in the viz_tool it does what we need)\n",
    "import warnings\n",
    "warnings.simplefilter(action='ignore')"
   ]
  },
  {
   "cell_type": "code",
   "execution_count": 15,
   "metadata": {},
   "outputs": [
    {
     "data": {
      "application/vnd.jupyter.widget-view+json": {
       "model_id": "0a6e449f692a4a948fe81012a624b702",
       "version_major": 2,
       "version_minor": 0
      },
      "text/plain": [
       "interactive(children=(Dropdown(description='nurse', index=10, options=('Nurse_0', 'Nurse_1', 'Nurse_2', 'Nurse…"
      ]
     },
     "metadata": {},
     "output_type": "display_data"
    }
   ],
   "source": [
    "\n",
    "def viz_tool(nurse,shift,day):\n",
    "    '''\n",
    "    interactive function to extract the information required:\n",
    "    if a value is 'All' then it returns all the values for that specific feature\n",
    "    '''\n",
    "    global nurses,S,days\n",
    "    \n",
    "    if nurse == 'All':\n",
    "        df_tmp = sol_x[(sol_x['Nurse'].isin(nurses))]\n",
    "    else:\n",
    "        df_tmp = sol_x[(sol_x['Nurse']==nurse)]\n",
    "\n",
    "    if shift == 'All':\n",
    "        df_tmp = df_tmp[(sol_x['Shift'].isin(S))]\n",
    "    else:\n",
    "        df_tmp = df_tmp[(sol_x['Shift']==shift)]\n",
    "\n",
    "    if day == 'All':\n",
    "        df_tmp = df_tmp[(sol_x['Day'].isin(days))]    \n",
    "    else:\n",
    "        df_tmp = df_tmp[(sol_x['Day']==day)]\n",
    "\n",
    "    print(df_tmp)\n",
    "\n",
    "interact(viz_tool, nurse = widgets.Dropdown(value=\"All\",placeholder='Type something', options=nurses+['All']),\n",
    "              shift=widgets.Dropdown(value='All',placeholder='Type something', options=S+['All']),\n",
    "              day = widgets.Dropdown(value=\"All\",placeholder='Type something', options=days+['All'])\n",
    "        );\n",
    "\n"
   ]
  },
  {
   "cell_type": "markdown",
   "metadata": {},
   "source": [
    "## Minimizing the worst case scenario\n",
    "\n",
    " We want to modify the objective function so to minimize the worst case scenario, i.e. minimize the maximum number of hours done by a nurse. It can be easily accomplished by introducing the further continuous variable $y\\in R$, rewriting the objective function as\n",
    "\\begin{equation*}\n",
    "    \\underset{x_{ist}\\in\\{0,1\\},y\\in R,\\alpha_{st}\\in R}{\\text{min}} \\quad  y +\\rho \\sum_{s=1}^3\\sum_{t=1}^T\\alpha_{st}\n",
    "\\end{equation*}\n",
    "\n",
    "and introducing the set of constraints:\n",
    "\\begin{equation*}\n",
    "    y\\geq \\sum_{s=1}^3\\sum_{t=1}^T x_{ist}h_s \\qquad \\forall i=1,...,N\n",
    "\\end{equation*}"
   ]
  },
  {
   "cell_type": "code",
   "execution_count": 16,
   "metadata": {},
   "outputs": [],
   "source": [
    "# create the new variable for minimizing the worst case scenario\n",
    "y = mdl.continuous_var()\n",
    "\n",
    "# modify the objective function\n",
    "mdl.minimize(y\n",
    "             +(max(h.values())+1)*mdl.sum(alpha[s,t] for s in S for t in days))\n",
    "\n",
    "# add the linear constraint\n",
    "mdl.add_constraints( y>= mdl.sum( x[i,s,t]*h[s] for s in S for t in days) for i in nurses);"
   ]
  },
  {
   "cell_type": "code",
   "execution_count": 17,
   "metadata": {},
   "outputs": [
    {
     "name": "stdout",
     "output_type": "stream",
     "text": [
      "Model: Scheduling\n",
      " - number of variables: 232\n",
      "   - binary=210, integer=0, continuous=22\n",
      " - number of constraints: 181\n",
      "   - linear=181\n",
      " - parameters: defaults\n",
      " - problem type is: MILP\n"
     ]
    },
    {
     "data": {
      "text/plain": [
       "docplex.mp.SolveDetails(time=0.343,status='integer optimal solution')"
      ]
     },
     "execution_count": 17,
     "metadata": {},
     "output_type": "execute_result"
    }
   ],
   "source": [
    "mdl.print_information()\n",
    "mdl.solve()\n",
    "mdl.solution.solve_details"
   ]
  },
  {
   "cell_type": "markdown",
   "metadata": {},
   "source": [
    "## Comparing the new solution with the old one"
   ]
  },
  {
   "cell_type": "code",
   "execution_count": 18,
   "metadata": {
    "scrolled": true
   },
   "outputs": [
    {
     "data": {
      "text/html": [
       "<div>\n",
       "<style scoped>\n",
       "    .dataframe tbody tr th:only-of-type {\n",
       "        vertical-align: middle;\n",
       "    }\n",
       "\n",
       "    .dataframe tbody tr th {\n",
       "        vertical-align: top;\n",
       "    }\n",
       "\n",
       "    .dataframe thead th {\n",
       "        text-align: right;\n",
       "    }\n",
       "</style>\n",
       "<table border=\"1\" class=\"dataframe\">\n",
       "  <thead>\n",
       "    <tr style=\"text-align: right;\">\n",
       "      <th></th>\n",
       "      <th>Nurse</th>\n",
       "      <th>Shift</th>\n",
       "      <th>Day</th>\n",
       "    </tr>\n",
       "  </thead>\n",
       "  <tbody>\n",
       "    <tr>\n",
       "      <th>0</th>\n",
       "      <td>Nurse_0</td>\n",
       "      <td>Morning</td>\n",
       "      <td>Day_1</td>\n",
       "    </tr>\n",
       "    <tr>\n",
       "      <th>1</th>\n",
       "      <td>Nurse_0</td>\n",
       "      <td>Morning</td>\n",
       "      <td>Day_4</td>\n",
       "    </tr>\n",
       "    <tr>\n",
       "      <th>2</th>\n",
       "      <td>Nurse_0</td>\n",
       "      <td>Morning</td>\n",
       "      <td>Day_5</td>\n",
       "    </tr>\n",
       "    <tr>\n",
       "      <th>3</th>\n",
       "      <td>Nurse_0</td>\n",
       "      <td>Afternoon</td>\n",
       "      <td>Day_2</td>\n",
       "    </tr>\n",
       "    <tr>\n",
       "      <th>4</th>\n",
       "      <td>Nurse_0</td>\n",
       "      <td>Afternoon</td>\n",
       "      <td>Day_3</td>\n",
       "    </tr>\n",
       "    <tr>\n",
       "      <th>5</th>\n",
       "      <td>Nurse_0</td>\n",
       "      <td>Night</td>\n",
       "      <td>Day_6</td>\n",
       "    </tr>\n",
       "    <tr>\n",
       "      <th>6</th>\n",
       "      <td>Nurse_1</td>\n",
       "      <td>Afternoon</td>\n",
       "      <td>Day_2</td>\n",
       "    </tr>\n",
       "    <tr>\n",
       "      <th>7</th>\n",
       "      <td>Nurse_1</td>\n",
       "      <td>Afternoon</td>\n",
       "      <td>Day_3</td>\n",
       "    </tr>\n",
       "    <tr>\n",
       "      <th>8</th>\n",
       "      <td>Nurse_1</td>\n",
       "      <td>Night</td>\n",
       "      <td>Day_0</td>\n",
       "    </tr>\n",
       "    <tr>\n",
       "      <th>9</th>\n",
       "      <td>Nurse_1</td>\n",
       "      <td>Night</td>\n",
       "      <td>Day_4</td>\n",
       "    </tr>\n",
       "    <tr>\n",
       "      <th>10</th>\n",
       "      <td>Nurse_1</td>\n",
       "      <td>Night</td>\n",
       "      <td>Day_6</td>\n",
       "    </tr>\n",
       "    <tr>\n",
       "      <th>11</th>\n",
       "      <td>Nurse_2</td>\n",
       "      <td>Afternoon</td>\n",
       "      <td>Day_4</td>\n",
       "    </tr>\n",
       "    <tr>\n",
       "      <th>12</th>\n",
       "      <td>Nurse_2</td>\n",
       "      <td>Afternoon</td>\n",
       "      <td>Day_5</td>\n",
       "    </tr>\n",
       "    <tr>\n",
       "      <th>13</th>\n",
       "      <td>Nurse_2</td>\n",
       "      <td>Night</td>\n",
       "      <td>Day_0</td>\n",
       "    </tr>\n",
       "    <tr>\n",
       "      <th>14</th>\n",
       "      <td>Nurse_2</td>\n",
       "      <td>Night</td>\n",
       "      <td>Day_2</td>\n",
       "    </tr>\n",
       "    <tr>\n",
       "      <th>15</th>\n",
       "      <td>Nurse_2</td>\n",
       "      <td>Night</td>\n",
       "      <td>Day_6</td>\n",
       "    </tr>\n",
       "    <tr>\n",
       "      <th>16</th>\n",
       "      <td>Nurse_3</td>\n",
       "      <td>Morning</td>\n",
       "      <td>Day_2</td>\n",
       "    </tr>\n",
       "    <tr>\n",
       "      <th>17</th>\n",
       "      <td>Nurse_3</td>\n",
       "      <td>Morning</td>\n",
       "      <td>Day_3</td>\n",
       "    </tr>\n",
       "    <tr>\n",
       "      <th>18</th>\n",
       "      <td>Nurse_3</td>\n",
       "      <td>Morning</td>\n",
       "      <td>Day_6</td>\n",
       "    </tr>\n",
       "    <tr>\n",
       "      <th>19</th>\n",
       "      <td>Nurse_3</td>\n",
       "      <td>Afternoon</td>\n",
       "      <td>Day_0</td>\n",
       "    </tr>\n",
       "    <tr>\n",
       "      <th>20</th>\n",
       "      <td>Nurse_3</td>\n",
       "      <td>Afternoon</td>\n",
       "      <td>Day_1</td>\n",
       "    </tr>\n",
       "    <tr>\n",
       "      <th>21</th>\n",
       "      <td>Nurse_3</td>\n",
       "      <td>Night</td>\n",
       "      <td>Day_4</td>\n",
       "    </tr>\n",
       "    <tr>\n",
       "      <th>22</th>\n",
       "      <td>Nurse_4</td>\n",
       "      <td>Morning</td>\n",
       "      <td>Day_0</td>\n",
       "    </tr>\n",
       "    <tr>\n",
       "      <th>23</th>\n",
       "      <td>Nurse_4</td>\n",
       "      <td>Morning</td>\n",
       "      <td>Day_3</td>\n",
       "    </tr>\n",
       "    <tr>\n",
       "      <th>24</th>\n",
       "      <td>Nurse_4</td>\n",
       "      <td>Morning</td>\n",
       "      <td>Day_5</td>\n",
       "    </tr>\n",
       "    <tr>\n",
       "      <th>25</th>\n",
       "      <td>Nurse_4</td>\n",
       "      <td>Afternoon</td>\n",
       "      <td>Day_4</td>\n",
       "    </tr>\n",
       "    <tr>\n",
       "      <th>26</th>\n",
       "      <td>Nurse_4</td>\n",
       "      <td>Afternoon</td>\n",
       "      <td>Day_6</td>\n",
       "    </tr>\n",
       "    <tr>\n",
       "      <th>27</th>\n",
       "      <td>Nurse_4</td>\n",
       "      <td>Night</td>\n",
       "      <td>Day_1</td>\n",
       "    </tr>\n",
       "    <tr>\n",
       "      <th>28</th>\n",
       "      <td>Nurse_5</td>\n",
       "      <td>Morning</td>\n",
       "      <td>Day_0</td>\n",
       "    </tr>\n",
       "    <tr>\n",
       "      <th>29</th>\n",
       "      <td>Nurse_5</td>\n",
       "      <td>Morning</td>\n",
       "      <td>Day_2</td>\n",
       "    </tr>\n",
       "    <tr>\n",
       "      <th>30</th>\n",
       "      <td>Nurse_5</td>\n",
       "      <td>Morning</td>\n",
       "      <td>Day_6</td>\n",
       "    </tr>\n",
       "    <tr>\n",
       "      <th>31</th>\n",
       "      <td>Nurse_5</td>\n",
       "      <td>Afternoon</td>\n",
       "      <td>Day_1</td>\n",
       "    </tr>\n",
       "    <tr>\n",
       "      <th>32</th>\n",
       "      <td>Nurse_5</td>\n",
       "      <td>Afternoon</td>\n",
       "      <td>Day_5</td>\n",
       "    </tr>\n",
       "    <tr>\n",
       "      <th>33</th>\n",
       "      <td>Nurse_5</td>\n",
       "      <td>Night</td>\n",
       "      <td>Day_3</td>\n",
       "    </tr>\n",
       "    <tr>\n",
       "      <th>34</th>\n",
       "      <td>Nurse_6</td>\n",
       "      <td>Afternoon</td>\n",
       "      <td>Day_2</td>\n",
       "    </tr>\n",
       "    <tr>\n",
       "      <th>35</th>\n",
       "      <td>Nurse_6</td>\n",
       "      <td>Afternoon</td>\n",
       "      <td>Day_3</td>\n",
       "    </tr>\n",
       "    <tr>\n",
       "      <th>36</th>\n",
       "      <td>Nurse_6</td>\n",
       "      <td>Afternoon</td>\n",
       "      <td>Day_6</td>\n",
       "    </tr>\n",
       "    <tr>\n",
       "      <th>37</th>\n",
       "      <td>Nurse_6</td>\n",
       "      <td>Night</td>\n",
       "      <td>Day_0</td>\n",
       "    </tr>\n",
       "    <tr>\n",
       "      <th>38</th>\n",
       "      <td>Nurse_6</td>\n",
       "      <td>Night</td>\n",
       "      <td>Day_4</td>\n",
       "    </tr>\n",
       "    <tr>\n",
       "      <th>39</th>\n",
       "      <td>Nurse_7</td>\n",
       "      <td>Morning</td>\n",
       "      <td>Day_0</td>\n",
       "    </tr>\n",
       "    <tr>\n",
       "      <th>40</th>\n",
       "      <td>Nurse_7</td>\n",
       "      <td>Morning</td>\n",
       "      <td>Day_1</td>\n",
       "    </tr>\n",
       "    <tr>\n",
       "      <th>41</th>\n",
       "      <td>Nurse_7</td>\n",
       "      <td>Morning</td>\n",
       "      <td>Day_4</td>\n",
       "    </tr>\n",
       "    <tr>\n",
       "      <th>42</th>\n",
       "      <td>Nurse_7</td>\n",
       "      <td>Afternoon</td>\n",
       "      <td>Day_5</td>\n",
       "    </tr>\n",
       "    <tr>\n",
       "      <th>43</th>\n",
       "      <td>Nurse_7</td>\n",
       "      <td>Afternoon</td>\n",
       "      <td>Day_6</td>\n",
       "    </tr>\n",
       "    <tr>\n",
       "      <th>44</th>\n",
       "      <td>Nurse_7</td>\n",
       "      <td>Night</td>\n",
       "      <td>Day_2</td>\n",
       "    </tr>\n",
       "    <tr>\n",
       "      <th>45</th>\n",
       "      <td>Nurse_8</td>\n",
       "      <td>Morning</td>\n",
       "      <td>Day_1</td>\n",
       "    </tr>\n",
       "    <tr>\n",
       "      <th>46</th>\n",
       "      <td>Nurse_8</td>\n",
       "      <td>Morning</td>\n",
       "      <td>Day_2</td>\n",
       "    </tr>\n",
       "    <tr>\n",
       "      <th>47</th>\n",
       "      <td>Nurse_8</td>\n",
       "      <td>Morning</td>\n",
       "      <td>Day_3</td>\n",
       "    </tr>\n",
       "    <tr>\n",
       "      <th>48</th>\n",
       "      <td>Nurse_8</td>\n",
       "      <td>Afternoon</td>\n",
       "      <td>Day_0</td>\n",
       "    </tr>\n",
       "    <tr>\n",
       "      <th>49</th>\n",
       "      <td>Nurse_8</td>\n",
       "      <td>Afternoon</td>\n",
       "      <td>Day_4</td>\n",
       "    </tr>\n",
       "    <tr>\n",
       "      <th>50</th>\n",
       "      <td>Nurse_8</td>\n",
       "      <td>Night</td>\n",
       "      <td>Day_5</td>\n",
       "    </tr>\n",
       "    <tr>\n",
       "      <th>51</th>\n",
       "      <td>Nurse_9</td>\n",
       "      <td>Morning</td>\n",
       "      <td>Day_4</td>\n",
       "    </tr>\n",
       "    <tr>\n",
       "      <th>52</th>\n",
       "      <td>Nurse_9</td>\n",
       "      <td>Morning</td>\n",
       "      <td>Day_5</td>\n",
       "    </tr>\n",
       "    <tr>\n",
       "      <th>53</th>\n",
       "      <td>Nurse_9</td>\n",
       "      <td>Morning</td>\n",
       "      <td>Day_6</td>\n",
       "    </tr>\n",
       "    <tr>\n",
       "      <th>54</th>\n",
       "      <td>Nurse_9</td>\n",
       "      <td>Afternoon</td>\n",
       "      <td>Day_0</td>\n",
       "    </tr>\n",
       "    <tr>\n",
       "      <th>55</th>\n",
       "      <td>Nurse_9</td>\n",
       "      <td>Afternoon</td>\n",
       "      <td>Day_1</td>\n",
       "    </tr>\n",
       "    <tr>\n",
       "      <th>56</th>\n",
       "      <td>Nurse_9</td>\n",
       "      <td>Night</td>\n",
       "      <td>Day_2</td>\n",
       "    </tr>\n",
       "  </tbody>\n",
       "</table>\n",
       "</div>"
      ],
      "text/plain": [
       "      Nurse      Shift    Day\n",
       "0   Nurse_0    Morning  Day_1\n",
       "1   Nurse_0    Morning  Day_4\n",
       "2   Nurse_0    Morning  Day_5\n",
       "3   Nurse_0  Afternoon  Day_2\n",
       "4   Nurse_0  Afternoon  Day_3\n",
       "5   Nurse_0      Night  Day_6\n",
       "6   Nurse_1  Afternoon  Day_2\n",
       "7   Nurse_1  Afternoon  Day_3\n",
       "8   Nurse_1      Night  Day_0\n",
       "9   Nurse_1      Night  Day_4\n",
       "10  Nurse_1      Night  Day_6\n",
       "11  Nurse_2  Afternoon  Day_4\n",
       "12  Nurse_2  Afternoon  Day_5\n",
       "13  Nurse_2      Night  Day_0\n",
       "14  Nurse_2      Night  Day_2\n",
       "15  Nurse_2      Night  Day_6\n",
       "16  Nurse_3    Morning  Day_2\n",
       "17  Nurse_3    Morning  Day_3\n",
       "18  Nurse_3    Morning  Day_6\n",
       "19  Nurse_3  Afternoon  Day_0\n",
       "20  Nurse_3  Afternoon  Day_1\n",
       "21  Nurse_3      Night  Day_4\n",
       "22  Nurse_4    Morning  Day_0\n",
       "23  Nurse_4    Morning  Day_3\n",
       "24  Nurse_4    Morning  Day_5\n",
       "25  Nurse_4  Afternoon  Day_4\n",
       "26  Nurse_4  Afternoon  Day_6\n",
       "27  Nurse_4      Night  Day_1\n",
       "28  Nurse_5    Morning  Day_0\n",
       "29  Nurse_5    Morning  Day_2\n",
       "30  Nurse_5    Morning  Day_6\n",
       "31  Nurse_5  Afternoon  Day_1\n",
       "32  Nurse_5  Afternoon  Day_5\n",
       "33  Nurse_5      Night  Day_3\n",
       "34  Nurse_6  Afternoon  Day_2\n",
       "35  Nurse_6  Afternoon  Day_3\n",
       "36  Nurse_6  Afternoon  Day_6\n",
       "37  Nurse_6      Night  Day_0\n",
       "38  Nurse_6      Night  Day_4\n",
       "39  Nurse_7    Morning  Day_0\n",
       "40  Nurse_7    Morning  Day_1\n",
       "41  Nurse_7    Morning  Day_4\n",
       "42  Nurse_7  Afternoon  Day_5\n",
       "43  Nurse_7  Afternoon  Day_6\n",
       "44  Nurse_7      Night  Day_2\n",
       "45  Nurse_8    Morning  Day_1\n",
       "46  Nurse_8    Morning  Day_2\n",
       "47  Nurse_8    Morning  Day_3\n",
       "48  Nurse_8  Afternoon  Day_0\n",
       "49  Nurse_8  Afternoon  Day_4\n",
       "50  Nurse_8      Night  Day_5\n",
       "51  Nurse_9    Morning  Day_4\n",
       "52  Nurse_9    Morning  Day_5\n",
       "53  Nurse_9    Morning  Day_6\n",
       "54  Nurse_9  Afternoon  Day_0\n",
       "55  Nurse_9  Afternoon  Day_1\n",
       "56  Nurse_9      Night  Day_2"
      ]
     },
     "execution_count": 18,
     "metadata": {},
     "output_type": "execute_result"
    }
   ],
   "source": [
    "# transform the solution into a dataframe\n",
    "x_star_dict =mdl.solution.get_value_dict(x)\n",
    "sol_x = x_star_to_pandas(x_star_dict)\n",
    "sol_x"
   ]
  },
  {
   "cell_type": "markdown",
   "metadata": {},
   "source": [
    "### Compute number of hours worked"
   ]
  },
  {
   "cell_type": "code",
   "execution_count": 19,
   "metadata": {
    "scrolled": false
   },
   "outputs": [],
   "source": [
    "# number of hours worked by each nurse \n",
    "worked_hours_wc = {n:0 for n in nurses}\n",
    "\n",
    "for i,j in sol_x.iterrows():\n",
    "    worked_hours_wc[j['Nurse']]+=h[j['Shift']]\n"
   ]
  },
  {
   "cell_type": "markdown",
   "metadata": {},
   "source": [
    "#### Comparison with the previous solution\n",
    "\n",
    "Hours are more equally distributed!"
   ]
  },
  {
   "cell_type": "code",
   "execution_count": 20,
   "metadata": {},
   "outputs": [
    {
     "name": "stdout",
     "output_type": "stream",
     "text": [
      "Nurse      Old value  New value \n",
      "Nurse_0:   40         46        \n",
      "Nurse_1:   43         43        \n",
      "Nurse_2:   40         43        \n",
      "Nurse_3:   56         46        \n",
      "Nurse_4:   50         46        \n",
      "Nurse_5:   44         46        \n",
      "Nurse_6:   47         42        \n",
      "Nurse_7:   40         46        \n",
      "Nurse_8:   43         46        \n",
      "Nurse_9:   47         46        \n"
     ]
    }
   ],
   "source": [
    "print(\"{0:<10s} {1:<10s} {2:<10s}\".format(\"Nurse\",\"Old value\", \"New value\") )\n",
    "for i in worked_hours.keys():\n",
    "    print(\"{0:<10s} {1:<10.0f} {2:<10.0f}\".format(i+\":\",worked_hours[i],worked_hours_wc[i]) )"
   ]
  },
  {
   "cell_type": "markdown",
   "metadata": {},
   "source": [
    "### Maximum number of hours worked:"
   ]
  },
  {
   "cell_type": "code",
   "execution_count": 21,
   "metadata": {},
   "outputs": [
    {
     "name": "stdout",
     "output_type": "stream",
     "text": [
      "Maximum number of hours worked:\n",
      "Old value: 56 New value: 46\n"
     ]
    }
   ],
   "source": [
    "print('Maximum number of hours worked:')\n",
    "print(\"Old value: {0:>2.0f} New value: {1:>2.0f}\".format(max(worked_hours.values()),max(worked_hours_wc.values())) )\n"
   ]
  },
  {
   "cell_type": "code",
   "execution_count": 22,
   "metadata": {
    "code_folding": [],
    "scrolled": true
   },
   "outputs": [
    {
     "data": {
      "application/vnd.jupyter.widget-view+json": {
       "model_id": "f278171e488e458fa1302e2d38317ed5",
       "version_major": 2,
       "version_minor": 0
      },
      "text/plain": [
       "interactive(children=(Dropdown(description='nurse', index=10, options=('Nurse_0', 'Nurse_1', 'Nurse_2', 'Nurse…"
      ]
     },
     "metadata": {},
     "output_type": "display_data"
    }
   ],
   "source": [
    "interact(viz_tool, nurse = widgets.Dropdown(value=\"All\",placeholder='Type something', options=nurses+['All']),\n",
    "              shift=widgets.Dropdown(value='All',placeholder='Type something', options=S+['All']),\n",
    "              day = widgets.Dropdown(value=\"All\",placeholder='Type something', options=days+['All']),\n",
    "        );\n",
    "\n"
   ]
  }
 ],
 "metadata": {
  "kernelspec": {
   "display_name": "Python 3",
   "language": "python",
   "name": "python3"
  },
  "language_info": {
   "codemirror_mode": {
    "name": "ipython",
    "version": 3
   },
   "file_extension": ".py",
   "mimetype": "text/x-python",
   "name": "python",
   "nbconvert_exporter": "python",
   "pygments_lexer": "ipython3",
   "version": "3.7.3"
  },
  "toc": {
   "base_numbering": 1,
   "nav_menu": {},
   "number_sections": true,
   "sideBar": true,
   "skip_h1_title": true,
   "title_cell": "Table of Contents",
   "title_sidebar": "Contents",
   "toc_cell": false,
   "toc_position": {},
   "toc_section_display": true,
   "toc_window_display": true
  },
  "varInspector": {
   "cols": {
    "lenName": 16,
    "lenType": 16,
    "lenVar": 40
   },
   "kernels_config": {
    "python": {
     "delete_cmd_postfix": "",
     "delete_cmd_prefix": "del ",
     "library": "var_list.py",
     "varRefreshCmd": "print(var_dic_list())"
    },
    "r": {
     "delete_cmd_postfix": ") ",
     "delete_cmd_prefix": "rm(",
     "library": "var_list.r",
     "varRefreshCmd": "cat(var_dic_list()) "
    }
   },
   "types_to_exclude": [
    "module",
    "function",
    "builtin_function_or_method",
    "instance",
    "_Feature"
   ],
   "window_display": false
  }
 },
 "nbformat": 4,
 "nbformat_minor": 2
}
