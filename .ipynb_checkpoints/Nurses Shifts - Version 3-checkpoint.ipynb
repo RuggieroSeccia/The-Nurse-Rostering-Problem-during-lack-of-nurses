{
 "cells": [
  {
   "cell_type": "markdown",
   "metadata": {},
   "source": [
    "<div style=\"text-align: right\"> Ruggiero Seccia </div>\n",
    "\n",
    "<div style=\"text-align: right\"> PhD candidate in Operations Research </div>\n",
    "\n",
    "<div style=\"text-align: right\"> La Sapienza University of Rome </div>\n",
    "<div style=\"text-align: right\"> Email: ruggiero.seccia@uniroma1.it </div>\n",
    "<div style=\"text-align: right\"> Phone: +39 3318606535 </div>\n",
    "\n",
    "\n",
    "# Standard Nurses Rostering Problem (V3)\n",
    "\n",
    "\n",
    "This notebook implements a version of the NRP problem in the case the number of nurses is not enough to guarantee the satisfaction of the working condition regulations within the ward. __We consider the possibility that each nurse are asked to work more than one shift per day but up to $H^{\\max}$ hours per period__. To this aim, we assume that each nurse can work for a fraction  $(1-c)$ or $c$ of the shift respectively before or after their shift. E.g. by fixing $c=0.5$ we allow each nurse to work half shift more before or after their proper shift, while by fixing $c=1$ we ask some nurses to cover their shift and the following as overtime work. This allow us to reduce the number of shifts with insufficient number of nurses while minimizing stress for the healthcare personnel by defining balanced schedules.\n",
    "\n",
    "\n",
    "The model implemented in this notebook corresponds to the formulation $(6)$ described [here](http://www.optimization-online.org/DB_FILE/2020/03/7712.pdf)"
   ]
  },
  {
   "cell_type": "markdown",
   "metadata": {},
   "source": [
    "## importing the packages"
   ]
  },
  {
   "cell_type": "code",
   "execution_count": 1,
   "metadata": {
    "ExecuteTime": {
     "end_time": "2020-04-01T10:51:57.186809Z",
     "start_time": "2020-04-01T10:51:55.716865Z"
    }
   },
   "outputs": [],
   "source": [
    "import numpy as np\n",
    "try:\n",
    "    from docplex.mp.model import Model\n",
    "except:\n",
    "    !pip install docplex\n",
    "from docplex.mp.model import Model\n",
    "\n",
    "import pandas as pd\n",
    "\n",
    "try:\n",
    "    import ipywidgets\n",
    "except:\n",
    "    !pip install ipywidgets\n",
    "from ipywidgets import interact\n",
    "import ipywidgets as widgets\n",
    "import copy"
   ]
  },
  {
   "cell_type": "markdown",
   "metadata": {},
   "source": [
    "## Parameters specification\n",
    "Let us consider a department in a hospital with a given number of nurses $N$. We want to organize their shifts for the next $T$ days, e.g. $T=7$ one week or $T=30$ next month,  and for all the followings so to minimize the effort required by the staff to satisfy the demand. By contract, each nurse $i$ has to work $H_i$ hours over the time horizon $T$ (e.g. each nurse must work at least 36 hours per week, $H=36$ and $T=7$). If the $i$th nurse works for a number of hours higher than $H_i$, then it is counted as extra work and then paid more by the healthcare structure. Each day three shifts need to be covered by the nurses: Morning, Afternoon, Night.\n",
    "\n",
    "Each shift $s$ requires $R_s$ nurses and lasts $h_s$ hours. Each nurse cannot cover more than one shift per day. Moreover, we have the further constraint that if a nurse covers a night shift then they need to rest and cannot work the following day. \n",
    "\n",
    "Let us  consider the parameter $p_i$ which brings information about the previous period. Namely, $p_i$ is a boolean parameter such that \n",
    "\\begin{equation*}\n",
    "    p_i=\n",
    "    \\begin{cases}\n",
    "    1  \\qquad \\text{if the } i \\text{th nurse worked on the last day of the previous period} \\\\\n",
    "    0 \\qquad \\text{otherwise.}\n",
    "    \\end{cases}\n",
    "\\end{equation*}\n",
    "\n",
    "Each nurse can work more than one shift per day but up to $H^{\\max}$ hours per period. In particular, each nurse is allowed to work an extra half shift before or after entering the assigned shift.\n",
    "\n",
    "(To get an estimate of the minimum values for $N$ to be sure that the number of nurses is large enough, we can consider that we need at least the number of nurses for covering each shift in a day plus the number of nurses to cover a night shift. E.g.\n",
    "if we need 5 nurses during the morning shift, 4 during the afternoon and 3 during the night, then overall we need $N=5+4+3+3$ nurses. Setting $N<15$ is likely to drive to solutions with $\\alpha>0$)\n"
   ]
  },
  {
   "cell_type": "code",
   "execution_count": 2,
   "metadata": {
    "ExecuteTime": {
     "end_time": "2020-04-01T10:51:57.219407Z",
     "start_time": "2020-04-01T10:51:57.190596Z"
    }
   },
   "outputs": [],
   "source": [
    "# number of nurses\n",
    "N = 10\n",
    "nurses = ['Nurse_' +str(n) for n in range(N)]\n",
    "# periods to schedule\n",
    "T = 7\n",
    "days = ['Day_' +str(t) for t in range(T)]\n",
    "# shifts\n",
    "S = ['Morning', 'Afternoon', 'Night']\n",
    "\n",
    "\n",
    "# standard number of hours by contract per nurse (e.g. 6 hours per day, 36 per week)\n",
    "H_base = 36*np.floor(T/7) + 6*np.mod(T,7)\n",
    "H = {n:j for n in nurses for j in [H_base]*len(nurses)}\n",
    "\n",
    "# maximum number of hours a nurse can work including the extra shifts (e.g. 10 hours per day, 60 per week)\n",
    "H_max = 60*np.floor(T/7) + 10*np.mod(T,7)\n",
    "H_MAX = {n:j for n in nurses for j in [H_max]*len(nurses)}\n",
    "\n",
    "# each nurse can work half of the shift before or aftering their proper shift\n",
    "c = 0.5 \n",
    "\n",
    "# update some nurses values\n",
    "# H['Nurse_1'] =20\n",
    "\n",
    "# number of nurses required per shift\n",
    "R = {'Morning' : 5,\n",
    "     'Afternoon' : 4,\n",
    "     'Night' : 3}\n",
    "# duration of each shift\n",
    "h = {'Morning' : 7,\n",
    "     'Afternoon' : 8,\n",
    "     'Night' : 9}\n",
    "\n",
    "# list of nurses that on the last day of the previous period covered  the night shift\n",
    "p_list= ['Nurse_0']\n",
    "# dictionary with the values of p per each nurse\n",
    "p = {n:0 for n in nurses}\n",
    "# update the dictionary with p_list\n",
    "for pp in p_list:\n",
    "    p[pp]=1\n"
   ]
  },
  {
   "cell_type": "markdown",
   "metadata": {},
   "source": [
    "x_i_4_1 is the boolean array with the information about the first shift of the next period. It should be 0 (i.e. we don't know who will work on the first shift of the next period)\n",
    "\\begin{equation*}\n",
    "    x_{i41}=\n",
    "    \\begin{cases}\n",
    "    1  \\qquad \\text{if the } i \\text{th nurse works on the first shift of the first day of the next period} \\\\\n",
    "    0 \\qquad \\text{otherwise.}\n",
    "    \\end{cases}\n",
    "\\end{equation*}\n",
    "\n",
    "\n",
    "\n"
   ]
  },
  {
   "cell_type": "code",
   "execution_count": 3,
   "metadata": {
    "ExecuteTime": {
     "end_time": "2020-04-01T10:51:57.231330Z",
     "start_time": "2020-04-01T10:51:57.225396Z"
    }
   },
   "outputs": [],
   "source": [
    "x_i_4_T = [0]*N"
   ]
  },
  {
   "cell_type": "markdown",
   "metadata": {},
   "source": [
    "## Optimization model \n",
    "\n",
    "To formulate this optimization problem, let us introduce the binary variable $x_{ist}\\in\\{0,1\\}$ such that \n",
    "\\begin{equation*}\n",
    "    x_{ist}=\n",
    "    \\begin{cases}\n",
    "    1  \\qquad \\text{if nurse } i \\text{th covers shift } s \\text{th on day } t\\text{th} \\\\\n",
    "    0 \\qquad \\text{otherwise}\n",
    "    \\end{cases}\n",
    "\\end{equation*}\n",
    "\n",
    "\n",
    " We introduce the two additional integer variables $z_{ist},q_{ist}\\in\\{0,1\\}$ such that:\n",
    "\\begin{equation*}\n",
    "    q_{ist}=\n",
    "    \\begin{cases}\n",
    "    1  \\qquad \\text{if nurse } i \\text{th works the last $ch_s$ hours of the  shift } s  \\text{th on day } t\\text{th} \\\\\n",
    "    0 \\qquad \\text{otherwise.}\n",
    "    \\end{cases}\n",
    "\\end{equation*}\n",
    "\\begin{equation*}\n",
    "    z_{ist}=\n",
    "    \\begin{cases}\n",
    "    1  \\qquad \\text{if nurse } i \\text{th works the first $ch_s$ hours of the  shift } s  \\text{th on day } t\\text{th} \\\\\n",
    "    0 \\qquad \\text{otherwise.}\n",
    "    \\end{cases}\n",
    "\\end{equation*}\n",
    "\n",
    "Finally, we define the variable $\\alpha_{st} \\in R $ which represents the number of nurses that are missing to satisfy the minimum demand of the $s$th shift on the $t$th department.\n"
   ]
  },
  {
   "cell_type": "code",
   "execution_count": 4,
   "metadata": {
    "ExecuteTime": {
     "end_time": "2020-04-01T10:51:57.341600Z",
     "start_time": "2020-04-01T10:51:57.237297Z"
    }
   },
   "outputs": [],
   "source": [
    "mdl = Model('Scheduling')\n",
    "\n",
    "# create the variables\n",
    "idx_x = [(i,s,t) for i in nurses for s in S for t in days]\n",
    "x = mdl.binary_var_dict(idx_x)\n",
    "z = mdl.binary_var_dict(idx_x)\n",
    "q = mdl.binary_var_dict(idx_x)\n",
    "\n",
    "idx_alpha = [(s,t) for s in S for t in days]\n",
    "alpha = mdl.continuous_var_dict(idx_alpha)"
   ]
  },
  {
   "cell_type": "markdown",
   "metadata": {},
   "source": [
    "### Objective function\n",
    "We want to find the optimal schedule $x^\\star,z^\\star,q^\\star$ such that the proper hours worked by each nurse plus the extra shift working hours is minimized while guaranteeing the satisfaction of the working condition regulations within the ward. Of course, we are also interested in minimizing the number of shifts that cannot be covered by the nurses ($\\sum_{st}\\alpha_st$)\n",
    "\n",
    "$$\n",
    "\\sum_{i=1}^N\\sum_{s=1}^3\\sum_{t=1}^T  \\left(h_s x_{ist} + \\frac 1 2 h_s z_{ist} +\\frac 1 2 h_s q_{ist} \\right) +\\rho \\sum_{s=1}^3\\sum_{t=1}^T \\alpha_{st}\n",
    "$$\n",
    "  \n",
    "with $\\rho>\\max_s h_s$. Note that, even if $\\alpha$ represents a discrete quantity, it is modeled as a continuous variable since at the optimum it will achieve only integer values (thanks to some further constraints defined in the following)."
   ]
  },
  {
   "cell_type": "code",
   "execution_count": 5,
   "metadata": {
    "ExecuteTime": {
     "end_time": "2020-04-01T10:51:57.374878Z",
     "start_time": "2020-04-01T10:51:57.344593Z"
    }
   },
   "outputs": [],
   "source": [
    "mdl.minimize(mdl.sum(x[i,s,t]*h[s] +0.5*h[s]*z[i,s,t]+0.5*h[s]*q[i,s,t] for i in nurses for s in S for t in days)\n",
    "             +(1e4*mdl.sum(alpha[s,t] for s in S for t in days)))"
   ]
  },
  {
   "cell_type": "markdown",
   "metadata": {},
   "source": [
    "### Constraints\n",
    "- Each person cannot cover more than one shift in the same day. \n",
    "$$ \\sum_{s=1}^3x_{ist}\\leq 1 \\qquad \\forall i,t$$\n",
    "- The number of personnel per each shift in each day is satisfied. \n",
    "$$ \\sum_{i=1}^N \\left(x_{ist}+z_{ist}\\right)+\\alpha_{st} \\geq R_{s} \\qquad \\forall s, t $$\n",
    "In the following we require $ \\sum_{i=1}^N z_{ist}=\\sum_{i=1}^N q_{ist} \\qquad \\forall s,t$, that's why we can define this constraint in this way"
   ]
  },
  {
   "cell_type": "code",
   "execution_count": 6,
   "metadata": {
    "ExecuteTime": {
     "end_time": "2020-04-01T10:51:57.403811Z",
     "start_time": "2020-04-01T10:51:57.378168Z"
    }
   },
   "outputs": [],
   "source": [
    "mdl.add_constraints(mdl.sum(x[i,s,t] for s in S) <= 1 for i in nurses for t in days);\n",
    "mdl.add_constraints(mdl.sum(x[i,s,t] + z[i,s,t] for i in nurses)+alpha[s,t]>= R[s]  for s in S for t in days);\n"
   ]
  },
  {
   "cell_type": "markdown",
   "metadata": {},
   "source": [
    "- Each nurse can work a maximum number of hours $H^{\\max}$ without burning out:\n",
    "$$  \\sum_{s=1}^3\\sum_{t=1}^T h_s \\left(x_{ist}+cz_{ist}+(1-c) q_{ist}\\right) \\le H^{\\max}\\qquad \\forall\\ i=1,...,N   $$ \n",
    "- Each nurse works at minimum the number of hours required by contract (excluded the extra hours). \n",
    "$$ \\sum_{s=1}^3\\sum_{t=1}^T x_{ist}h_s\\geq H_i \\qquad \\forall i $$ "
   ]
  },
  {
   "cell_type": "code",
   "execution_count": 7,
   "metadata": {
    "ExecuteTime": {
     "end_time": "2020-04-01T10:51:57.438806Z",
     "start_time": "2020-04-01T10:51:57.406884Z"
    }
   },
   "outputs": [],
   "source": [
    "mdl.add_constraints(mdl.sum(h[s]*(x[i,s,t]+c*z[i,s,t]+(1-c)*q[i,s,t]) for s in S for t in days) <= H_MAX[i] for i in nurses );\n",
    "mdl.add_constraints(mdl.sum(x[i,s,t]*h[s] for s in S for t in days) >= H[i] for i in nurses );"
   ]
  },
  {
   "cell_type": "markdown",
   "metadata": {},
   "source": [
    "- If a nurse covers a night shift, then the next day they cannot work;\n",
    "$$ x_{i3t}+\\sum_{s=1}^3 x_{ist+1}\\leq 1 \\qquad \\forall i,t $$ \n",
    "- Each nurse cannot work on the first day of the new period if they worked on the last shift of the previous period. \n",
    "$$ \\sum_{s=1}^3 x_{is1}\\leq (1-p_i) \\qquad \\forall i  $$ "
   ]
  },
  {
   "cell_type": "code",
   "execution_count": 8,
   "metadata": {
    "ExecuteTime": {
     "end_time": "2020-04-01T10:51:57.464757Z",
     "start_time": "2020-04-01T10:51:57.445165Z"
    }
   },
   "outputs": [],
   "source": [
    "mdl.add_constraints( x[i,S[-1],t] + mdl.sum(x[i,s,days[j+1]] for s in S )<= 1 for i in nurses for j,t in enumerate(days[:-1]) );\n",
    "mdl.add_constraints(mdl.sum(x[i,s,days[0]] for s in S ) <= (1-p[i]) for i in nurses );"
   ]
  },
  {
   "cell_type": "markdown",
   "metadata": {},
   "source": [
    "-  each nurse cannot work more than one extra shift per day.\n",
    "\\begin{equation*}\n",
    "    \\sum_{s=1}^3 \\left(z_{ist}+ q_{ist}+ \\right)\\le 1  \\quad \\forall i=1,...,N \\; t=1,...,T\n",
    "\\end{equation*} \n",
    "-  nurses cannot cover extra shifts if they have already been assigned to work on that shift:\n",
    "$$ z_{ist}\\leq 1-x_{ist} \\qquad \\forall i,s,t$$\n",
    "$$ q_{ist}\\le 1 - x_{ist} \\qquad \\forall i,s,t$$\n",
    "- The number of nurses covering the first and the second hslf of each shift, have to be the same (this allow us to define the variable $\\alpha_{st}$ as continuous and not as discrete)\n",
    "$$ \\sum_{i=1}^N z_{ist}=\\sum_{i=1}^N q_{ist} \\qquad \\forall s,t$$\n"
   ]
  },
  {
   "cell_type": "code",
   "execution_count": 9,
   "metadata": {
    "ExecuteTime": {
     "end_time": "2020-04-01T10:51:57.528817Z",
     "start_time": "2020-04-01T10:51:57.469887Z"
    }
   },
   "outputs": [],
   "source": [
    "mdl.add_constraints(mdl.sum(z[i,s,t] +q[i,s,t] for s in S)<= 1 for i in nurses for t in days);\n",
    "mdl.add_constraints(z[i,s,t]<=1-x[i,s,t] for i in nurses for s in S for t in days);\n",
    "mdl.add_constraints(q[i,s,t]<=1-x[i,s,t] for i in nurses for s in S for t in days);\n",
    "mdl.add_constraints(mdl.sum(z[i,s,t] for i in nurses)== mdl.sum(q[i,s,t] for i in nurses) for s in S for t in days);"
   ]
  },
  {
   "cell_type": "markdown",
   "metadata": {},
   "source": [
    "-  the additional hours are joined to a proper shift\n",
    "$$ z_{ist}\\leq x_{is-1t} \\qquad \\forall i,s,t$$\n",
    "$$ q_{ist}\\leq x_{is+1t} \\qquad \\forall i,s,t$$\n",
    "where $x_{i4t}=x_{i1t+1}$ and $x_{i0t} = x_{i3t-1}$. Moreover, $x_{i01}=p_i$ and $x_{i4T}$ is assumed to be zero (i.e. nobody works on the first day of the next period)."
   ]
  },
  {
   "cell_type": "code",
   "execution_count": 10,
   "metadata": {
    "ExecuteTime": {
     "end_time": "2020-04-01T10:51:57.570123Z",
     "start_time": "2020-04-01T10:51:57.532761Z"
    },
    "code_folding": [
     0
    ],
    "scrolled": true
   },
   "outputs": [],
   "source": [
    "for idx_i,i in enumerate(nurses):\n",
    "    for idx_s, s in enumerate(S):\n",
    "        for idx_t,t in enumerate(days):\n",
    "            if s == S[0] and t == 'Day_0':\n",
    "                mdl.add_constraint(z[i,s,t]<=p[i])\n",
    "            elif s == S[0]:\n",
    "                mdl.add_constraint(z[i,s,t]<=x[i,S[-1],days[idx_t-1]])\n",
    "            else:\n",
    "                mdl.add_constraint(z[i,s,t]<=x[i,S[idx_s-1],t])"
   ]
  },
  {
   "cell_type": "code",
   "execution_count": 11,
   "metadata": {
    "ExecuteTime": {
     "end_time": "2020-04-01T10:51:57.616162Z",
     "start_time": "2020-04-01T10:51:57.574112Z"
    },
    "code_folding": [
     0
    ]
   },
   "outputs": [],
   "source": [
    "for idx_i,i in enumerate(nurses):\n",
    "    for idx_s, s in enumerate(S):\n",
    "        for idx_t,t in enumerate(days):\n",
    "            # if it is the last day of the period T\n",
    "            if s == S[-1] and t == 'Day_'+str(T-1):\n",
    "                mdl.add_constraint(q[i,s,t]<=x_i_4_T[idx_i])\n",
    "\n",
    "            elif s == S[-1]:\n",
    "                mdl.add_constraint(q[i,s,t]<=x[i,S[0],days[idx_t+1]])\n",
    "            else:\n",
    "                mdl.add_constraint(q[i,s,t]<=x[i,S[idx_s+1],t])"
   ]
  },
  {
   "cell_type": "markdown",
   "metadata": {},
   "source": [
    "- if a nurse covers as extra hours the first part of a night shift, then they cannot cover the morning shift of the next day, and similarly if they cover the second part of the night shift, then they cannot cover the afternoon shift of the previous day:\n",
    "\\begin{equation*}\n",
    "    z_{i3t}+ x_{i1t+1}\\leq 1 \\qquad \\forall i=1,...,N \\forall t=1,...,T-1\n",
    "\\end{equation*}\n",
    "\\begin{equation*}\n",
    "    q_{i3t}+ x_{i2t}\\leq 1 \\qquad \\forall i=1,...,N \\forall t=1,...,T\n",
    "\\end{equation*}\n"
   ]
  },
  {
   "cell_type": "code",
   "execution_count": 12,
   "metadata": {
    "ExecuteTime": {
     "end_time": "2020-04-01T10:51:57.639726Z",
     "start_time": "2020-04-01T10:51:57.619963Z"
    }
   },
   "outputs": [],
   "source": [
    "for i in nurses:\n",
    "    for idx_t,t in enumerate(days):\n",
    "        # if it is the last day of the period T\n",
    "        if 'Day_'+str(T-1):\n",
    "            mdl.add_constraint(z[i,S[-1],t]<=1)\n",
    "\n",
    "        else:\n",
    "            mdl.add_constraint(z[i,S[-1],t]-x[i,S[0],days[idx_t+1]]<=1)"
   ]
  },
  {
   "cell_type": "code",
   "execution_count": 13,
   "metadata": {
    "ExecuteTime": {
     "end_time": "2020-04-01T10:51:57.664609Z",
     "start_time": "2020-04-01T10:51:57.644088Z"
    }
   },
   "outputs": [],
   "source": [
    "for idx_i,i in enumerate(nurses):\n",
    "    for idx_t,t in enumerate(days):\n",
    "        mdl.add_constraint(z[i,S[-1],t]-x[i,S[-2],t]<=1)"
   ]
  },
  {
   "cell_type": "markdown",
   "metadata": {},
   "source": [
    "### Additional constraints\n",
    "- In order to avoid unbalanced solutions with some nurses covering too many hours compared to others, we might require both the number of extra hours worked and the overall number of hours worked by each nurse to be close enough to the mean according to some pre-specified paramter $\\mathcal{K}_2$ and the overall number of hours worked by each nurse\n",
    "\n",
    "\\begin{equation*}\n",
    "\\left\\vert \\sum_{s=1}^3\\sum_{t=1}^Tz_{ist}- \\frac{\\sum_{i=1}^N\\sum_{s=1}^3\\sum_{t=1}^Tz_{ist}}{N} \\right\\vert \\leq \\mathcal{K}_2  \\qquad \\forall i\n",
    "\\end{equation*}\n",
    "\\begin{equation*}\n",
    "\\left\\vert \\sum_{s=1}^3\\sum_{t=1}^Tq_{ist}- \\frac{\\sum_{i=1}^N\\sum_{s=1}^3\\sum_{t=1}^Tq_{ist}}{N} \\right\\vert \\leq \\mathcal{K}_2  \\qquad \\forall i\n",
    "\\end{equation*}\n",
    "\n",
    "\n",
    "\\begin{equation*}\n",
    "\\left\\vert\\sum_{s,t} \\left(x_{ist}h_s+\\bar w\\left( z_{ist}+q_{ist}\\right)\\right) - \\frac{\\sum_{i,s,t}\\left(x_{ist}h_s+\\bar w\\left( z_{ist}+q_{ist}\\right)\\right)}{N} \\right\\vert\\leq  \\mathcal{K}_3\\qquad \\forall i\n",
    "\\end{equation*}\n",
    "\n",
    "This set of constraint increase the computational time for finding optimal solutions."
   ]
  },
  {
   "cell_type": "raw",
   "metadata": {
    "ExecuteTime": {
     "end_time": "2020-04-01T09:36:04.756726Z",
     "start_time": "2020-04-01T09:36:04.433453Z"
    }
   },
   "source": [
    "k_2 = 1\n",
    "k_3 = 2\n",
    "\n",
    "mdl.add_constraints(mdl.sum(z[i,s,t] for s in S for t in days)<=(1/N) * mdl.sum(z[i,s,t] for i in nurses for s in S for t in days) +k_2 for i in nurses);\n",
    "mdl.add_constraints(mdl.sum(z[i,s,t] for s in S for t in days)>=(1/N) * mdl.sum(z[i,s,t] for i in nurses for s in S for t in days)-k_2 for i in nurses);\n",
    "\n",
    "mdl.add_constraints(mdl.sum(q[i,s,t] for s in S for t in days)<=(1/N) * mdl.sum(q[i,s,t] for i in nurses for s in S for t in days) +k_2 for i in nurses);\n",
    "mdl.add_constraints(mdl.sum(q[i,s,t] for s in S for t in days)>=(1/N) * mdl.sum(q[i,s,t] for i in nurses for s in S for t in days)-k_2 for i in nurses);\n",
    "\n",
    "\n",
    "mdl.add_constraints(mdl.sum(x[i,s,t]*h[s]+ 0.5*h[s]*(z[i,s,t]+q[i,s,t])for s in S for t in days)<=\n",
    "              (1/N)*mdl.sum(x[i,s,t]*h[s]+ 0.5*h[s]*(z[i,s,t]+q[i,s,t]) for i in nurses for s in S for t in days)+k_3 for i in nurses);\n",
    "mdl.add_constraints(mdl.sum(x[i,s,t]*h[s]+ 0.5*h[s]*(z[i,s,t]+q[i,s,t])for s in S for t in days)>=\n",
    "              (1/N)*mdl.sum(x[i,s,t]*h[s]+ 0.5*h[s]*(z[i,s,t]+q[i,s,t]) for i in nurses for s in S for t in days)-k_3 for i in nurses);"
   ]
  },
  {
   "cell_type": "markdown",
   "metadata": {},
   "source": [
    "### Defining KPI"
   ]
  },
  {
   "cell_type": "code",
   "execution_count": 14,
   "metadata": {
    "ExecuteTime": {
     "end_time": "2020-04-01T10:51:57.737018Z",
     "start_time": "2020-04-01T10:51:57.668725Z"
    }
   },
   "outputs": [],
   "source": [
    "mdl.add_kpi(mdl.sum(R[s]- mdl.sum(x[i,s,t] for i in nurses)>=1 for s in S for t in days), '# of shifts not completely covered');\n",
    "mdl.add_kpi(mdl.max(alpha[s,t] for s in S for t in days), 'Maximum # missing nurses in one shift')\n",
    "mdl.add_kpi(mdl.sum(alpha[s,t] for s in S for t in days), 'Sum of missing nurses in all the shifts')\n",
    "\n",
    "mdl.add_kpi(mdl.max(mdl.sum(h[s]*(x[i,s,t]+c*z[i,s,t]+(1-c)*q[i,s,t]) for s in S for t in days) for i in nurses), 'Maximum # hours worked')\n",
    "mdl.add_kpi(mdl.min(mdl.sum(h[s]*(x[i,s,t]+c*z[i,s,t]+(1-c)*q[i,s,t]) for s in S for t in days) for i in nurses), 'Minimum # hours worked');"
   ]
  },
  {
   "cell_type": "markdown",
   "metadata": {},
   "source": [
    "### Solve the problem"
   ]
  },
  {
   "cell_type": "code",
   "execution_count": 15,
   "metadata": {
    "ExecuteTime": {
     "end_time": "2020-04-01T10:51:57.747701Z",
     "start_time": "2020-04-01T10:51:57.740653Z"
    }
   },
   "outputs": [],
   "source": [
    "# We set a limit time for computations\n",
    "mdl.set_time_limit(240)"
   ]
  },
  {
   "cell_type": "code",
   "execution_count": 16,
   "metadata": {
    "ExecuteTime": {
     "end_time": "2020-04-01T10:52:06.875703Z",
     "start_time": "2020-04-01T10:51:57.750693Z"
    },
    "scrolled": true
   },
   "outputs": [
    {
     "name": "stdout",
     "output_type": "stream",
     "text": [
      "Model: Scheduling\n",
      " - number of variables: 692\n",
      "   - binary=651, integer=0, continuous=41\n",
      " - number of constraints: 1293\n",
      "   - linear=1272, equiv=21\n",
      " - parameters:\n",
      "     parameters.timelimit = 240.00000000000000\n",
      " - problem type is: MILP\n"
     ]
    },
    {
     "data": {
      "text/plain": [
       "docplex.mp.SolveDetails(time=9.063,status='integer optimal solution')"
      ]
     },
     "execution_count": 16,
     "metadata": {},
     "output_type": "execute_result"
    }
   ],
   "source": [
    "mdl.print_information()\n",
    "mdl.solve(log_output = False)\n",
    "mdl.solution.solve_details"
   ]
  },
  {
   "cell_type": "code",
   "execution_count": 17,
   "metadata": {
    "ExecuteTime": {
     "end_time": "2020-04-01T10:52:06.889625Z",
     "start_time": "2020-04-01T10:52:06.879705Z"
    }
   },
   "outputs": [
    {
     "name": "stdout",
     "output_type": "stream",
     "text": [
      "* model Scheduling solved with objective = 70595.000\n",
      "*  KPI: # of shifts not completely covered      = 13.000\n",
      "*  KPI: Maximum # missing nurses in one shift   = 3.000\n",
      "*  KPI: Sum of missing nurses in all the shifts = 7.000\n",
      "*  KPI: Maximum # hours worked                  = 60.000\n",
      "*  KPI: Minimum # hours worked                  = 55.500\n"
     ]
    }
   ],
   "source": [
    "mdl.report()"
   ]
  },
  {
   "cell_type": "code",
   "execution_count": 18,
   "metadata": {
    "ExecuteTime": {
     "end_time": "2020-04-01T10:52:06.902193Z",
     "start_time": "2020-04-01T10:52:06.892618Z"
    }
   },
   "outputs": [
    {
     "data": {
      "text/plain": [
       "1"
      ]
     },
     "execution_count": 18,
     "metadata": {},
     "output_type": "execute_result"
    }
   ],
   "source": [
    "status = int('optimal' in mdl.solve_details.status)\n",
    "status"
   ]
  },
  {
   "cell_type": "markdown",
   "metadata": {},
   "source": [
    "## Analysing the solution\n",
    "Below we provide simple tools to analyse the solution obtained"
   ]
  },
  {
   "cell_type": "code",
   "execution_count": 19,
   "metadata": {
    "ExecuteTime": {
     "end_time": "2020-04-01T10:52:06.915556Z",
     "start_time": "2020-04-01T10:52:06.905582Z"
    }
   },
   "outputs": [],
   "source": [
    "def sol_to_pandas(x):\n",
    "    '''\n",
    "    takes in input the solution of the optimization problem as a dictionary \n",
    "    returns the solution as a dataframe \n",
    "    '''\n",
    "    sol = pd.DataFrame(columns = ['Nurse', 'Shift', 'Day'])\n",
    "    k = 0\n",
    "    for key, value in x.items():\n",
    "        if value>0:\n",
    "            sol.loc[k] =np.array([i for i in key])\n",
    "            k+=1\n",
    "    return sol"
   ]
  },
  {
   "cell_type": "code",
   "execution_count": 20,
   "metadata": {
    "ExecuteTime": {
     "end_time": "2020-04-01T10:52:06.932513Z",
     "start_time": "2020-04-01T10:52:06.919585Z"
    }
   },
   "outputs": [],
   "source": [
    "def alpha_to_pandas(x):\n",
    "    '''\n",
    "    takes in input the solution of the optimization problem as a dictionary \n",
    "    returns the solution as a dataframe \n",
    "    '''\n",
    "    sol = pd.DataFrame(columns = ['Shift', 'Day', 'value'])\n",
    "\n",
    "    k=0\n",
    "    for key, value in alpha_star_dict.items():\n",
    "        if value>0:\n",
    "            sol.loc[k] =np.array([i for i in key]+[value])\n",
    "            k+=1\n",
    "        \n",
    "    return sol"
   ]
  },
  {
   "cell_type": "code",
   "execution_count": 21,
   "metadata": {
    "ExecuteTime": {
     "end_time": "2020-04-01T10:52:07.293796Z",
     "start_time": "2020-04-01T10:52:06.938494Z"
    },
    "scrolled": true
   },
   "outputs": [],
   "source": [
    "# transform the solution into a dataframe\n",
    "x_star_dict =mdl.solution.get_value_dict(x)\n",
    "sol_x = sol_to_pandas(x_star_dict)\n",
    "\n",
    "z_star_dict =mdl.solution.get_value_dict(z)\n",
    "sol_z = sol_to_pandas(z_star_dict)\n",
    "\n",
    "q_star_dict =mdl.solution.get_value_dict(q)\n",
    "sol_q = sol_to_pandas(q_star_dict)\n",
    "\n",
    "alpha_star_dict = mdl.solution.get_value_dict(alpha)\n",
    "sol_alpha = alpha_to_pandas(alpha_star_dict)"
   ]
  },
  {
   "cell_type": "code",
   "execution_count": 22,
   "metadata": {
    "ExecuteTime": {
     "end_time": "2020-04-01T10:52:07.307870Z",
     "start_time": "2020-04-01T10:52:07.297747Z"
    }
   },
   "outputs": [
    {
     "name": "stdout",
     "output_type": "stream",
     "text": [
      "Nurse_6    7\n",
      "Nurse_7    7\n",
      "Nurse_5    6\n",
      "Nurse_8    6\n",
      "Nurse_3    6\n",
      "Nurse_9    6\n",
      "Nurse_2    6\n",
      "Nurse_4    6\n",
      "Nurse_0    6\n",
      "Nurse_1    5\n",
      "Name: Nurse, dtype: int64\n"
     ]
    }
   ],
   "source": [
    "print(sol_x['Nurse'].value_counts())\n"
   ]
  },
  {
   "cell_type": "code",
   "execution_count": 23,
   "metadata": {
    "ExecuteTime": {
     "end_time": "2020-04-01T10:52:07.330845Z",
     "start_time": "2020-04-01T10:52:07.316888Z"
    }
   },
   "outputs": [
    {
     "name": "stdout",
     "output_type": "stream",
     "text": [
      "------------First half of shift------------\n",
      "Nurse_9    3\n",
      "Nurse_1    3\n",
      "Nurse_5    2\n",
      "Nurse_8    2\n",
      "Nurse_3    2\n",
      "Nurse_2    2\n",
      "Nurse_4    1\n",
      "Nurse_0    1\n",
      "Name: Nurse, dtype: int64\n",
      "------------Last half hours of shift------------\n",
      "Nurse_0    3\n",
      "Nurse_8    2\n",
      "Nurse_6    2\n",
      "Nurse_4    2\n",
      "Nurse_7    2\n",
      "Nurse_5    1\n",
      "Nurse_3    1\n",
      "Nurse_9    1\n",
      "Nurse_2    1\n",
      "Nurse_1    1\n",
      "Name: Nurse, dtype: int64\n"
     ]
    }
   ],
   "source": [
    "# number of extra shifts done by each nurse\n",
    "print('------------First half of shift------------')\n",
    "print(sol_z['Nurse'].value_counts())\n",
    "print('------------Last half hours of shift------------')\n",
    "print(sol_q['Nurse'].value_counts())"
   ]
  },
  {
   "cell_type": "markdown",
   "metadata": {},
   "source": [
    "### Is the number of nurses $N$ enough to satisfy the demand?"
   ]
  },
  {
   "cell_type": "code",
   "execution_count": 24,
   "metadata": {
    "ExecuteTime": {
     "end_time": "2020-04-01T10:52:07.346806Z",
     "start_time": "2020-04-01T10:52:07.339825Z"
    },
    "scrolled": true
   },
   "outputs": [
    {
     "name": "stdout",
     "output_type": "stream",
     "text": [
      "NO! The number of nurses is not enough to satisfy the demand\n"
     ]
    }
   ],
   "source": [
    "alpha_star_dict =mdl.solution.get_value_dict(alpha)\n",
    "if max(list(alpha_star_dict.values()))==0:\n",
    "    print('YES! The number of nurses is enough to satisfy the demand')\n",
    "else:\n",
    "    print('NO! The number of nurses is not enough to satisfy the demand')\n"
   ]
  },
  {
   "cell_type": "markdown",
   "metadata": {},
   "source": [
    "### How many hours does each nurse work?"
   ]
  },
  {
   "cell_type": "code",
   "execution_count": 25,
   "metadata": {
    "ExecuteTime": {
     "end_time": "2020-04-01T10:52:07.377760Z",
     "start_time": "2020-04-01T10:52:07.350793Z"
    },
    "scrolled": false
   },
   "outputs": [
    {
     "data": {
      "text/plain": [
       "{'Nurse_0': 43,\n",
       " 'Nurse_1': 39,\n",
       " 'Nurse_2': 47,\n",
       " 'Nurse_3': 48,\n",
       " 'Nurse_4': 46,\n",
       " 'Nurse_5': 47,\n",
       " 'Nurse_6': 52,\n",
       " 'Nurse_7': 53,\n",
       " 'Nurse_8': 44,\n",
       " 'Nurse_9': 44}"
      ]
     },
     "execution_count": 25,
     "metadata": {},
     "output_type": "execute_result"
    }
   ],
   "source": [
    "worked_hours = {n:0 for n in nurses}\n",
    "\n",
    "for i,j in sol_x.iterrows():\n",
    "    worked_hours[j['Nurse']]+=h[j['Shift']]\n",
    "worked_hours"
   ]
  },
  {
   "cell_type": "markdown",
   "metadata": {},
   "source": [
    "### How many extra hours does each nurse work?"
   ]
  },
  {
   "cell_type": "code",
   "execution_count": 26,
   "metadata": {
    "ExecuteTime": {
     "end_time": "2020-04-01T10:52:07.403690Z",
     "start_time": "2020-04-01T10:52:07.381711Z"
    },
    "scrolled": false
   },
   "outputs": [
    {
     "data": {
      "text/plain": [
       "{'Nurse_0': 17.0,\n",
       " 'Nurse_1': 16.5,\n",
       " 'Nurse_2': 13.0,\n",
       " 'Nurse_3': 12.0,\n",
       " 'Nurse_4': 13.5,\n",
       " 'Nurse_5': 13.0,\n",
       " 'Nurse_6': 8.0,\n",
       " 'Nurse_7': 7.0,\n",
       " 'Nurse_8': 16.0,\n",
       " 'Nurse_9': 16.0}"
      ]
     },
     "execution_count": 26,
     "metadata": {},
     "output_type": "execute_result"
    }
   ],
   "source": [
    "extra_worked_hours = {n:0 for n in nurses}\n",
    "\n",
    "for i,j in sol_z.iterrows():\n",
    "    extra_worked_hours[j['Nurse']]+=h[j['Shift']]*0.5\n",
    "for i,j in sol_q.iterrows():\n",
    "    extra_worked_hours[j['Nurse']]+=h[j['Shift']]*0.5\n",
    "extra_worked_hours"
   ]
  },
  {
   "cell_type": "markdown",
   "metadata": {},
   "source": [
    "### Maximum number of extra hours worked:"
   ]
  },
  {
   "cell_type": "code",
   "execution_count": 27,
   "metadata": {
    "ExecuteTime": {
     "end_time": "2020-04-01T10:52:07.415965Z",
     "start_time": "2020-04-01T10:52:07.407642Z"
    }
   },
   "outputs": [
    {
     "data": {
      "text/plain": [
       "17.0"
      ]
     },
     "execution_count": 27,
     "metadata": {},
     "output_type": "execute_result"
    }
   ],
   "source": [
    "max(extra_worked_hours.values())"
   ]
  },
  {
   "cell_type": "markdown",
   "metadata": {},
   "source": [
    "### Overall hours worked"
   ]
  },
  {
   "cell_type": "code",
   "execution_count": 28,
   "metadata": {
    "ExecuteTime": {
     "end_time": "2020-04-01T10:52:07.428953Z",
     "start_time": "2020-04-01T10:52:07.419951Z"
    },
    "scrolled": true
   },
   "outputs": [
    {
     "data": {
      "text/plain": [
       "{'Nurse_0': 60.0,\n",
       " 'Nurse_1': 55.5,\n",
       " 'Nurse_2': 60.0,\n",
       " 'Nurse_3': 60.0,\n",
       " 'Nurse_4': 59.5,\n",
       " 'Nurse_5': 60.0,\n",
       " 'Nurse_6': 60.0,\n",
       " 'Nurse_7': 60.0,\n",
       " 'Nurse_8': 60.0,\n",
       " 'Nurse_9': 60.0}"
      ]
     },
     "execution_count": 28,
     "metadata": {},
     "output_type": "execute_result"
    }
   ],
   "source": [
    "overall_worked_hours = worked_hours.copy()\n",
    "for i,j in extra_worked_hours.items():\n",
    "    overall_worked_hours[i]+=j\n",
    "\n",
    "overall_worked_hours"
   ]
  },
  {
   "cell_type": "markdown",
   "metadata": {},
   "source": [
    "### Visualization tool\n",
    "\n",
    "Below we provide a tool to check the schedule. "
   ]
  },
  {
   "cell_type": "code",
   "execution_count": 29,
   "metadata": {
    "ExecuteTime": {
     "end_time": "2020-04-01T10:52:07.439074Z",
     "start_time": "2020-04-01T10:52:07.431920Z"
    }
   },
   "outputs": [],
   "source": [
    "# remove warning from pandas (in the viz_tool it does what we need)\n",
    "import warnings\n",
    "warnings.simplefilter(action='ignore')"
   ]
  },
  {
   "cell_type": "code",
   "execution_count": 30,
   "metadata": {
    "ExecuteTime": {
     "end_time": "2020-04-01T10:52:08.919122Z",
     "start_time": "2020-04-01T10:52:07.442854Z"
    },
    "scrolled": true
   },
   "outputs": [
    {
     "data": {
      "application/vnd.jupyter.widget-view+json": {
       "model_id": "",
       "version_major": 2,
       "version_minor": 0
      },
      "text/plain": [
       "interactive(children=(Dropdown(description='nurse', index=10, options=('Nurse_0', 'Nurse_1', 'Nurse_2', 'Nurse…"
      ]
     },
     "metadata": {},
     "output_type": "display_data"
    }
   ],
   "source": [
    "def extract_info(nurse,shift,day):\n",
    "    '''\n",
    "    interactive function to extract the information required:\n",
    "    if a value is 'All' then it returns all the values for that specific feature\n",
    "    '''\n",
    "    \n",
    "    global nurses,S,days\n",
    "    \n",
    "    \n",
    "    if nurse == 'All':\n",
    "        df_tmp = sol_x[(sol_x['Nurse'].isin(nurses))]\n",
    "    else:\n",
    "        df_tmp = sol_x[(sol_x['Nurse']==nurse)]\n",
    "\n",
    "    if shift == 'All':\n",
    "        df_tmp = df_tmp[(sol_x['Shift'].isin(S))]\n",
    "    else:\n",
    "        df_tmp = df_tmp[(sol_x['Shift']==shift)]\n",
    "\n",
    "    if day == 'All':\n",
    "        df_tmp = df_tmp[(sol_x['Day'].isin(days))]    \n",
    "    else:\n",
    "        df_tmp = df_tmp[(sol_x['Day']==day)]\n",
    "\n",
    "    print('------------All shift------------')\n",
    "    print(df_tmp)\n",
    "    \n",
    "    if nurse == 'All':\n",
    "        df_tmp = sol_z[(sol_z['Nurse'].isin(nurses))]\n",
    "    else:\n",
    "        df_tmp = sol_z[(sol_z['Nurse']==nurse)]\n",
    "\n",
    "    if shift == 'All':\n",
    "        df_tmp = df_tmp[(sol_z['Shift'].isin(S))]\n",
    "    else:\n",
    "        df_tmp = df_tmp[(sol_z['Shift']==shift)]\n",
    "\n",
    "    if day == 'All':\n",
    "        df_tmp = df_tmp[(sol_z['Day'].isin(days))]    \n",
    "    else:\n",
    "        df_tmp = df_tmp[(sol_z['Day']==day)]\n",
    "\n",
    "    print('------------First half shift------------')\n",
    "\n",
    "    print(df_tmp)\n",
    "    \n",
    "    if nurse == 'All':\n",
    "        df_tmp = sol_q[(sol_q['Nurse'].isin(nurses))]\n",
    "    else:\n",
    "        df_tmp = sol_q[(sol_q['Nurse']==nurse)]\n",
    "\n",
    "    if shift == 'All':\n",
    "        df_tmp = df_tmp[(sol_q['Shift'].isin(S))]\n",
    "    else:\n",
    "        df_tmp = df_tmp[(sol_q['Shift']==shift)]\n",
    "\n",
    "    if day == 'All':\n",
    "        df_tmp = df_tmp[(sol_q['Day'].isin(days))]    \n",
    "    else:\n",
    "        df_tmp = df_tmp[(sol_q['Day']==day)]\n",
    "\n",
    "    print('------------Second half shift------------')\n",
    "    print(df_tmp)\n",
    "    \n",
    "\n",
    "    if shift == 'All':\n",
    "        df_tmp = sol_alpha[(sol_alpha['Shift'].isin(S))]\n",
    "    else:\n",
    "        df_tmp = sol_alpha[(sol_alpha['Shift']==shift)]\n",
    "\n",
    "    if day == 'All':\n",
    "        df_tmp = df_tmp[(sol_alpha['Day'].isin(days))]    \n",
    "    else:\n",
    "        df_tmp = df_tmp[(sol_alpha['Day']==day)]\n",
    "\n",
    "    print('------------Non covered shifts------------')\n",
    "    print(df_tmp)\n",
    "    \n",
    "\n",
    "\n",
    "interact(extract_info, nurse = widgets.Dropdown(value=\"All\",placeholder='Type something', options=nurses+['All']),\n",
    "              shift=widgets.Dropdown(value='All',placeholder='Type something', options=S+['All']),\n",
    "              day = widgets.Dropdown(value=\"All\",placeholder='Type something', options=days+['All'])\n",
    "        );\n",
    "\n"
   ]
  },
  {
   "cell_type": "markdown",
   "metadata": {},
   "source": [
    "## Worst case scenario minimization\n",
    "In order to get balanced solutions, we should minimize the worst-case scenario by minimizing the number of hours worked by the nurse that works the most and the highest number of nurses missing in the same shift, namely:\n",
    "\\begin{equation}\\label{eq: neq_fo}\n",
    "        \\underset{x_{ist},z_{ist}\\in\\{0,1\\}}{\\text{min}} \\quad \\max_i \\left\\{\\sum_{s=1}^3\\sum_{t=1}^T  h_s\\left( x_{ist} + c z_{ist} +(1-c)  q_{ist}\\right)\\right\\}+\\rho_2 \\max_{st}\\left\\{\\alpha_{st}\\right\\}\n",
    "    \\end{equation}\n",
    "where $\\rho_2$ is a big enough penalization term so to ensure that the second term is more important than the first one.\n",
    "\n",
    "Many other modifications to the objective function can be included. Here we choose this one."
   ]
  },
  {
   "cell_type": "code",
   "execution_count": 31,
   "metadata": {
    "ExecuteTime": {
     "end_time": "2020-04-01T10:52:08.929062Z",
     "start_time": "2020-04-01T10:52:08.921118Z"
    }
   },
   "outputs": [],
   "source": [
    "a = mdl.continuous_var(lb=-np.infty)\n",
    "b = mdl.continuous_var(lb=-np.infty)\n",
    "mdl.minimize(a+1e4*b)"
   ]
  },
  {
   "cell_type": "code",
   "execution_count": 32,
   "metadata": {
    "ExecuteTime": {
     "end_time": "2020-04-01T10:52:08.958980Z",
     "start_time": "2020-04-01T10:52:08.932383Z"
    }
   },
   "outputs": [],
   "source": [
    "# add the two new constraints\n",
    "mdl.add_constraints(a>=mdl.sum(h[s]*(x[i,s,t]+c*z[i,s,t]+(1-c)*q[i,s,t]) for s in S for t in days) for i in nurses)                  \n",
    "mdl.add_constraints(b>=alpha[s,t] for s in S for t in days);"
   ]
  },
  {
   "cell_type": "code",
   "execution_count": 33,
   "metadata": {
    "ExecuteTime": {
     "end_time": "2020-04-01T10:52:09.935723Z",
     "start_time": "2020-04-01T10:52:08.963075Z"
    }
   },
   "outputs": [
    {
     "data": {
      "text/plain": [
       "docplex.mp.solution.SolveSolution(obj=10050,values={x2:1,x3:1,x4:1,x7:1,.."
      ]
     },
     "execution_count": 33,
     "metadata": {},
     "output_type": "execute_result"
    }
   ],
   "source": [
    "mdl.solve()"
   ]
  },
  {
   "cell_type": "code",
   "execution_count": 34,
   "metadata": {
    "ExecuteTime": {
     "end_time": "2020-04-01T10:52:09.949747Z",
     "start_time": "2020-04-01T10:52:09.938877Z"
    }
   },
   "outputs": [
    {
     "name": "stdout",
     "output_type": "stream",
     "text": [
      "* model Scheduling solved with objective = 10050.000\n",
      "*  KPI: # of shifts not completely covered      = 21.000\n",
      "*  KPI: Maximum # missing nurses in one shift   = 1.000\n",
      "*  KPI: Sum of missing nurses in all the shifts = 21.000\n",
      "*  KPI: Maximum # hours worked                  = 50.000\n",
      "*  KPI: Minimum # hours worked                  = 46.000\n"
     ]
    }
   ],
   "source": [
    "mdl.report()"
   ]
  },
  {
   "cell_type": "code",
   "execution_count": 35,
   "metadata": {
    "ExecuteTime": {
     "end_time": "2020-04-01T10:52:10.351589Z",
     "start_time": "2020-04-01T10:52:09.951831Z"
    },
    "scrolled": true
   },
   "outputs": [],
   "source": [
    "# transform the solution into a dataframe\n",
    "x_star_dict =mdl.solution.get_value_dict(x)\n",
    "sol_x = sol_to_pandas(x_star_dict)\n",
    "\n",
    "z_star_dict =mdl.solution.get_value_dict(z)\n",
    "sol_z = sol_to_pandas(z_star_dict)\n",
    "\n",
    "q_star_dict =mdl.solution.get_value_dict(q)\n",
    "sol_q = sol_to_pandas(q_star_dict)\n",
    "\n",
    "alpha_star_dict = mdl.solution.get_value_dict(alpha)\n",
    "sol_alpha = alpha_to_pandas(alpha_star_dict)"
   ]
  },
  {
   "cell_type": "code",
   "execution_count": 36,
   "metadata": {
    "ExecuteTime": {
     "end_time": "2020-04-01T10:52:10.362517Z",
     "start_time": "2020-04-01T10:52:10.354788Z"
    }
   },
   "outputs": [
    {
     "name": "stdout",
     "output_type": "stream",
     "text": [
      "Nurse_8    6\n",
      "Nurse_3    6\n",
      "Nurse_9    6\n",
      "Nurse_6    6\n",
      "Nurse_2    6\n",
      "Nurse_5    5\n",
      "Nurse_1    5\n",
      "Nurse_4    5\n",
      "Nurse_7    5\n",
      "Nurse_0    5\n",
      "Name: Nurse, dtype: int64\n"
     ]
    }
   ],
   "source": [
    "print(sol_x['Nurse'].value_counts())\n"
   ]
  },
  {
   "cell_type": "code",
   "execution_count": 37,
   "metadata": {
    "ExecuteTime": {
     "end_time": "2020-04-01T10:52:10.385473Z",
     "start_time": "2020-04-01T10:52:10.366504Z"
    }
   },
   "outputs": [
    {
     "name": "stdout",
     "output_type": "stream",
     "text": [
      "------------First half of shift------------\n",
      "Nurse_5    2\n",
      "Nurse_1    2\n",
      "Nurse_7    1\n",
      "Nurse_9    1\n",
      "Nurse_6    1\n",
      "Nurse_2    1\n",
      "Name: Nurse, dtype: int64\n",
      "------------Last half hours of shift------------\n",
      "Nurse_0    3\n",
      "Nurse_4    2\n",
      "Nurse_7    1\n",
      "Nurse_3    1\n",
      "Nurse_8    1\n",
      "Name: Nurse, dtype: int64\n"
     ]
    }
   ],
   "source": [
    "# number of extra shifts done by each nurse\n",
    "print('------------First half of shift------------')\n",
    "print(sol_z['Nurse'].value_counts())\n",
    "print('------------Last half hours of shift------------')\n",
    "print(sol_q['Nurse'].value_counts())"
   ]
  },
  {
   "cell_type": "markdown",
   "metadata": {},
   "source": [
    "### Is the number of nurses $N$ enough to satisfy the demand?"
   ]
  },
  {
   "cell_type": "code",
   "execution_count": 38,
   "metadata": {
    "ExecuteTime": {
     "end_time": "2020-04-01T10:52:10.398605Z",
     "start_time": "2020-04-01T10:52:10.388480Z"
    },
    "scrolled": true
   },
   "outputs": [
    {
     "name": "stdout",
     "output_type": "stream",
     "text": [
      "NO! The number of nurses is not enough to satisfy the demand\n"
     ]
    }
   ],
   "source": [
    "alpha_star_dict =mdl.solution.get_value_dict(alpha)\n",
    "if max(list(alpha_star_dict.values()))==0:\n",
    "    print('YES! The number of nurses is enough to satisfy the demand')\n",
    "else:\n",
    "    print('NO! The number of nurses is not enough to satisfy the demand')\n"
   ]
  },
  {
   "cell_type": "markdown",
   "metadata": {},
   "source": [
    "### How many hours does each nurse work?"
   ]
  },
  {
   "cell_type": "code",
   "execution_count": 39,
   "metadata": {
    "ExecuteTime": {
     "end_time": "2020-04-01T10:52:10.427756Z",
     "start_time": "2020-04-01T10:52:10.402482Z"
    },
    "scrolled": false
   },
   "outputs": [
    {
     "data": {
      "text/plain": [
       "{'Nurse_0': 37,\n",
       " 'Nurse_1': 39,\n",
       " 'Nurse_2': 45,\n",
       " 'Nurse_3': 45,\n",
       " 'Nurse_4': 37,\n",
       " 'Nurse_5': 41,\n",
       " 'Nurse_6': 46,\n",
       " 'Nurse_7': 42,\n",
       " 'Nurse_8': 44,\n",
       " 'Nurse_9': 45}"
      ]
     },
     "execution_count": 39,
     "metadata": {},
     "output_type": "execute_result"
    }
   ],
   "source": [
    "worked_hours = {n:0 for n in nurses}\n",
    "\n",
    "for i,j in sol_x.iterrows():\n",
    "    worked_hours[j['Nurse']]+=h[j['Shift']]\n",
    "worked_hours"
   ]
  },
  {
   "cell_type": "markdown",
   "metadata": {},
   "source": [
    "### Maximum number of hours worked:"
   ]
  },
  {
   "cell_type": "code",
   "execution_count": 40,
   "metadata": {
    "ExecuteTime": {
     "end_time": "2020-04-01T10:52:10.440714Z",
     "start_time": "2020-04-01T10:52:10.430702Z"
    }
   },
   "outputs": [
    {
     "data": {
      "text/plain": [
       "46"
      ]
     },
     "execution_count": 40,
     "metadata": {},
     "output_type": "execute_result"
    }
   ],
   "source": [
    "max(worked_hours.values())"
   ]
  },
  {
   "cell_type": "markdown",
   "metadata": {},
   "source": [
    "### How many extra hours does each nurse work?"
   ]
  },
  {
   "cell_type": "code",
   "execution_count": 41,
   "metadata": {
    "ExecuteTime": {
     "end_time": "2020-04-01T10:52:10.462655Z",
     "start_time": "2020-04-01T10:52:10.443706Z"
    },
    "scrolled": false
   },
   "outputs": [
    {
     "data": {
      "text/plain": [
       "{'Nurse_0': 13.0,\n",
       " 'Nurse_1': 9.0,\n",
       " 'Nurse_2': 4.5,\n",
       " 'Nurse_3': 3.5,\n",
       " 'Nurse_4': 9.0,\n",
       " 'Nurse_5': 9.0,\n",
       " 'Nurse_6': 4.0,\n",
       " 'Nurse_7': 8.0,\n",
       " 'Nurse_8': 4.5,\n",
       " 'Nurse_9': 4.5}"
      ]
     },
     "execution_count": 41,
     "metadata": {},
     "output_type": "execute_result"
    }
   ],
   "source": [
    "extra_worked_hours = {n:0 for n in nurses}\n",
    "\n",
    "for i,j in sol_z.iterrows():\n",
    "    extra_worked_hours[j['Nurse']]+=h[j['Shift']]*0.5\n",
    "for i,j in sol_q.iterrows():\n",
    "    extra_worked_hours[j['Nurse']]+=h[j['Shift']]*0.5\n",
    "extra_worked_hours"
   ]
  },
  {
   "cell_type": "markdown",
   "metadata": {},
   "source": [
    "### Maximum number of extra hours worked:"
   ]
  },
  {
   "cell_type": "code",
   "execution_count": 42,
   "metadata": {
    "ExecuteTime": {
     "end_time": "2020-04-01T10:52:10.475629Z",
     "start_time": "2020-04-01T10:52:10.466605Z"
    }
   },
   "outputs": [
    {
     "data": {
      "text/plain": [
       "13.0"
      ]
     },
     "execution_count": 42,
     "metadata": {},
     "output_type": "execute_result"
    }
   ],
   "source": [
    "max(extra_worked_hours.values())"
   ]
  },
  {
   "cell_type": "markdown",
   "metadata": {},
   "source": [
    "### Overall hours worked"
   ]
  },
  {
   "cell_type": "code",
   "execution_count": 43,
   "metadata": {
    "ExecuteTime": {
     "end_time": "2020-04-01T10:52:10.490578Z",
     "start_time": "2020-04-01T10:52:10.478968Z"
    },
    "scrolled": true
   },
   "outputs": [
    {
     "data": {
      "text/plain": [
       "{'Nurse_0': 50.0,\n",
       " 'Nurse_1': 48.0,\n",
       " 'Nurse_2': 49.5,\n",
       " 'Nurse_3': 48.5,\n",
       " 'Nurse_4': 46.0,\n",
       " 'Nurse_5': 50.0,\n",
       " 'Nurse_6': 50.0,\n",
       " 'Nurse_7': 50.0,\n",
       " 'Nurse_8': 48.5,\n",
       " 'Nurse_9': 49.5}"
      ]
     },
     "execution_count": 43,
     "metadata": {},
     "output_type": "execute_result"
    }
   ],
   "source": [
    "overall_worked_hours = worked_hours.copy()\n",
    "for i,j in extra_worked_hours.items():\n",
    "    overall_worked_hours[i]+=j\n",
    "\n",
    "overall_worked_hours"
   ]
  },
  {
   "cell_type": "code",
   "execution_count": 44,
   "metadata": {
    "ExecuteTime": {
     "end_time": "2020-04-01T11:04:28.471124Z",
     "start_time": "2020-04-01T11:04:28.372610Z"
    },
    "scrolled": true
   },
   "outputs": [
    {
     "data": {
      "application/vnd.jupyter.widget-view+json": {
       "model_id": "29e584ac8d874d6c9fe3b03d5e6545c5",
       "version_major": 2,
       "version_minor": 0
      },
      "text/plain": [
       "interactive(children=(Dropdown(description='nurse', index=10, options=('Nurse_0', 'Nurse_1', 'Nurse_2', 'Nurse…"
      ]
     },
     "metadata": {},
     "output_type": "display_data"
    }
   ],
   "source": [
    "def extract_info(nurse,shift,day):\n",
    "    '''\n",
    "    interactive function to extract the information required:\n",
    "    if a value is 'All' then it returns all the values for that specific feature\n",
    "    '''\n",
    "    \n",
    "    global nurses,S,days\n",
    "    \n",
    "    \n",
    "    if nurse == 'All':\n",
    "        df_tmp = sol_x[(sol_x['Nurse'].isin(nurses))]\n",
    "    else:\n",
    "        df_tmp = sol_x[(sol_x['Nurse']==nurse)]\n",
    "\n",
    "    if shift == 'All':\n",
    "        df_tmp = df_tmp[(sol_x['Shift'].isin(S))]\n",
    "    else:\n",
    "        df_tmp = df_tmp[(sol_x['Shift']==shift)]\n",
    "\n",
    "    if day == 'All':\n",
    "        df_tmp = df_tmp[(sol_x['Day'].isin(days))]    \n",
    "    else:\n",
    "        df_tmp = df_tmp[(sol_x['Day']==day)]\n",
    "\n",
    "    print('------------All shift------------')\n",
    "    print(df_tmp)\n",
    "    \n",
    "    if nurse == 'All':\n",
    "        df_tmp = sol_z[(sol_z['Nurse'].isin(nurses))]\n",
    "    else:\n",
    "        df_tmp = sol_z[(sol_z['Nurse']==nurse)]\n",
    "\n",
    "    if shift == 'All':\n",
    "        df_tmp = df_tmp[(sol_z['Shift'].isin(S))]\n",
    "    else:\n",
    "        df_tmp = df_tmp[(sol_z['Shift']==shift)]\n",
    "\n",
    "    if day == 'All':\n",
    "        df_tmp = df_tmp[(sol_z['Day'].isin(days))]    \n",
    "    else:\n",
    "        df_tmp = df_tmp[(sol_z['Day']==day)]\n",
    "\n",
    "    print('------------First half shift------------')\n",
    "\n",
    "    print(df_tmp)\n",
    "    \n",
    "    if nurse == 'All':\n",
    "        df_tmp = sol_q[(sol_q['Nurse'].isin(nurses))]\n",
    "    else:\n",
    "        df_tmp = sol_q[(sol_q['Nurse']==nurse)]\n",
    "\n",
    "    if shift == 'All':\n",
    "        df_tmp = df_tmp[(sol_q['Shift'].isin(S))]\n",
    "    else:\n",
    "        df_tmp = df_tmp[(sol_q['Shift']==shift)]\n",
    "\n",
    "    if day == 'All':\n",
    "        df_tmp = df_tmp[(sol_q['Day'].isin(days))]    \n",
    "    else:\n",
    "        df_tmp = df_tmp[(sol_q['Day']==day)]\n",
    "\n",
    "    print('------------Second half shift------------')\n",
    "    print(df_tmp)\n",
    "    \n",
    "\n",
    "    if shift == 'All':\n",
    "        df_tmp = sol_alpha[(sol_alpha['Shift'].isin(S))]\n",
    "    else:\n",
    "        df_tmp = sol_alpha[(sol_alpha['Shift']==shift)]\n",
    "\n",
    "    if day == 'All':\n",
    "        df_tmp = df_tmp[(sol_alpha['Day'].isin(days))]    \n",
    "    else:\n",
    "        df_tmp = df_tmp[(sol_alpha['Day']==day)]\n",
    "\n",
    "    print('------------Non covered shifts------------')\n",
    "    print(df_tmp)\n",
    "    \n",
    "\n",
    "\n",
    "interact(extract_info, nurse = widgets.Dropdown(value=\"All\",placeholder='Type something', options=nurses+['All']),\n",
    "              shift=widgets.Dropdown(value='All',placeholder='Type something', options=S+['All']),\n",
    "              day = widgets.Dropdown(value=\"All\",placeholder='Type something', options=days+['All'])\n",
    "        );\n",
    "\n"
   ]
  }
 ],
 "metadata": {
  "kernelspec": {
   "display_name": "Python 3",
   "language": "python",
   "name": "python3"
  },
  "language_info": {
   "codemirror_mode": {
    "name": "ipython",
    "version": 3
   },
   "file_extension": ".py",
   "mimetype": "text/x-python",
   "name": "python",
   "nbconvert_exporter": "python",
   "pygments_lexer": "ipython3",
   "version": "3.7.3"
  },
  "toc": {
   "base_numbering": 1,
   "nav_menu": {},
   "number_sections": true,
   "sideBar": true,
   "skip_h1_title": true,
   "title_cell": "Table of Contents",
   "title_sidebar": "Contents",
   "toc_cell": false,
   "toc_position": {},
   "toc_section_display": true,
   "toc_window_display": true
  },
  "varInspector": {
   "cols": {
    "lenName": 16,
    "lenType": 16,
    "lenVar": 40
   },
   "kernels_config": {
    "python": {
     "delete_cmd_postfix": "",
     "delete_cmd_prefix": "del ",
     "library": "var_list.py",
     "varRefreshCmd": "print(var_dic_list())"
    },
    "r": {
     "delete_cmd_postfix": ") ",
     "delete_cmd_prefix": "rm(",
     "library": "var_list.r",
     "varRefreshCmd": "cat(var_dic_list()) "
    }
   },
   "types_to_exclude": [
    "module",
    "function",
    "builtin_function_or_method",
    "instance",
    "_Feature"
   ],
   "window_display": false
  }
 },
 "nbformat": 4,
 "nbformat_minor": 2
}
