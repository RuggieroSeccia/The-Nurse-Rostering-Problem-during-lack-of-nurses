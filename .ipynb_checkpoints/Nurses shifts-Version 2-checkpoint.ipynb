{
 "cells": [
  {
   "cell_type": "markdown",
   "metadata": {},
   "source": [
    "Ruggiero Seccia, PhD candidate in Operations Research\n",
    "\n",
    "La Sapienza University of Rome\n",
    "\n",
    "Email: ruggiero.seccia@uniroma1.it\n",
    "\n",
    "Phone: +39 3318606535\n",
    "\n",
    "# Standard Nurses Rostering Problem (V2)\n",
    "\n",
    "\n",
    "This notebook implements a slightly modifed version of the Nurses rostering problem. With respect to V1, this notebook includes the possibility that __the number of nurses is not enough to guarantee the satisfaction of the working condition regulations within the ward__.  While in the previous case (V1) the problem was not feasible every time $N$ was not big enough, now the problem is ensured to be feasible by adding the slack variables $\\alpha_{st}$. The introduction of this hypothesis implies that in some shifts __we won't have enough nurses to properly assist all the patients with critical conditions__. $\\alpha_{st}$ will tell us this information and it will be the main term in the objective function we will optimize.\n",
    "\n",
    "We first define the problem setting, introduce the mathematical formulation and define as objective function to minimize the number of shifts without enough nurses (taking into account  the overall number of hours worked by the nurses as well). Then, we change the objective so as to __minimize the worst-case scenario__    and compare the two solutions found to show the improvements that can be obtained with the worst-case scenario formulation. In this case, as worst-ase scenario, we decide to minimize the overall number of hours worked by the nurse that works the most while still minimizing the number of nurses missing over all the shifts. However, many different other objectives can be defined.\n",
    "\n",
    "\n",
    "\n",
    "The model implemented in this notebook corresponds to the formulation $(1)$ with the modification described in the first part of section $(3)$ [here](http://www.optimization-online.org/DB_FILE/2020/03/7712.pdf)"
   ]
  },
  {
   "cell_type": "markdown",
   "metadata": {},
   "source": [
    "## importing the packages"
   ]
  },
  {
   "cell_type": "code",
   "execution_count": 1,
   "metadata": {
    "ExecuteTime": {
     "end_time": "2020-03-31T18:35:43.086587Z",
     "start_time": "2020-03-31T18:35:41.706006Z"
    }
   },
   "outputs": [],
   "source": [
    "import numpy as np\n",
    "try:\n",
    "    from docplex.mp.model import Model\n",
    "except:\n",
    "    !pip install docplex\n",
    "from docplex.mp.model import Model\n",
    "\n",
    "import pandas as pd\n",
    "\n",
    "try:\n",
    "    import ipywidgets\n",
    "except:\n",
    "    !pip install ipywidgets\n",
    "from ipywidgets import interact\n",
    "import ipywidgets as widgets\n",
    "import time"
   ]
  },
  {
   "cell_type": "markdown",
   "metadata": {},
   "source": [
    "## Parameters specification\n",
    "\n",
    "Let us consider a department in a hospital with a given number of nurses $N$. We want to organize their shifts for the next $T$ days, e.g. $T=7$ one week or $T=30$ next month,  and for all the followings so to minimize the effort required by the staff to satisfy the demand. By contract, each nurse $i$ has to work $H_i$ hours over the time horizon $T$ (e.g. each nurse must work at least 36 hours per week, $H=36$ and $T=7$). If the $i$th nurse works for a number of hours higher than $H_i$, then it is counted as extra work and then paid more by the healthcare structure.  However, nurses cannot work for more than $H^{\\max}$ hours per week, so to avoid burning out. Each day three shifts need to be covered by the nurses: morning, afternoon and night. Each shift $s$ requires $R_s$ nurses and lasts $h_s$ hours. Each nurse cannot cover more than one shift per day. Moreover, we have the further constraint that if a nurse covers a night shift then they need to rest and cannot work the following day.\n",
    "\n",
    "Let us  consider the parameter $p_i$ which brings information about the previous period. Namely, $p_i$ is a boolean parameter such that \n",
    "\\begin{equation*}\n",
    "    p_i=\n",
    "    \\begin{cases}\n",
    "    1  \\qquad \\text{if the } i \\text{th nurse worked on the last day of the previous period} \\\\\n",
    "    0 \\qquad \\text{otherwise.}\n",
    "    \\end{cases}\n",
    "\\end{equation*}\n",
    "\n",
    "\n",
    "(To get an estimate of the minimum values for $N$ to be sure that the number of nurses is large enough, we can consider that we need at least the number of nurses for covering each shift in a day plus the number of nurses to cover a night shift. E.g.\n",
    "if we need 5 nurses during the morning shift, 4 during the afternoon and 3 during the night, then overall we need $N=5+4+3+3$ nurses. Setting $N<15$ is likely to drive to solutions with $\\alpha>0$)\n"
   ]
  },
  {
   "cell_type": "code",
   "execution_count": 2,
   "metadata": {
    "ExecuteTime": {
     "end_time": "2020-03-31T18:35:43.105484Z",
     "start_time": "2020-03-31T18:35:43.089528Z"
    }
   },
   "outputs": [],
   "source": [
    "# number of nurses\n",
    "N = 10\n",
    "nurses = ['Nurse_' +str(n) for n in range(N)]\n",
    "# periods to schedule\n",
    "T = 7\n",
    "days = ['Day_' +str(t) for t in range(T)]\n",
    "# shifts\n",
    "S = ['Morning', 'Afternoon', 'Night']\n",
    "\n",
    "\n",
    "# standard number of hours by contract per nurse (e.g. 6 hours per day, 36 per week)\n",
    "H_base = 36*np.floor(T/7) + 6*np.mod(T,7)\n",
    "H = {n:j for n in nurses for j in [H_base]*len(nurses)}\n",
    "\n",
    "# maximum number of hours a nurse can work including the extra shifts (e.g. 10 hours per day, 60 per week)\n",
    "H_max = 60*np.floor(T/7) + 10*np.mod(T,7)\n",
    "H_MAX = {n:j for n in nurses for j in [H_max]*len(nurses)}\n",
    "\n",
    "# update some nurses values\n",
    "# H['Nurse_1'] =20\n",
    "\n",
    "# number of nurses required per shift\n",
    "R = {'Morning' : 5,\n",
    "     'Afternoon' : 4,\n",
    "     'Night' : 3}\n",
    "# duration of each shift\n",
    "h = {'Morning' : 7,\n",
    "     'Afternoon' : 8,\n",
    "     'Night' : 9}\n",
    "\n",
    "# list of nurses that on the last day of the previous period covered  the night shift\n",
    "p_list= ['Nurse_0']\n",
    "# dictionary with the values of p per each nurse\n",
    "p = {n:0 for n in nurses}\n",
    "# update the dictionary with p_list\n",
    "for pp in p_list:\n",
    "    p[pp]=1\n"
   ]
  },
  {
   "cell_type": "markdown",
   "metadata": {},
   "source": [
    "## Optimization model \n",
    "\n",
    "To formulate this optimization problem, let us introduce the binary variable $x_{ist}\\in\\{0,1\\}$ such that \n",
    "\\begin{equation*}\n",
    "    x_{ist}=\n",
    "    \\begin{cases}\n",
    "    1  \\qquad \\text{if nurse } i \\text{th covers shift } s \\text{th on day } t\\text{th} \\\\\n",
    "    0 \\qquad \\text{otherwise}\n",
    "    \\end{cases}\n",
    "\\end{equation*}\n",
    "\n",
    "Moreover we define the variable $\\alpha_{st} \\in R $ which represents the number of nurses that are missing to satisfy the minimum demand of the $s$th shift on the $t$th department.\n",
    "\n",
    "We want to find the optimal schedule $x^\\star$ such that the number of hours worked by nurses is minimized and all the department's constraints are satisfied. Of course, we are also interested in minimizing the number of shifts that cannot be covered by the nurses ($\\sum_{st}\\alpha_st$)"
   ]
  },
  {
   "cell_type": "code",
   "execution_count": 3,
   "metadata": {
    "ExecuteTime": {
     "end_time": "2020-03-31T18:35:43.316919Z",
     "start_time": "2020-03-31T18:35:43.109472Z"
    }
   },
   "outputs": [],
   "source": [
    "mdl = Model('Scheduling')\n",
    "\n",
    "# create the variables\n",
    "idx_x = [(i,s,t) for i in nurses for s in S for t in days]\n",
    "x = mdl.binary_var_dict(idx_x)\n",
    "idx_alpha = [(s,t) for s in S for t in days]\n",
    "alpha = mdl.continuous_var_dict(idx_alpha,lb = 0)\n"
   ]
  },
  {
   "cell_type": "markdown",
   "metadata": {},
   "source": [
    "### Objective function\n",
    "The objective function is asking to minimize the overall number of hours worked by all nurses within the period under consideration while reducing the most the number of hours not covered by nurses\n",
    "\n",
    "\\begin{equation*}\n",
    "\\begin{aligned}\n",
    "& \\underset{x_{ist}\\in\\{0,1\\},\\alpha_{st}\\in R}{\\text{min}}\n",
    "& & \\sum_{i=1}^N\\sum_{s=1}^3\\sum_{t=1}^T x_{ist}h_s +\n",
    "  \\rho \\sum_{s=1}^3\\sum_{t=1}^T\\alpha_{st}\\\\\n",
    "\\end{aligned}\n",
    "\\end{equation*}\n",
    "\n",
    "with $\\rho>\\max_s h_s$  so that covering a shift with a nurse is more convenient than not covering it. Indeed, we are interested first in covering shifts with the available nurses and then in minimizing the overall number of hours worked.\n",
    "\n",
    "Note that, even if $\\alpha$ represents a discrete quantity, it is modeled as a continuous variable since at the optimum it will achieve only integer values."
   ]
  },
  {
   "cell_type": "code",
   "execution_count": 4,
   "metadata": {
    "ExecuteTime": {
     "end_time": "2020-03-31T18:35:43.332001Z",
     "start_time": "2020-03-31T18:35:43.320934Z"
    }
   },
   "outputs": [],
   "source": [
    "# objective function definition\n",
    "mdl.minimize(mdl.sum(x[i,s,t]*h[s] for i in nurses for s in S for t in days)\n",
    "             +(max(h.values())+1)*mdl.sum(alpha[s,t] for s in S for t in days))"
   ]
  },
  {
   "cell_type": "markdown",
   "metadata": {},
   "source": [
    "### Constraints\n",
    "- Each person cannot cover more than one shift in the same day \n",
    "$$ \\sum_{s=1}^3x_{ist}\\leq 1 \\qquad \\forall i=1,...,N \\;t=1,...,T \\label{eq: 21}$$\n",
    "\n",
    "- The number of personnel per each shift in each day plus the slack variables $\\alpha$ satisfy the demand \n",
    "$$\\sum_{i=1}^N x_{ist} +\\alpha_{st} = R_{s} \\qquad \\forall s=1,...,3 \\; t=1,...,T  \\label{eq: 22} $$\n",
    "\n",
    "- Each nurse works at minimum the number of hours required by contract\n",
    "$$ \\sum_{s=1}^3\\sum_{t=1}^T x_{ist}h_s\\geq H_i \\qquad \\forall i=1,...,N \\label{eq: 23}$$\n",
    "- but at most $H^{\\max}$ hours\n",
    "$$ \\sum_{s=1}^3\\sum_{t=1}^T x_{ist}h_s\\leq H^{\\max} \\qquad \\forall i=1,...,N $$\n",
    "\n",
    "- If a nurse covers a night shift, then the next day they cannot work\n",
    "$$ x_{i3t}+\\sum_{s=1}^3 x_{ist+1}\\leq 1 \\qquad \\forall i=1,...N \\; t=1,...,T-1\\label{eq: 24}$$\n",
    "\n",
    "- Each nurse cannot work on the first day of the new period if they worked on the last day of the previous period\n",
    "$$ \\sum_{s=1}^3 x_{is1}\\leq (1-p_i) \\qquad \\forall i=1,...,N  \\label{eq: 25}$$\n"
   ]
  },
  {
   "cell_type": "code",
   "execution_count": 5,
   "metadata": {
    "ExecuteTime": {
     "end_time": "2020-03-31T18:35:43.369053Z",
     "start_time": "2020-03-31T18:35:43.335961Z"
    },
    "scrolled": true
   },
   "outputs": [],
   "source": [
    "mdl.add_constraints(mdl.sum(x[i,s,t] for s in S) <= 1 for i in nurses for t in days);\n",
    "\n",
    "mdl.add_constraints(mdl.sum(x[i,s,t] for i in nurses)+alpha[s,t]== R[s]  for s in S for t in days);\n",
    "\n",
    "mdl.add_constraints(mdl.sum(x[i,s,t]*h[s] for s in S for t in days) >= H[i] for i in nurses );\n",
    "\n",
    "mdl.add_constraints( x[i,S[-1],t] + mdl.sum(x[i,s,days[j+1]] for s in S )<= 1 for i in nurses for j,t in enumerate(days[:-1]) );\n",
    "\n",
    "mdl.add_constraints(mdl.sum(x[i,s,days[0]] for s in S ) <= (1-p[i]) for i in nurses );"
   ]
  },
  {
   "cell_type": "markdown",
   "metadata": {},
   "source": [
    "### Defining KPI\n",
    "Let's specify some KPI we might be interested in compare"
   ]
  },
  {
   "cell_type": "code",
   "execution_count": 6,
   "metadata": {
    "ExecuteTime": {
     "end_time": "2020-03-31T18:35:43.419605Z",
     "start_time": "2020-03-31T18:35:43.372812Z"
    }
   },
   "outputs": [
    {
     "data": {
      "text/plain": [
       "DecisionKPI(name=Minimum # hours worked,expr=min(7x1+7x2+7x3+7x4+7x5+7x6+7x7+8x8+8x9+8x10+8x11+8x12+8x13+8x14..)"
      ]
     },
     "execution_count": 6,
     "metadata": {},
     "output_type": "execute_result"
    }
   ],
   "source": [
    "mdl.add_kpi(mdl.sum(R[s]- mdl.sum(x[i,s,t] for i in nurses)>=1 for s in S for t in days), '# of shifts not completely covered');\n",
    "mdl.add_kpi(mdl.max(alpha[s,t] for s in S for t in days), 'Maximum # missing nurses in one shift')\n",
    "mdl.add_kpi(mdl.sum(alpha[s,t] for s in S for t in days), 'Sum of missing nurses in all the shifts')\n",
    "\n",
    "mdl.add_kpi(mdl.max(mdl.sum(x[i,s,t]*h[s] for s in S for t in days)for i in nurses), 'Maximum # hours worked')\n",
    "mdl.add_kpi(mdl.min(mdl.sum(x[i,s,t]*h[s] for s in S for t in days)for i in nurses), 'Minimum # hours worked')"
   ]
  },
  {
   "cell_type": "markdown",
   "metadata": {},
   "source": [
    "### Solve the problem"
   ]
  },
  {
   "cell_type": "code",
   "execution_count": 7,
   "metadata": {
    "ExecuteTime": {
     "end_time": "2020-03-31T18:35:43.484388Z",
     "start_time": "2020-03-31T18:35:43.422877Z"
    },
    "scrolled": false
   },
   "outputs": [
    {
     "name": "stdout",
     "output_type": "stream",
     "text": [
      "Model: Scheduling\n",
      " - number of variables: 272\n",
      "   - binary=231, integer=0, continuous=41\n",
      " - number of constraints: 212\n",
      "   - linear=191, equiv=21\n",
      " - parameters: defaults\n",
      " - problem type is: MILP\n"
     ]
    },
    {
     "data": {
      "text/plain": [
       "docplex.mp.SolveDetails(time=0.047,status='integer optimal solution')"
      ]
     },
     "execution_count": 7,
     "metadata": {},
     "output_type": "execute_result"
    }
   ],
   "source": [
    "mdl.print_information()\n",
    "mdl.solve()\n",
    "mdl.solution.solve_details"
   ]
  },
  {
   "cell_type": "code",
   "execution_count": 8,
   "metadata": {
    "ExecuteTime": {
     "end_time": "2020-03-31T18:35:43.498387Z",
     "start_time": "2020-03-31T18:35:43.489376Z"
    }
   },
   "outputs": [
    {
     "data": {
      "text/plain": [
       "True"
      ]
     },
     "execution_count": 8,
     "metadata": {},
     "output_type": "execute_result"
    }
   ],
   "source": [
    "status = mdl.solve_details.status == 'integer optimal solution'\n",
    "status"
   ]
  },
  {
   "cell_type": "code",
   "execution_count": 9,
   "metadata": {
    "ExecuteTime": {
     "end_time": "2020-03-31T18:35:43.513305Z",
     "start_time": "2020-03-31T18:35:43.504331Z"
    }
   },
   "outputs": [
    {
     "name": "stdout",
     "output_type": "stream",
     "text": [
      "* model Scheduling solved with objective = 676.000\n",
      "*  KPI: # of shifts not completely covered      = 7.000\n",
      "*  KPI: Maximum # missing nurses in one shift   = 3.000\n",
      "*  KPI: Sum of missing nurses in all the shifts = 18.000\n",
      "*  KPI: Maximum # hours worked                  = 55.000\n",
      "*  KPI: Minimum # hours worked                  = 40.000\n"
     ]
    }
   ],
   "source": [
    "mdl.report()"
   ]
  },
  {
   "cell_type": "markdown",
   "metadata": {},
   "source": [
    "## Analysing the solution\n",
    "\n",
    "Below we provide simple tools to analyse the solution obtained"
   ]
  },
  {
   "cell_type": "code",
   "execution_count": 10,
   "metadata": {
    "ExecuteTime": {
     "end_time": "2020-03-31T18:35:43.527441Z",
     "start_time": "2020-03-31T18:35:43.517295Z"
    }
   },
   "outputs": [],
   "source": [
    "def x_star_to_pandas(x):\n",
    "    '''\n",
    "    takes in input the solution of the optimization problem as a dictionary \n",
    "    returns the solution as a dataframe \n",
    "    '''\n",
    "    sol = pd.DataFrame(columns = ['Nurse', 'Shift', 'Day'])\n",
    "    k = 0\n",
    "    for key, value in x.items():\n",
    "        if value>0:\n",
    "            sol.loc[k] =np.array([i for i in key])\n",
    "            k+=1\n",
    "    return sol"
   ]
  },
  {
   "cell_type": "code",
   "execution_count": 11,
   "metadata": {
    "ExecuteTime": {
     "end_time": "2020-03-31T18:35:43.779364Z",
     "start_time": "2020-03-31T18:35:43.530263Z"
    },
    "scrolled": true
   },
   "outputs": [
    {
     "data": {
      "text/html": [
       "<div>\n",
       "<style scoped>\n",
       "    .dataframe tbody tr th:only-of-type {\n",
       "        vertical-align: middle;\n",
       "    }\n",
       "\n",
       "    .dataframe tbody tr th {\n",
       "        vertical-align: top;\n",
       "    }\n",
       "\n",
       "    .dataframe thead th {\n",
       "        text-align: right;\n",
       "    }\n",
       "</style>\n",
       "<table border=\"1\" class=\"dataframe\">\n",
       "  <thead>\n",
       "    <tr style=\"text-align: right;\">\n",
       "      <th></th>\n",
       "      <th>Nurse</th>\n",
       "      <th>Shift</th>\n",
       "      <th>Day</th>\n",
       "    </tr>\n",
       "  </thead>\n",
       "  <tbody>\n",
       "    <tr>\n",
       "      <th>0</th>\n",
       "      <td>Nurse_0</td>\n",
       "      <td>Afternoon</td>\n",
       "      <td>Day_1</td>\n",
       "    </tr>\n",
       "    <tr>\n",
       "      <th>1</th>\n",
       "      <td>Nurse_0</td>\n",
       "      <td>Afternoon</td>\n",
       "      <td>Day_2</td>\n",
       "    </tr>\n",
       "    <tr>\n",
       "      <th>2</th>\n",
       "      <td>Nurse_0</td>\n",
       "      <td>Afternoon</td>\n",
       "      <td>Day_3</td>\n",
       "    </tr>\n",
       "    <tr>\n",
       "      <th>3</th>\n",
       "      <td>Nurse_0</td>\n",
       "      <td>Afternoon</td>\n",
       "      <td>Day_4</td>\n",
       "    </tr>\n",
       "    <tr>\n",
       "      <th>4</th>\n",
       "      <td>Nurse_0</td>\n",
       "      <td>Afternoon</td>\n",
       "      <td>Day_5</td>\n",
       "    </tr>\n",
       "  </tbody>\n",
       "</table>\n",
       "</div>"
      ],
      "text/plain": [
       "     Nurse      Shift    Day\n",
       "0  Nurse_0  Afternoon  Day_1\n",
       "1  Nurse_0  Afternoon  Day_2\n",
       "2  Nurse_0  Afternoon  Day_3\n",
       "3  Nurse_0  Afternoon  Day_4\n",
       "4  Nurse_0  Afternoon  Day_5"
      ]
     },
     "execution_count": 11,
     "metadata": {},
     "output_type": "execute_result"
    }
   ],
   "source": [
    "# transform the solution into a dataframe\n",
    "x_star_dict =mdl.solution.get_value_dict(x)\n",
    "sol_x = x_star_to_pandas(x_star_dict)\n",
    "sol_x.head()"
   ]
  },
  {
   "cell_type": "markdown",
   "metadata": {},
   "source": [
    "### Is the number of nurses $N$ enough to satisfy the demand?"
   ]
  },
  {
   "cell_type": "code",
   "execution_count": 12,
   "metadata": {
    "ExecuteTime": {
     "end_time": "2020-03-31T18:35:43.790312Z",
     "start_time": "2020-03-31T18:35:43.782751Z"
    },
    "scrolled": true
   },
   "outputs": [
    {
     "name": "stdout",
     "output_type": "stream",
     "text": [
      "NO! The number of nurses is not enough to satisfy the demand. alpha_star=  3.0\n"
     ]
    }
   ],
   "source": [
    "alpha_star_dict =mdl.solution.get_value_dict(alpha)\n",
    "if max(list(alpha_star_dict.values()))==0:\n",
    "    print('YES! The number of nurses is enough to satisfy the demand')\n",
    "else:\n",
    "    print('NO! The number of nurses is not enough to satisfy the demand. alpha_star= ',max(list(alpha_star_dict.values())))\n"
   ]
  },
  {
   "cell_type": "markdown",
   "metadata": {},
   "source": [
    "### How many hours does each nurse work over the period?"
   ]
  },
  {
   "cell_type": "code",
   "execution_count": 13,
   "metadata": {
    "ExecuteTime": {
     "end_time": "2020-03-31T18:35:43.820277Z",
     "start_time": "2020-03-31T18:35:43.793160Z"
    },
    "scrolled": false
   },
   "outputs": [
    {
     "data": {
      "text/plain": [
       "{'Nurse_0': 48,\n",
       " 'Nurse_1': 51,\n",
       " 'Nurse_2': 51,\n",
       " 'Nurse_3': 55,\n",
       " 'Nurse_4': 55,\n",
       " 'Nurse_5': 51,\n",
       " 'Nurse_6': 40,\n",
       " 'Nurse_7': 44,\n",
       " 'Nurse_8': 51,\n",
       " 'Nurse_9': 50}"
      ]
     },
     "execution_count": 13,
     "metadata": {},
     "output_type": "execute_result"
    }
   ],
   "source": [
    "worked_hours = {n:0 for n in nurses}\n",
    "\n",
    "for i,j in sol_x.iterrows():\n",
    "    worked_hours[j['Nurse']]+=h[j['Shift']]\n",
    "worked_hours"
   ]
  },
  {
   "cell_type": "markdown",
   "metadata": {},
   "source": [
    "### Visualization tool\n",
    "\n",
    "Below we provide a tool to check the schedule. "
   ]
  },
  {
   "cell_type": "code",
   "execution_count": 14,
   "metadata": {
    "ExecuteTime": {
     "end_time": "2020-03-31T18:35:43.828257Z",
     "start_time": "2020-03-31T18:35:43.823308Z"
    }
   },
   "outputs": [],
   "source": [
    "# remove warning from pandas (in the viz_tool it does what we need)\n",
    "import warnings\n",
    "warnings.simplefilter(action='ignore')"
   ]
  },
  {
   "cell_type": "code",
   "execution_count": 15,
   "metadata": {
    "ExecuteTime": {
     "end_time": "2020-03-31T18:35:45.135560Z",
     "start_time": "2020-03-31T18:35:43.831251Z"
    },
    "scrolled": true
   },
   "outputs": [
    {
     "data": {
      "application/vnd.jupyter.widget-view+json": {
       "model_id": "308f135293b54dfba9065be975b8957a",
       "version_major": 2,
       "version_minor": 0
      },
      "text/plain": [
       "interactive(children=(Dropdown(description='nurse', index=10, options=('Nurse_0', 'Nurse_1', 'Nurse_2', 'Nurse…"
      ]
     },
     "metadata": {},
     "output_type": "display_data"
    }
   ],
   "source": [
    "\n",
    "def viz_tool(nurse,shift,day):\n",
    "    '''\n",
    "    interactive function to extract the information required:\n",
    "    if a value is 'All' then it returns all the values for that specific feature\n",
    "    '''\n",
    "    global nurses,S,days\n",
    "    \n",
    "    if nurse == 'All':\n",
    "        df_tmp = sol_x[(sol_x['Nurse'].isin(nurses))]\n",
    "    else:\n",
    "        df_tmp = sol_x[(sol_x['Nurse']==nurse)]\n",
    "\n",
    "    if shift == 'All':\n",
    "        df_tmp = df_tmp[(sol_x['Shift'].isin(S))]\n",
    "    else:\n",
    "        df_tmp = df_tmp[(sol_x['Shift']==shift)]\n",
    "\n",
    "    if day == 'All':\n",
    "        df_tmp = df_tmp[(sol_x['Day'].isin(days))]    \n",
    "    else:\n",
    "        df_tmp = df_tmp[(sol_x['Day']==day)]\n",
    "\n",
    "    print(df_tmp)\n",
    "\n",
    "interact(viz_tool, nurse = widgets.Dropdown(value=\"All\",placeholder='Type something', options=nurses+['All']),\n",
    "              shift=widgets.Dropdown(value='All',placeholder='Type something', options=S+['All']),\n",
    "              day = widgets.Dropdown(value=\"All\",placeholder='Type something', options=days+['All'])\n",
    "        );\n",
    "\n"
   ]
  },
  {
   "cell_type": "markdown",
   "metadata": {},
   "source": [
    "## Minimizing the worst case scenario\n",
    "\n",
    " We want to modify the objective function so to minimize the worst case scenario, i.e. minimize the maximum number of hours done by a nurse. It can be easily accomplished by introducing the further continuous variable $y\\in R$, rewriting the objective function as\n",
    "\\begin{equation*}\n",
    "    \\underset{x_{ist}\\in\\{0,1\\},y\\in R,\\alpha_{st}\\in R}{\\text{min}} \\quad  y +\\rho \\sum_{s=1}^3\\sum_{t=1}^T\\alpha_{st}\n",
    "\\end{equation*}\n",
    "\n",
    "and introducing the set of constraints:\n",
    "\\begin{equation*}\n",
    "    y\\geq \\sum_{s=1}^3\\sum_{t=1}^T x_{ist}h_s \\qquad \\forall i=1,...,N\n",
    "\\end{equation*}"
   ]
  },
  {
   "cell_type": "code",
   "execution_count": 16,
   "metadata": {
    "ExecuteTime": {
     "end_time": "2020-03-31T18:35:45.150558Z",
     "start_time": "2020-03-31T18:35:45.138628Z"
    }
   },
   "outputs": [],
   "source": [
    "# create the new variable for minimizing the worst case scenario\n",
    "y = mdl.continuous_var()\n",
    "\n",
    "# modify the objective function\n",
    "mdl.minimize(y\n",
    "             +(max(h.values())+1)*mdl.sum(alpha[s,t] for s in S for t in days))\n",
    "\n",
    "# add the linear constraint\n",
    "mdl.add_constraints( y>= mdl.sum( x[i,s,t]*h[s] for s in S for t in days) for i in nurses);"
   ]
  },
  {
   "cell_type": "markdown",
   "metadata": {},
   "source": [
    "### Solve the problem"
   ]
  },
  {
   "cell_type": "code",
   "execution_count": 17,
   "metadata": {
    "ExecuteTime": {
     "end_time": "2020-03-31T18:35:45.511671Z",
     "start_time": "2020-03-31T18:35:45.153599Z"
    },
    "scrolled": false
   },
   "outputs": [
    {
     "name": "stdout",
     "output_type": "stream",
     "text": [
      "Model: Scheduling\n",
      " - number of variables: 273\n",
      "   - binary=231, integer=0, continuous=42\n",
      " - number of constraints: 222\n",
      "   - linear=201, equiv=21\n",
      " - parameters: defaults\n",
      " - problem type is: MILP\n"
     ]
    },
    {
     "data": {
      "text/plain": [
       "docplex.mp.SolveDetails(time=0.344,status='integer optimal solution')"
      ]
     },
     "execution_count": 17,
     "metadata": {},
     "output_type": "execute_result"
    }
   ],
   "source": [
    "mdl.print_information()\n",
    "mdl.solve()\n",
    "mdl.solution.solve_details"
   ]
  },
  {
   "cell_type": "code",
   "execution_count": 18,
   "metadata": {
    "ExecuteTime": {
     "end_time": "2020-03-31T18:35:45.526638Z",
     "start_time": "2020-03-31T18:35:45.516091Z"
    }
   },
   "outputs": [
    {
     "name": "stdout",
     "output_type": "stream",
     "text": [
      "* model Scheduling solved with objective = 231.000\n",
      "*  KPI: # of shifts not completely covered      = 7.000\n",
      "*  KPI: Maximum # missing nurses in one shift   = 3.000\n",
      "*  KPI: Sum of missing nurses in all the shifts = 18.000\n",
      "*  KPI: Maximum # hours worked                  = 51.000\n",
      "*  KPI: Minimum # hours worked                  = 46.000\n"
     ]
    }
   ],
   "source": [
    "mdl.report()"
   ]
  },
  {
   "cell_type": "markdown",
   "metadata": {},
   "source": [
    "## Comparing the new solution with the old one"
   ]
  },
  {
   "cell_type": "code",
   "execution_count": 19,
   "metadata": {
    "ExecuteTime": {
     "end_time": "2020-03-31T18:35:45.761614Z",
     "start_time": "2020-03-31T18:35:45.530623Z"
    },
    "scrolled": true
   },
   "outputs": [
    {
     "data": {
      "text/html": [
       "<div>\n",
       "<style scoped>\n",
       "    .dataframe tbody tr th:only-of-type {\n",
       "        vertical-align: middle;\n",
       "    }\n",
       "\n",
       "    .dataframe tbody tr th {\n",
       "        vertical-align: top;\n",
       "    }\n",
       "\n",
       "    .dataframe thead th {\n",
       "        text-align: right;\n",
       "    }\n",
       "</style>\n",
       "<table border=\"1\" class=\"dataframe\">\n",
       "  <thead>\n",
       "    <tr style=\"text-align: right;\">\n",
       "      <th></th>\n",
       "      <th>Nurse</th>\n",
       "      <th>Shift</th>\n",
       "      <th>Day</th>\n",
       "    </tr>\n",
       "  </thead>\n",
       "  <tbody>\n",
       "    <tr>\n",
       "      <th>0</th>\n",
       "      <td>Nurse_0</td>\n",
       "      <td>Afternoon</td>\n",
       "      <td>Day_1</td>\n",
       "    </tr>\n",
       "    <tr>\n",
       "      <th>1</th>\n",
       "      <td>Nurse_0</td>\n",
       "      <td>Afternoon</td>\n",
       "      <td>Day_2</td>\n",
       "    </tr>\n",
       "    <tr>\n",
       "      <th>2</th>\n",
       "      <td>Nurse_0</td>\n",
       "      <td>Afternoon</td>\n",
       "      <td>Day_3</td>\n",
       "    </tr>\n",
       "    <tr>\n",
       "      <th>3</th>\n",
       "      <td>Nurse_0</td>\n",
       "      <td>Afternoon</td>\n",
       "      <td>Day_4</td>\n",
       "    </tr>\n",
       "    <tr>\n",
       "      <th>4</th>\n",
       "      <td>Nurse_0</td>\n",
       "      <td>Afternoon</td>\n",
       "      <td>Day_5</td>\n",
       "    </tr>\n",
       "  </tbody>\n",
       "</table>\n",
       "</div>"
      ],
      "text/plain": [
       "     Nurse      Shift    Day\n",
       "0  Nurse_0  Afternoon  Day_1\n",
       "1  Nurse_0  Afternoon  Day_2\n",
       "2  Nurse_0  Afternoon  Day_3\n",
       "3  Nurse_0  Afternoon  Day_4\n",
       "4  Nurse_0  Afternoon  Day_5"
      ]
     },
     "execution_count": 19,
     "metadata": {},
     "output_type": "execute_result"
    }
   ],
   "source": [
    "# transform the solution into a dataframe\n",
    "x_star_dict =mdl.solution.get_value_dict(x)\n",
    "sol_x = x_star_to_pandas(x_star_dict)\n",
    "sol_x.head()"
   ]
  },
  {
   "cell_type": "markdown",
   "metadata": {},
   "source": [
    "### Compute number of hours worked"
   ]
  },
  {
   "cell_type": "code",
   "execution_count": 20,
   "metadata": {
    "ExecuteTime": {
     "end_time": "2020-03-31T18:35:45.788675Z",
     "start_time": "2020-03-31T18:35:45.764611Z"
    },
    "scrolled": false
   },
   "outputs": [],
   "source": [
    "# number of hours worked by each nurse \n",
    "worked_hours_wc = {n:0 for n in nurses}\n",
    "\n",
    "for i,j in sol_x.iterrows():\n",
    "    worked_hours_wc[j['Nurse']]+=h[j['Shift']]\n"
   ]
  },
  {
   "cell_type": "markdown",
   "metadata": {},
   "source": [
    "#### Comparison with the previous solution\n",
    "\n",
    "Hours are more equally distributed!"
   ]
  },
  {
   "cell_type": "code",
   "execution_count": 21,
   "metadata": {
    "ExecuteTime": {
     "end_time": "2020-03-31T18:35:45.802508Z",
     "start_time": "2020-03-31T18:35:45.791506Z"
    }
   },
   "outputs": [
    {
     "name": "stdout",
     "output_type": "stream",
     "text": [
      "Nurse      Old value  New value \n",
      "Nurse_0:   48         49        \n",
      "Nurse_1:   51         49        \n",
      "Nurse_2:   51         50        \n",
      "Nurse_3:   55         51        \n",
      "Nurse_4:   55         46        \n",
      "Nurse_5:   51         51        \n",
      "Nurse_6:   40         51        \n",
      "Nurse_7:   44         50        \n",
      "Nurse_8:   51         50        \n",
      "Nurse_9:   50         49        \n"
     ]
    }
   ],
   "source": [
    "print(\"{0:<10s} {1:<10s} {2:<10s}\".format(\"Nurse\",\"Old value\", \"New value\") )\n",
    "for i in worked_hours.keys():\n",
    "    print(\"{0:<10s} {1:<10.0f} {2:<10.0f}\".format(i+\":\",worked_hours[i],worked_hours_wc[i]) )"
   ]
  },
  {
   "cell_type": "markdown",
   "metadata": {},
   "source": [
    "### Maximum number of hours worked:\n",
    "By comparing the results, we can see that the maximum and minimu number pf hours worked are much closer in this new formulation"
   ]
  },
  {
   "cell_type": "code",
   "execution_count": 22,
   "metadata": {
    "ExecuteTime": {
     "end_time": "2020-03-31T18:35:45.814477Z",
     "start_time": "2020-03-31T18:35:45.805465Z"
    }
   },
   "outputs": [
    {
     "name": "stdout",
     "output_type": "stream",
     "text": [
      "Difference on maximum differenceon number of hours worked by each nurse:\n",
      "Old value: 15 New value:  5\n"
     ]
    }
   ],
   "source": [
    "print('Difference on maximum differenceon number of hours worked by each nurse:')\n",
    "print(\"Old value: {0:>2.0f} New value: {1:>2.0f}\".format(max(worked_hours.values())-min(worked_hours.values()),\n",
    "                                                         max(worked_hours_wc.values())-min(worked_hours_wc.values()))) \n"
   ]
  },
  {
   "cell_type": "code",
   "execution_count": 23,
   "metadata": {
    "ExecuteTime": {
     "end_time": "2020-03-31T18:35:45.913211Z",
     "start_time": "2020-03-31T18:35:45.823417Z"
    },
    "code_folding": [],
    "scrolled": false
   },
   "outputs": [
    {
     "data": {
      "application/vnd.jupyter.widget-view+json": {
       "model_id": "15c212ec9fa54d83b8d273aac4491feb",
       "version_major": 2,
       "version_minor": 0
      },
      "text/plain": [
       "interactive(children=(Dropdown(description='nurse', index=10, options=('Nurse_0', 'Nurse_1', 'Nurse_2', 'Nurse…"
      ]
     },
     "metadata": {},
     "output_type": "display_data"
    }
   ],
   "source": [
    "interact(viz_tool, nurse = widgets.Dropdown(value=\"All\",placeholder='Type something', options=nurses+['All']),\n",
    "              shift=widgets.Dropdown(value='All',placeholder='Type something', options=S+['All']),\n",
    "              day = widgets.Dropdown(value=\"All\",placeholder='Type something', options=days+['All']),\n",
    "        );\n",
    "\n"
   ]
  }
 ],
 "metadata": {
  "kernelspec": {
   "display_name": "Python 3",
   "language": "python",
   "name": "python3"
  },
  "language_info": {
   "codemirror_mode": {
    "name": "ipython",
    "version": 3
   },
   "file_extension": ".py",
   "mimetype": "text/x-python",
   "name": "python",
   "nbconvert_exporter": "python",
   "pygments_lexer": "ipython3",
   "version": "3.7.3"
  },
  "toc": {
   "base_numbering": 1,
   "nav_menu": {},
   "number_sections": true,
   "sideBar": true,
   "skip_h1_title": true,
   "title_cell": "Table of Contents",
   "title_sidebar": "Contents",
   "toc_cell": false,
   "toc_position": {},
   "toc_section_display": true,
   "toc_window_display": true
  },
  "varInspector": {
   "cols": {
    "lenName": 16,
    "lenType": 16,
    "lenVar": 40
   },
   "kernels_config": {
    "python": {
     "delete_cmd_postfix": "",
     "delete_cmd_prefix": "del ",
     "library": "var_list.py",
     "varRefreshCmd": "print(var_dic_list())"
    },
    "r": {
     "delete_cmd_postfix": ") ",
     "delete_cmd_prefix": "rm(",
     "library": "var_list.r",
     "varRefreshCmd": "cat(var_dic_list()) "
    }
   },
   "types_to_exclude": [
    "module",
    "function",
    "builtin_function_or_method",
    "instance",
    "_Feature"
   ],
   "window_display": false
  }
 },
 "nbformat": 4,
 "nbformat_minor": 2
}
