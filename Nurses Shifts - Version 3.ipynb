{
 "cells": [
  {
   "cell_type": "markdown",
   "metadata": {},
   "source": [
    "Ruggiero Seccia\n",
    "\n",
    "La Sapienza University of Rome\n",
    "\n",
    "Email: ruggiero.seccia@uniroma1.it\n",
    "\n",
    "Phone: +39 3318606535\n",
    "\n",
    "# Standard Nurses Rostering Problem (V3)\n",
    "\n",
    "\n",
    "This notebook implements a version of the NRP problem in the case the number of nurses is not enough to guarantee the satisfaction of the working condition regulations within the ward. __We consider the possibility that each nurse are asked to work more than one shift per day but up to $H^{\\max}$ hours per period__. To this aim, we assume that each nurse can work for a fraction  $(1-c)$ or $c$ of the shift respectively before or after their shift. E.g. by fixing $c=0.5$ we allow each nurse to work half shift more before or after their proper shift. This allow us to reduce the number of shifts with insufficient number of nurses while minimizing stress for the healthcare personnel by defining balanced schedules.\n",
    "\n"
   ]
  },
  {
   "cell_type": "markdown",
   "metadata": {},
   "source": [
    "## importing the packages"
   ]
  },
  {
   "cell_type": "code",
   "execution_count": 67,
   "metadata": {
    "ExecuteTime": {
     "end_time": "2020-03-29T17:12:08.435438Z",
     "start_time": "2020-03-29T17:12:08.425461Z"
    }
   },
   "outputs": [],
   "source": [
    "import numpy as np\n",
    "try:\n",
    "    from docplex.mp.model import Model\n",
    "except:\n",
    "    !pip install docplex\n",
    "from docplex.mp.model import Model\n",
    "\n",
    "import pandas as pd\n",
    "\n",
    "try:\n",
    "    import ipywidgets\n",
    "except:\n",
    "    !pip install ipywidgets\n",
    "from ipywidgets import interact\n",
    "import ipywidgets as widgets\n",
    "import copy"
   ]
  },
  {
   "cell_type": "markdown",
   "metadata": {},
   "source": [
    "## Parameters specification\n",
    "Let us consider a department in a hospital with a given number of nurses $N$. We want to organize their shifts for the next $T$ days, e.g. $T=7$ one week or $T=30$ next month,  and for all the followings so to minimize the effort required by the staff to satisfy the demand. By contract, each nurse $i$ has to work $H_i$ hours over the time horizon $T$ (e.g. each nurse must work at least 36 hours per week, $H=36$ and $T=7$). If the $i$th nurse works for a number of hours higher than $H_i$, then it is counted as extra work and then paid more by the healthcare structure. Each day three shifts need to be covered by the nurses: Morning, Afternoon, Night.\n",
    "\n",
    "Each shift $s$ requires $R_s$ nurses and lasts $h_s$ hours. Each nurse cannot cover more than one shift per day. Moreover, we have the further constraint that if a nurse covers a night shift then they need to rest and cannot work the following day. \n",
    "\n",
    "Let us  consider the parameter $p_i$ which brings information about the previous period. Namely, $p_i$ is a boolean parameter such that \n",
    "\\begin{equation*}\n",
    "    p_i=\n",
    "    \\begin{cases}\n",
    "    1  \\qquad \\text{if the } i \\text{th nurse worked on the last day of the previous period} \\\\\n",
    "    0 \\qquad \\text{otherwise.}\n",
    "    \\end{cases}\n",
    "\\end{equation*}\n",
    "\n",
    "Each nurse can work more than one shift per day but up to $H^{\\max}$ hours per period. In particular, each nurse is allowed to work an extra half shift before or after entering the assigned shift.\n"
   ]
  },
  {
   "cell_type": "code",
   "execution_count": 68,
   "metadata": {
    "ExecuteTime": {
     "end_time": "2020-03-29T17:12:14.617810Z",
     "start_time": "2020-03-29T17:12:14.605831Z"
    }
   },
   "outputs": [],
   "source": [
    "# number of nurses\n",
    "N = 10\n",
    "nurses = ['Nurse_' +str(n) for n in range(N)]\n",
    "# periods to schedule\n",
    "T = 7\n",
    "days = ['Day_' +str(t) for t in range(T)]\n",
    "# shifts\n",
    "S = ['Morning', 'Afternoon', 'Night']\n",
    "\n",
    "\n",
    "# standard number of hours by contract per nurse (e.g. 6 hours per day, 36 per week)\n",
    "H_base = 36*np.floor(T/7) + 6*np.mod(T,7)\n",
    "H = {n:j for n in nurses for j in [H_base]*len(nurses)}\n",
    "\n",
    "# maximum number of hours a nurse can work including the extra shifts (e.g. 10 hours per day, 60 per week)\n",
    "H_max = 60*np.floor(T/7) + 10*np.mod(T,7)\n",
    "H_MAX = {n:j for n in nurses for j in [H_max]*len(nurses)}\n",
    "\n",
    "# each nurse can work half of the shift before or aftering their proper shift\n",
    "c = 0.5 \n",
    "\n",
    "# update some nurses values\n",
    "# H['Nurse_1'] =20\n",
    "\n",
    "# number of nurses required per shift\n",
    "R = {'Morning' : 5,\n",
    "     'Afternoon' : 5,\n",
    "     'Night' : 3}\n",
    "# duration of each shift\n",
    "h = {'Morning' : 7,\n",
    "     'Afternoon' : 8,\n",
    "     'Night' : 9}\n",
    "\n",
    "# list of nurses that on the last day of the previous period covered  the night shift\n",
    "p_list= ['Nurse_0']\n",
    "# dictionary with the values of p per each nurse\n",
    "p = {n:0 for n in nurses}\n",
    "# update the dictionary with p_list\n",
    "for pp in p_list:\n",
    "    p[pp]=1\n"
   ]
  },
  {
   "cell_type": "markdown",
   "metadata": {},
   "source": [
    "x_i_4_1 is the boolean array with the information about the first shift of the next period. It should be 0 (i.e. we don't know who will work on the first shift of the next period)\n",
    "\\begin{equation*}\n",
    "    x_{i41}=\n",
    "    \\begin{cases}\n",
    "    1  \\qquad \\text{if the } i \\text{th nurse works on the first shift of the first day of the next period} \\\\\n",
    "    0 \\qquad \\text{otherwise.}\n",
    "    \\end{cases}\n",
    "\\end{equation*}\n",
    "\n",
    "\n",
    "\n"
   ]
  },
  {
   "cell_type": "code",
   "execution_count": 69,
   "metadata": {
    "ExecuteTime": {
     "end_time": "2020-03-29T17:12:15.825548Z",
     "start_time": "2020-03-29T17:12:15.821117Z"
    }
   },
   "outputs": [],
   "source": [
    "x_i_4_T = [0]*N"
   ]
  },
  {
   "cell_type": "markdown",
   "metadata": {},
   "source": [
    "## Optimization model \n",
    "\n",
    "To formulate this optimization problem, let us introduce the binary variable $x_{ist}\\in\\{0,1\\}$ such that \n",
    "\\begin{equation*}\n",
    "    x_{ist}=\n",
    "    \\begin{cases}\n",
    "    1  \\qquad \\text{if nurse } i \\text{th covers shift } s \\text{th on day } t\\text{th} \\\\\n",
    "    0 \\qquad \\text{otherwise}\n",
    "    \\end{cases}\n",
    "\\end{equation*}\n",
    "\n",
    "\n",
    " We introduce the two additional integer variables $z_{ist},q_{ist}\\in\\{0,1\\}$ such that:\n",
    "\\begin{equation*}\n",
    "    q_{ist}=\n",
    "    \\begin{cases}\n",
    "    1  \\qquad \\text{if nurse } i \\text{th works the last $ch_s$ hours of the  shift } s  \\text{th on day } t\\text{th} \\\\\n",
    "    0 \\qquad \\text{otherwise.}\n",
    "    \\end{cases}\n",
    "\\end{equation*}\n",
    "\\begin{equation*}\n",
    "    z_{ist}=\n",
    "    \\begin{cases}\n",
    "    1  \\qquad \\text{if nurse } i \\text{th works the first $ch_s$ hours of the  shift } s  \\text{th on day } t\\text{th} \\\\\n",
    "    0 \\qquad \\text{otherwise.}\n",
    "    \\end{cases}\n",
    "\\end{equation*}\n",
    "\n",
    "Finally, we define the variable $\\alpha_{st} \\in R $ which represents the number of nurses that are missing to satisfy the minimum demand of the $s$th shift on the $t$th department.\n"
   ]
  },
  {
   "cell_type": "code",
   "execution_count": 72,
   "metadata": {
    "ExecuteTime": {
     "end_time": "2020-03-29T17:12:50.289247Z",
     "start_time": "2020-03-29T17:12:50.268300Z"
    }
   },
   "outputs": [],
   "source": [
    "mdl = Model('Scheduling')\n",
    "\n",
    "# create the variables\n",
    "idx_x = [(i,s,t) for i in nurses for s in S for t in days]\n",
    "x = mdl.binary_var_dict(idx_x)\n",
    "z = mdl.binary_var_dict(idx_x)\n",
    "q = mdl.binary_var_dict(idx_x)\n",
    "\n",
    "idx_alpha = [(s,t) for s in S for t in days]\n",
    "alpha = mdl.continuous_var_dict(idx_alpha)"
   ]
  },
  {
   "cell_type": "markdown",
   "metadata": {},
   "source": [
    "### Objective function\n",
    "We want to find the optimal schedule $x^\\star,z^\\star,q^\\star$ such that the proper hours worked by each nurse plus the extra shift working hours is minimized while guaranteeing the satisfaction of the working condition regulations within the ward. Of course, we are also interested in minimizing the number of shifts that cannot be covered by the nurses ($\\sum_{st}\\alpha_st$)\n",
    "\n",
    "$$\n",
    "\\sum_{i=1}^N\\sum_{s=1}^3\\sum_{t=1}^T  \\left(h_s x_{ist} + \\frac 1 2 h_s z_{ist} +\\frac 1 2 h_s q_{ist} \\right) +\\rho \\sum_{s=1}^3\\sum_{t=1}^T \\alpha_{st}\n",
    "$$\n",
    "  \n",
    "with $\\rho>\\max_s h_s$. Note that, even if $\\alpha$ represents a discrete quantity, it is modeled as a continuous variable since at the optimum it will achieve only integer values (thanks to some further constraints defined in the following)."
   ]
  },
  {
   "cell_type": "code",
   "execution_count": 73,
   "metadata": {
    "ExecuteTime": {
     "end_time": "2020-03-29T17:12:51.156082Z",
     "start_time": "2020-03-29T17:12:51.140116Z"
    }
   },
   "outputs": [],
   "source": [
    "mdl.minimize(mdl.sum(x[i,s,t]*h[s] +0.5*h[s]*z[i,s,t]+0.5*h[s]*q[i,s,t] for i in nurses for s in S for t in days)\n",
    "             +(1e4*mdl.sum(alpha[s,t] for s in S for t in days)))"
   ]
  },
  {
   "cell_type": "markdown",
   "metadata": {},
   "source": [
    "### Constraints\n",
    "- Each person cannot cover more than one shift in the same day. \n",
    "$$ \\sum_{s=1}^3x_{ist}\\leq 1 \\qquad \\forall i,t$$\n",
    "- The number of personnel per each shift in each day is satisfied. \n",
    "$$ \\sum_{i=1}^N \\left(x_{ist}+z_{ist}\\right)+\\alpha_{st} \\geq R_{s} \\qquad \\forall s, t $$\n",
    "In the following we require $ \\sum_{i=1}^N z_{ist}=\\sum_{i=1}^N q_{ist} \\qquad \\forall s,t$, that's why we can define this constraint in this way"
   ]
  },
  {
   "cell_type": "code",
   "execution_count": 75,
   "metadata": {
    "ExecuteTime": {
     "end_time": "2020-03-29T17:12:52.671173Z",
     "start_time": "2020-03-29T17:12:52.658246Z"
    }
   },
   "outputs": [],
   "source": [
    "mdl.add_constraints(mdl.sum(x[i,s,t] for s in S) <= 1 for i in nurses for t in days);\n",
    "mdl.add_constraints(mdl.sum(x[i,s,t] + z[i,s,t] for i in nurses)+alpha[s,t]>= R[s]  for s in S for t in days);\n"
   ]
  },
  {
   "cell_type": "markdown",
   "metadata": {},
   "source": [
    "- Each nurse can work a maximum number of hours $H^{\\max}$ without burning out:\n",
    "$$  \\sum_{s=1}^3\\sum_{t=1}^T h_s \\left(x_{ist}+cz_{ist}+(1-c) q_{ist}\\right) \\le H^{\\max}\\qquad \\forall\\ i=1,...,N   $$ \n",
    "- Each nurse works at minimum the number of hours required by contract (excluded the extra hours). \n",
    "$$ \\sum_{s=1}^3\\sum_{t=1}^T x_{ist}h_s\\geq H_i \\qquad \\forall i $$ "
   ]
  },
  {
   "cell_type": "code",
   "execution_count": 76,
   "metadata": {
    "ExecuteTime": {
     "end_time": "2020-03-29T17:12:54.162153Z",
     "start_time": "2020-03-29T17:12:54.143625Z"
    }
   },
   "outputs": [],
   "source": [
    "mdl.add_constraints(mdl.sum(h[s]*(x[i,s,t]+c*z[i,s,t]+(1-c)*q[i,s,t]) for s in S for t in days) <= H_MAX[i] for i in nurses );\n",
    "mdl.add_constraints(mdl.sum(x[i,s,t]*h[s] for s in S for t in days) >= H[i] for i in nurses );"
   ]
  },
  {
   "cell_type": "markdown",
   "metadata": {},
   "source": [
    "- If a nurse covers a night shift, then the next day they cannot work;\n",
    "$$ x_{i3t}+\\sum_{s=1}^3 x_{ist+1}\\leq 1 \\qquad \\forall i,t $$ \n",
    "- Each nurse cannot work on the first day of the new period if they worked on the last shift of the previous period. \n",
    "$$ \\sum_{s=1}^3 x_{is1}\\leq (1-p_i) \\qquad \\forall i  $$ "
   ]
  },
  {
   "cell_type": "code",
   "execution_count": 77,
   "metadata": {
    "ExecuteTime": {
     "end_time": "2020-03-29T17:12:54.729909Z",
     "start_time": "2020-03-29T17:12:54.717973Z"
    }
   },
   "outputs": [],
   "source": [
    "mdl.add_constraints( x[i,S[-1],t] + mdl.sum(x[i,s,days[j+1]] for s in S )<= 1 for i in nurses for j,t in enumerate(days[:-1]) );\n",
    "mdl.add_constraints(mdl.sum(x[i,s,days[0]] for s in S ) <= (1-p[i]) for i in nurses );"
   ]
  },
  {
   "cell_type": "markdown",
   "metadata": {},
   "source": [
    "-  each nurse cannot work more than one extra shift per day.\n",
    "\\begin{equation*}\n",
    "    \\sum_{s=1}^3 \\left(z_{ist}+ q_{ist}+ \\right)\\le 1  \\quad \\forall i=1,...,N \\; t=1,...,T\n",
    "\\end{equation*} \n",
    "-  nurses cannot cover extra shifts if they have already been assigned to work on that shift:\n",
    "$$ z_{ist}\\leq 1-x_{ist} \\qquad \\forall i,s,t$$\n",
    "$$ q_{ist}\\le 1 - x_{ist} \\qquad \\forall i,s,t$$\n",
    "- The number of nurses covering the first and the second hslf of each shift, have to be the same (this allow us to define the variable $\\alpha_{st}$ as continuous and not as discrete)\n",
    "$$ \\sum_{i=1}^N z_{ist}=\\sum_{i=1}^N q_{ist} \\qquad \\forall s,t$$\n"
   ]
  },
  {
   "cell_type": "code",
   "execution_count": 78,
   "metadata": {
    "ExecuteTime": {
     "end_time": "2020-03-29T17:12:55.300167Z",
     "start_time": "2020-03-29T17:12:55.263235Z"
    }
   },
   "outputs": [],
   "source": [
    "mdl.add_constraints(mdl.sum(z[i,s,t] +q[i,s,t] for s in S)<= 1 for i in nurses for t in days);\n",
    "mdl.add_constraints(z[i,s,t]<=1-x[i,s,t] for i in nurses for s in S for t in days);\n",
    "mdl.add_constraints(q[i,s,t]<=1-x[i,s,t] for i in nurses for s in S for t in days);\n",
    "mdl.add_constraints(mdl.sum(z[i,s,t] for i in nurses)== mdl.sum(q[i,s,t] for i in nurses) for s in S for t in days);"
   ]
  },
  {
   "cell_type": "markdown",
   "metadata": {},
   "source": [
    "-  the additional hours are joined to a proper shift\n",
    "$$ z_{ist}\\leq x_{is-1t} \\qquad \\forall i,s,t$$\n",
    "$$ q_{ist}\\leq x_{is+1t} \\qquad \\forall i,s,t$$\n",
    "where $x_{i4t}=x_{i1t+1}$ and $x_{i0t} = x_{i3t-1}$. Moreover, $x_{i01}=p_i$ and $x_{i4T}$ is assumed to be zero (i.e. nobody works on the first day of the next period)."
   ]
  },
  {
   "cell_type": "code",
   "execution_count": 79,
   "metadata": {
    "ExecuteTime": {
     "end_time": "2020-03-29T17:12:56.099715Z",
     "start_time": "2020-03-29T17:12:56.075779Z"
    },
    "code_folding": [
     0
    ],
    "scrolled": true
   },
   "outputs": [],
   "source": [
    "for idx_i,i in enumerate(nurses):\n",
    "    for idx_s, s in enumerate(S):\n",
    "        for idx_t,t in enumerate(days):\n",
    "            if s == S[0] and t == 'Day_0':\n",
    "                mdl.add_constraint(z[i,s,t]<=p[i])\n",
    "            elif s == S[0]:\n",
    "                mdl.add_constraint(z[i,s,t]<=x[i,S[-1],days[idx_t-1]])\n",
    "            else:\n",
    "                mdl.add_constraint(z[i,s,t]<=x[i,S[idx_s-1],t])"
   ]
  },
  {
   "cell_type": "code",
   "execution_count": 80,
   "metadata": {
    "ExecuteTime": {
     "end_time": "2020-03-29T17:12:56.521911Z",
     "start_time": "2020-03-29T17:12:56.500916Z"
    },
    "code_folding": [
     0
    ]
   },
   "outputs": [],
   "source": [
    "for idx_i,i in enumerate(nurses):\n",
    "    for idx_s, s in enumerate(S):\n",
    "        for idx_t,t in enumerate(days):\n",
    "            # if it is the last day of the period T\n",
    "            if s == S[-1] and t == 'Day_'+str(T-1):\n",
    "                mdl.add_constraint(q[i,s,t]<=x_i_4_T[idx_i])\n",
    "\n",
    "            elif s == S[-1]:\n",
    "                mdl.add_constraint(q[i,s,t]<=x[i,S[0],days[idx_t+1]])\n",
    "            else:\n",
    "                mdl.add_constraint(q[i,s,t]<=x[i,S[idx_s+1],t])"
   ]
  },
  {
   "cell_type": "markdown",
   "metadata": {},
   "source": [
    "- if a nurse covers as extra hours the first part of a night shift, then they cannot cover the morning shift of the next day, and similarly if they cover the second part of the night shift, then they cannot cover the afternoon shift of the previous day:\n",
    "\\begin{equation*}\n",
    "    z_{i3t}+ x_{i1t+1}\\leq 1 \\qquad \\forall i=1,...,N \\forall t=1,...,T-1\n",
    "\\end{equation*}\n",
    "\\begin{equation*}\n",
    "    q_{i3t}+ x_{i2t}\\leq 1 \\qquad \\forall i=1,...,N \\forall t=1,...,T\n",
    "\\end{equation*}\n"
   ]
  },
  {
   "cell_type": "code",
   "execution_count": 81,
   "metadata": {
    "ExecuteTime": {
     "end_time": "2020-03-29T17:12:57.398833Z",
     "start_time": "2020-03-29T17:12:57.386866Z"
    }
   },
   "outputs": [],
   "source": [
    "for i in nurses:\n",
    "    for idx_t,t in enumerate(days):\n",
    "        # if it is the last day of the period T\n",
    "        if 'Day_'+str(T-1):\n",
    "            mdl.add_constraint(z[i,S[-1],t]<=1)\n",
    "\n",
    "        else:\n",
    "            mdl.add_constraint(z[i,S[-1],t]-x[i,S[0],days[idx_t+1]]<=1)"
   ]
  },
  {
   "cell_type": "code",
   "execution_count": 82,
   "metadata": {
    "ExecuteTime": {
     "end_time": "2020-03-29T17:12:57.756570Z",
     "start_time": "2020-03-29T17:12:57.743613Z"
    }
   },
   "outputs": [],
   "source": [
    "for idx_i,i in enumerate(nurses):\n",
    "    for idx_t,t in enumerate(days):\n",
    "        mdl.add_constraint(z[i,S[-1],t]-x[i,S[-2],t]<=1)"
   ]
  },
  {
   "cell_type": "markdown",
   "metadata": {},
   "source": [
    "### Additional constraints\n",
    "- In order to avoid unbalanced solutions with some nurses covering too many hours compared to others, we might require both the number of extra hours worked and the overall number of hours worked by each nurse to be close enough to the mean according to some pre-specified paramter $\\mathcal{K}_2$ and the overall number of hours worked by each nurse\n",
    "\n",
    "\\begin{equation*}\n",
    "\\left\\vert \\sum_{s=1}^3\\sum_{t=1}^Tz_{ist}- \\frac{\\sum_{i=1}^N\\sum_{s=1}^3\\sum_{t=1}^Tz_{ist}}{N} \\right\\vert \\leq \\mathcal{K}_2  \\qquad \\forall i\n",
    "\\end{equation*}\n",
    "\\begin{equation*}\n",
    "\\left\\vert \\sum_{s=1}^3\\sum_{t=1}^Tq_{ist}- \\frac{\\sum_{i=1}^N\\sum_{s=1}^3\\sum_{t=1}^Tq_{ist}}{N} \\right\\vert \\leq \\mathcal{K}_2  \\qquad \\forall i\n",
    "\\end{equation*}\n",
    "\n",
    "\n",
    "\\begin{equation*}\n",
    "\\left\\vert\\sum_{s,t} \\left(x_{ist}h_s+\\bar w\\left( z_{ist}+q_{ist}\\right)\\right) - \\frac{\\sum_{i,s,t}\\left(x_{ist}h_s+\\bar w\\left( z_{ist}+q_{ist}\\right)\\right)}{N} \\right\\vert\\leq  \\mathcal{K}_3\\qquad \\forall i\n",
    "\\end{equation*}\n"
   ]
  },
  {
   "cell_type": "raw",
   "metadata": {
    "ExecuteTime": {
     "end_time": "2020-03-28T12:31:43.580966Z",
     "start_time": "2020-03-28T12:31:43.405411Z"
    }
   },
   "source": [
    "k_2 = 1\n",
    "k_3 = 2\n",
    "\n",
    "mdl.add_constraints(mdl.sum(z[i,s,t] for s in S for t in days)<=(1/N) * mdl.sum(z[i,s,t] for i in nurses for s in S for t in days) +k_2 for i in nurses);\n",
    "mdl.add_constraints(mdl.sum(z[i,s,t] for s in S for t in days)>=(1/N) * mdl.sum(z[i,s,t] for i in nurses for s in S for t in days)-k_2 for i in nurses);\n",
    "\n",
    "mdl.add_constraints(mdl.sum(q[i,s,t] for s in S for t in days)<=(1/N) * mdl.sum(q[i,s,t] for i in nurses for s in S for t in days) +k_2 for i in nurses);\n",
    "mdl.add_constraints(mdl.sum(q[i,s,t] for s in S for t in days)>=(1/N) * mdl.sum(q[i,s,t] for i in nurses for s in S for t in days)-k_2 for i in nurses);\n",
    "\n",
    "\n",
    "mdl.add_constraints(mdl.sum(x[i,s,t]*h[s]+ 0.5*h[s]*(z[i,s,t]+q[i,s,t])for s in S for t in days)<=\n",
    "              (1/N)*mdl.sum(x[i,s,t]*h[s]+ 0.5*h[s]*(z[i,s,t]+q[i,s,t]) for i in nurses for s in S for t in days)+k_3 for i in nurses);\n",
    "mdl.add_constraints(mdl.sum(x[i,s,t]*h[s]+ 0.5*h[s]*(z[i,s,t]+q[i,s,t])for s in S for t in days)>=\n",
    "              (1/N)*mdl.sum(x[i,s,t]*h[s]+ 0.5*h[s]*(z[i,s,t]+q[i,s,t]) for i in nurses for s in S for t in days)-k_3 for i in nurses);"
   ]
  },
  {
   "cell_type": "markdown",
   "metadata": {},
   "source": [
    "### Defining KPI"
   ]
  },
  {
   "cell_type": "code",
   "execution_count": 83,
   "metadata": {
    "ExecuteTime": {
     "end_time": "2020-03-29T17:13:00.010085Z",
     "start_time": "2020-03-29T17:12:59.984154Z"
    }
   },
   "outputs": [
    {
     "data": {
      "text/plain": [
       "DecisionKPI(name=Minimum # hours worked,expr=min(7x1+7x2+7x3+7x4+7x5+7x6+7x7+8x8+8x9+8x10+8x11+8x12+8x13+8x14..)"
      ]
     },
     "execution_count": 83,
     "metadata": {},
     "output_type": "execute_result"
    }
   ],
   "source": [
    "mdl.add_kpi(mdl.sum(R[s]- mdl.sum(x[i,s,t] for i in nurses)>=1 for s in S for t in days), '# of shifts not completely covered');\n",
    "mdl.add_kpi(mdl.max(alpha[s,t] for s in S for t in days), 'Maximum # missing nurses in one shift')\n",
    "mdl.add_kpi(mdl.sum(alpha[s,t] for s in S for t in days), 'Sum of missing nurses in all the shifts')\n",
    "\n",
    "mdl.add_kpi(mdl.max(mdl.sum(x[i,s,t]*h[s] for s in S for t in days)for i in nurses), 'Maximum # hours worked')\n",
    "mdl.add_kpi(mdl.min(mdl.sum(x[i,s,t]*h[s] for s in S for t in days)for i in nurses), 'Minimum # hours worked');"
   ]
  },
  {
   "cell_type": "markdown",
   "metadata": {},
   "source": [
    "### Solve the problem"
   ]
  },
  {
   "cell_type": "code",
   "execution_count": 84,
   "metadata": {
    "ExecuteTime": {
     "end_time": "2020-03-29T17:13:06.438278Z",
     "start_time": "2020-03-29T17:13:06.434292Z"
    }
   },
   "outputs": [],
   "source": [
    "# We set a limit time for computations\n",
    "mdl.set_time_limit(240)"
   ]
  },
  {
   "cell_type": "code",
   "execution_count": 85,
   "metadata": {
    "ExecuteTime": {
     "end_time": "2020-03-29T17:13:13.507679Z",
     "start_time": "2020-03-29T17:13:07.579419Z"
    },
    "scrolled": false
   },
   "outputs": [
    {
     "name": "stdout",
     "output_type": "stream",
     "text": [
      "Model: Scheduling\n",
      " - number of variables: 692\n",
      "   - binary=651, integer=0, continuous=41\n",
      " - number of constraints: 1293\n",
      "   - linear=1272, equiv=21\n",
      " - parameters:\n",
      "     parameters.timelimit = 240.00000000000000\n",
      " - problem type is: MILP\n"
     ]
    },
    {
     "data": {
      "text/plain": [
       "docplex.mp.SolveDetails(time=5.89,status='integer optimal solution')"
      ]
     },
     "execution_count": 85,
     "metadata": {},
     "output_type": "execute_result"
    }
   ],
   "source": [
    "mdl.print_information()\n",
    "mdl.solve(log_output = False)\n",
    "mdl.solution.solve_details"
   ]
  },
  {
   "cell_type": "code",
   "execution_count": 89,
   "metadata": {
    "ExecuteTime": {
     "end_time": "2020-03-29T17:13:23.302485Z",
     "start_time": "2020-03-29T17:13:23.293596Z"
    }
   },
   "outputs": [
    {
     "name": "stdout",
     "output_type": "stream",
     "text": [
      "* model Scheduling solved with objective = 130597.000\n",
      "*  KPI: # of shifts not completely covered      = 14.000\n",
      "*  KPI: Maximum # missing nurses in one shift   = 3.000\n",
      "*  KPI: Sum of missing nurses in all the shifts = 13.000\n",
      "*  KPI: Maximum # hours worked                  = 52.000\n",
      "*  KPI: Minimum # hours worked                  = 40.000\n"
     ]
    }
   ],
   "source": [
    "mdl.report()"
   ]
  },
  {
   "cell_type": "code",
   "execution_count": 86,
   "metadata": {
    "ExecuteTime": {
     "end_time": "2020-03-29T17:13:13.641754Z",
     "start_time": "2020-03-29T17:13:13.631781Z"
    }
   },
   "outputs": [
    {
     "data": {
      "text/plain": [
       "1"
      ]
     },
     "execution_count": 86,
     "metadata": {},
     "output_type": "execute_result"
    }
   ],
   "source": [
    "status = int('optimal' in mdl.solve_details.status)\n",
    "status"
   ]
  },
  {
   "cell_type": "markdown",
   "metadata": {},
   "source": [
    "## Analysing the solution\n",
    "Below we provide simple tools to analyse the solution obtained"
   ]
  },
  {
   "cell_type": "code",
   "execution_count": 90,
   "metadata": {
    "ExecuteTime": {
     "end_time": "2020-03-29T17:13:41.412075Z",
     "start_time": "2020-03-29T17:13:41.405127Z"
    }
   },
   "outputs": [],
   "source": [
    "def sol_to_pandas(x):\n",
    "    '''\n",
    "    takes in input the solution of the optimization problem as a dictionary \n",
    "    returns the solution as a dataframe \n",
    "    '''\n",
    "    sol = pd.DataFrame(columns = ['Nurse', 'Shift', 'Day'])\n",
    "    k = 0\n",
    "    for key, value in x.items():\n",
    "        if value>0:\n",
    "            sol.loc[k] =np.array([i for i in key])\n",
    "            k+=1\n",
    "    return sol"
   ]
  },
  {
   "cell_type": "code",
   "execution_count": 91,
   "metadata": {
    "ExecuteTime": {
     "end_time": "2020-03-29T17:13:41.835652Z",
     "start_time": "2020-03-29T17:13:41.828904Z"
    }
   },
   "outputs": [],
   "source": [
    "def alpha_to_pandas(x):\n",
    "    '''\n",
    "    takes in input the solution of the optimization problem as a dictionary \n",
    "    returns the solution as a dataframe \n",
    "    '''\n",
    "    sol = pd.DataFrame(columns = ['Shift', 'Day', 'value'])\n",
    "\n",
    "    k=0\n",
    "    for key, value in alpha_star_dict.items():\n",
    "        if value>0:\n",
    "            sol.loc[k] =np.array([i for i in key]+[value])\n",
    "            k+=1\n",
    "        \n",
    "    return sol"
   ]
  },
  {
   "cell_type": "code",
   "execution_count": 92,
   "metadata": {
    "ExecuteTime": {
     "end_time": "2020-03-29T17:13:42.527646Z",
     "start_time": "2020-03-29T17:13:42.212784Z"
    },
    "scrolled": true
   },
   "outputs": [],
   "source": [
    "# transform the solution into a dataframe\n",
    "x_star_dict =mdl.solution.get_value_dict(x)\n",
    "sol_x = sol_to_pandas(x_star_dict)\n",
    "\n",
    "z_star_dict =mdl.solution.get_value_dict(z)\n",
    "sol_z = sol_to_pandas(z_star_dict)\n",
    "\n",
    "q_star_dict =mdl.solution.get_value_dict(q)\n",
    "sol_q = sol_to_pandas(q_star_dict)\n",
    "\n",
    "alpha_star_dict = mdl.solution.get_value_dict(alpha)\n",
    "sol_alpha = alpha_to_pandas(alpha_star_dict)"
   ]
  },
  {
   "cell_type": "code",
   "execution_count": 93,
   "metadata": {
    "ExecuteTime": {
     "end_time": "2020-03-29T17:13:42.699925Z",
     "start_time": "2020-03-29T17:13:42.690947Z"
    }
   },
   "outputs": [
    {
     "name": "stdout",
     "output_type": "stream",
     "text": [
      "Nurse_3    7\n",
      "Nurse_1    7\n",
      "Nurse_2    7\n",
      "Nurse_5    7\n",
      "Nurse_9    7\n",
      "Nurse_7    7\n",
      "Nurse_8    6\n",
      "Nurse_6    6\n",
      "Nurse_4    6\n",
      "Nurse_0    5\n",
      "Name: Nurse, dtype: int64\n"
     ]
    }
   ],
   "source": [
    "print(sol_x['Nurse'].value_counts())\n"
   ]
  },
  {
   "cell_type": "code",
   "execution_count": 94,
   "metadata": {
    "ExecuteTime": {
     "end_time": "2020-03-29T17:13:43.175913Z",
     "start_time": "2020-03-29T17:13:43.164912Z"
    }
   },
   "outputs": [
    {
     "name": "stdout",
     "output_type": "stream",
     "text": [
      "------------First half of shift------------\n",
      "Nurse_0    4\n",
      "Nurse_8    2\n",
      "Nurse_6    2\n",
      "Nurse_4    2\n",
      "Nurse_3    1\n",
      "Nurse_5    1\n",
      "Nurse_9    1\n",
      "Name: Nurse, dtype: int64\n",
      "------------Last half hours of shift------------\n",
      "Nurse_1    2\n",
      "Nurse_2    2\n",
      "Nurse_7    2\n",
      "Nurse_8    1\n",
      "Nurse_0    1\n",
      "Nurse_3    1\n",
      "Nurse_5    1\n",
      "Nurse_6    1\n",
      "Nurse_9    1\n",
      "Nurse_4    1\n",
      "Name: Nurse, dtype: int64\n"
     ]
    }
   ],
   "source": [
    "# number of extra shifts done by each nurse\n",
    "print('------------First half of shift------------')\n",
    "print(sol_z['Nurse'].value_counts())\n",
    "print('------------Last half hours of shift------------')\n",
    "print(sol_q['Nurse'].value_counts())"
   ]
  },
  {
   "cell_type": "markdown",
   "metadata": {},
   "source": [
    "### Is the number of nurses $N$ enough to satisfy the demand?"
   ]
  },
  {
   "cell_type": "code",
   "execution_count": 95,
   "metadata": {
    "ExecuteTime": {
     "end_time": "2020-03-29T17:13:44.680388Z",
     "start_time": "2020-03-29T17:13:44.674527Z"
    },
    "scrolled": true
   },
   "outputs": [
    {
     "name": "stdout",
     "output_type": "stream",
     "text": [
      "NO! The number of nurses is not enough to satisfy the demand\n"
     ]
    }
   ],
   "source": [
    "alpha_star_dict =mdl.solution.get_value_dict(alpha)\n",
    "if max(list(alpha_star_dict.values()))==0:\n",
    "    print('YES! The number of nurses is enough to satisfy the demand')\n",
    "else:\n",
    "    print('NO! The number of nurses is not enough to satisfy the demand')\n"
   ]
  },
  {
   "cell_type": "markdown",
   "metadata": {},
   "source": [
    "### How many hours does each nurse work?"
   ]
  },
  {
   "cell_type": "code",
   "execution_count": 96,
   "metadata": {
    "ExecuteTime": {
     "end_time": "2020-03-29T17:13:46.322348Z",
     "start_time": "2020-03-29T17:13:46.303400Z"
    },
    "scrolled": false
   },
   "outputs": [
    {
     "data": {
      "text/plain": [
       "{'Nurse_0': 40,\n",
       " 'Nurse_1': 52,\n",
       " 'Nurse_2': 52,\n",
       " 'Nurse_3': 52,\n",
       " 'Nurse_4': 47,\n",
       " 'Nurse_5': 52,\n",
       " 'Nurse_6': 48,\n",
       " 'Nurse_7': 51,\n",
       " 'Nurse_8': 48,\n",
       " 'Nurse_9': 52}"
      ]
     },
     "execution_count": 96,
     "metadata": {},
     "output_type": "execute_result"
    }
   ],
   "source": [
    "worked_hours = {n:0 for n in nurses}\n",
    "\n",
    "for i,j in sol_x.iterrows():\n",
    "    worked_hours[j['Nurse']]+=h[j['Shift']]\n",
    "worked_hours"
   ]
  },
  {
   "cell_type": "markdown",
   "metadata": {},
   "source": [
    "### How many extra hours does each nurse work?"
   ]
  },
  {
   "cell_type": "code",
   "execution_count": 98,
   "metadata": {
    "ExecuteTime": {
     "end_time": "2020-03-29T17:13:52.925118Z",
     "start_time": "2020-03-29T17:13:52.910194Z"
    },
    "scrolled": false
   },
   "outputs": [
    {
     "data": {
      "text/plain": [
       "{'Nurse_0': 20.0,\n",
       " 'Nurse_1': 8.0,\n",
       " 'Nurse_2': 8.0,\n",
       " 'Nurse_3': 8.0,\n",
       " 'Nurse_4': 11.5,\n",
       " 'Nurse_5': 7.5,\n",
       " 'Nurse_6': 11.5,\n",
       " 'Nurse_7': 9.0,\n",
       " 'Nurse_8': 12.0,\n",
       " 'Nurse_9': 7.5}"
      ]
     },
     "execution_count": 98,
     "metadata": {},
     "output_type": "execute_result"
    }
   ],
   "source": [
    "extra_worked_hours = {n:0 for n in nurses}\n",
    "\n",
    "for i,j in sol_z.iterrows():\n",
    "    extra_worked_hours[j['Nurse']]+=h[j['Shift']]*0.5\n",
    "for i,j in sol_q.iterrows():\n",
    "    extra_worked_hours[j['Nurse']]+=h[j['Shift']]*0.5\n",
    "extra_worked_hours"
   ]
  },
  {
   "cell_type": "markdown",
   "metadata": {},
   "source": [
    "### Maximum number of extra hours worked:"
   ]
  },
  {
   "cell_type": "code",
   "execution_count": 99,
   "metadata": {
    "ExecuteTime": {
     "end_time": "2020-03-29T17:13:54.046253Z",
     "start_time": "2020-03-29T17:13:54.039346Z"
    }
   },
   "outputs": [
    {
     "data": {
      "text/plain": [
       "20.0"
      ]
     },
     "execution_count": 99,
     "metadata": {},
     "output_type": "execute_result"
    }
   ],
   "source": [
    "max(extra_worked_hours.values())"
   ]
  },
  {
   "cell_type": "markdown",
   "metadata": {},
   "source": [
    "### Overall hours worked"
   ]
  },
  {
   "cell_type": "code",
   "execution_count": 100,
   "metadata": {
    "ExecuteTime": {
     "end_time": "2020-03-29T17:13:55.675537Z",
     "start_time": "2020-03-29T17:13:55.668092Z"
    },
    "scrolled": true
   },
   "outputs": [
    {
     "data": {
      "text/plain": [
       "{'Nurse_0': 60.0,\n",
       " 'Nurse_1': 60.0,\n",
       " 'Nurse_2': 60.0,\n",
       " 'Nurse_3': 60.0,\n",
       " 'Nurse_4': 58.5,\n",
       " 'Nurse_5': 59.5,\n",
       " 'Nurse_6': 59.5,\n",
       " 'Nurse_7': 60.0,\n",
       " 'Nurse_8': 60.0,\n",
       " 'Nurse_9': 59.5}"
      ]
     },
     "execution_count": 100,
     "metadata": {},
     "output_type": "execute_result"
    }
   ],
   "source": [
    "overall_worked_hours = worked_hours.copy()\n",
    "for i,j in extra_worked_hours.items():\n",
    "    overall_worked_hours[i]+=j\n",
    "\n",
    "overall_worked_hours"
   ]
  },
  {
   "cell_type": "markdown",
   "metadata": {},
   "source": [
    "### Visualization tool\n",
    "\n",
    "Below we provide a tool to check the schedule. "
   ]
  },
  {
   "cell_type": "code",
   "execution_count": 101,
   "metadata": {
    "ExecuteTime": {
     "end_time": "2020-03-29T17:13:58.229626Z",
     "start_time": "2020-03-29T17:13:58.224952Z"
    }
   },
   "outputs": [],
   "source": [
    "# remove warning from pandas (in the viz_tool it does what we need)\n",
    "import warnings\n",
    "warnings.simplefilter(action='ignore')"
   ]
  },
  {
   "cell_type": "code",
   "execution_count": 102,
   "metadata": {
    "ExecuteTime": {
     "end_time": "2020-03-29T17:13:58.813052Z",
     "start_time": "2020-03-29T17:13:58.705091Z"
    },
    "scrolled": true
   },
   "outputs": [
    {
     "data": {
      "application/vnd.jupyter.widget-view+json": {
       "model_id": "471497340e66440a825cee51f0450eb8",
       "version_major": 2,
       "version_minor": 0
      },
      "text/plain": [
       "interactive(children=(Dropdown(description='nurse', index=10, options=('Nurse_0', 'Nurse_1', 'Nurse_2', 'Nurse…"
      ]
     },
     "metadata": {},
     "output_type": "display_data"
    }
   ],
   "source": [
    "def extract_info(nurse,shift,day):\n",
    "    '''\n",
    "    interactive function to extract the information required:\n",
    "    if a value is 'All' then it returns all the values for that specific feature\n",
    "    '''\n",
    "    \n",
    "    global nurses,S,days\n",
    "    \n",
    "    \n",
    "    if nurse == 'All':\n",
    "        df_tmp = sol_x[(sol_x['Nurse'].isin(nurses))]\n",
    "    else:\n",
    "        df_tmp = sol_x[(sol_x['Nurse']==nurse)]\n",
    "\n",
    "    if shift == 'All':\n",
    "        df_tmp = df_tmp[(sol_x['Shift'].isin(S))]\n",
    "    else:\n",
    "        df_tmp = df_tmp[(sol_x['Shift']==shift)]\n",
    "\n",
    "    if day == 'All':\n",
    "        df_tmp = df_tmp[(sol_x['Day'].isin(days))]    \n",
    "    else:\n",
    "        df_tmp = df_tmp[(sol_x['Day']==day)]\n",
    "\n",
    "    print('------------All shift------------')\n",
    "    print(df_tmp)\n",
    "    \n",
    "    if nurse == 'All':\n",
    "        df_tmp = sol_z[(sol_z['Nurse'].isin(nurses))]\n",
    "    else:\n",
    "        df_tmp = sol_z[(sol_z['Nurse']==nurse)]\n",
    "\n",
    "    if shift == 'All':\n",
    "        df_tmp = df_tmp[(sol_z['Shift'].isin(S))]\n",
    "    else:\n",
    "        df_tmp = df_tmp[(sol_z['Shift']==shift)]\n",
    "\n",
    "    if day == 'All':\n",
    "        df_tmp = df_tmp[(sol_z['Day'].isin(days))]    \n",
    "    else:\n",
    "        df_tmp = df_tmp[(sol_z['Day']==day)]\n",
    "\n",
    "    print('------------First half shift------------')\n",
    "\n",
    "    print(df_tmp)\n",
    "    \n",
    "    if nurse == 'All':\n",
    "        df_tmp = sol_q[(sol_q['Nurse'].isin(nurses))]\n",
    "    else:\n",
    "        df_tmp = sol_q[(sol_q['Nurse']==nurse)]\n",
    "\n",
    "    if shift == 'All':\n",
    "        df_tmp = df_tmp[(sol_q['Shift'].isin(S))]\n",
    "    else:\n",
    "        df_tmp = df_tmp[(sol_q['Shift']==shift)]\n",
    "\n",
    "    if day == 'All':\n",
    "        df_tmp = df_tmp[(sol_q['Day'].isin(days))]    \n",
    "    else:\n",
    "        df_tmp = df_tmp[(sol_q['Day']==day)]\n",
    "\n",
    "    print('------------Second half shift------------')\n",
    "    print(df_tmp)\n",
    "    \n",
    "\n",
    "    if shift == 'All':\n",
    "        df_tmp = sol_alpha[(sol_alpha['Shift'].isin(S))]\n",
    "    else:\n",
    "        df_tmp = sol_alpha[(sol_alpha['Shift']==shift)]\n",
    "\n",
    "    if day == 'All':\n",
    "        df_tmp = df_tmp[(sol_alpha['Day'].isin(days))]    \n",
    "    else:\n",
    "        df_tmp = df_tmp[(sol_alpha['Day']==day)]\n",
    "\n",
    "    print('------------Non covered shifts------------')\n",
    "    print(df_tmp)\n",
    "    \n",
    "\n",
    "\n",
    "interact(extract_info, nurse = widgets.Dropdown(value=\"All\",placeholder='Type something', options=nurses+['All']),\n",
    "              shift=widgets.Dropdown(value='All',placeholder='Type something', options=S+['All']),\n",
    "              day = widgets.Dropdown(value=\"All\",placeholder='Type something', options=days+['All'])\n",
    "        );\n",
    "\n"
   ]
  },
  {
   "cell_type": "markdown",
   "metadata": {},
   "source": [
    "## Worst case scenario minimization\n",
    "In order to get balanced solutions, we should minimize the worst-case scenario by minimizing the number of hours worked by the nurse that works the most and the highest number of nurses missing in the same shift, namely:\n",
    "\\begin{equation}\\label{eq: neq_fo}\n",
    "        \\underset{x_{ist},z_{ist}\\in\\{0,1\\}}{\\text{min}} \\quad \\max_i \\left\\{\\sum_{s=1}^3\\sum_{t=1}^T  h_s\\left( x_{ist} + c z_{ist} +(1-c)  q_{ist}\\right)\\right\\}+\\rho_2 \\max_{st}\\left\\{\\alpha_{st}\\right\\}\n",
    "    \\end{equation}\n",
    "where $\\rho_2$ is a big enough penalization term so to ensure that the second term is more important than the first one."
   ]
  },
  {
   "cell_type": "code",
   "execution_count": 103,
   "metadata": {
    "ExecuteTime": {
     "end_time": "2020-03-29T17:16:20.881862Z",
     "start_time": "2020-03-29T17:16:20.875875Z"
    }
   },
   "outputs": [],
   "source": [
    "a = mdl.continuous_var(lb=-np.infty)\n",
    "b = mdl.continuous_var(lb=-np.infty)\n",
    "mdl.minimize(a+1e4*b)"
   ]
  },
  {
   "cell_type": "code",
   "execution_count": 104,
   "metadata": {
    "ExecuteTime": {
     "end_time": "2020-03-29T17:16:22.942748Z",
     "start_time": "2020-03-29T17:16:22.922932Z"
    }
   },
   "outputs": [],
   "source": [
    "\n",
    "mdl.add_constraints(a>=mdl.sum(h[s]*(x[i,s,t]+c*z[i,s,t]+(1-c)*q[i,s,t]) for s in S for t in days) for i in nurses)                  \n",
    "mdl.add_constraints(b>=alpha[s,t] for s in S for t in days);"
   ]
  },
  {
   "cell_type": "code",
   "execution_count": 105,
   "metadata": {
    "ExecuteTime": {
     "end_time": "2020-03-29T17:16:26.960417Z",
     "start_time": "2020-03-29T17:16:26.493059Z"
    }
   },
   "outputs": [
    {
     "data": {
      "text/plain": [
       "docplex.mp.solution.SolveSolution(obj=10055.5,values={x7:1,x9:1,x10:1,x1.."
      ]
     },
     "execution_count": 105,
     "metadata": {},
     "output_type": "execute_result"
    }
   ],
   "source": [
    "mdl.solve()"
   ]
  },
  {
   "cell_type": "code",
   "execution_count": 106,
   "metadata": {
    "ExecuteTime": {
     "end_time": "2020-03-29T17:16:30.773530Z",
     "start_time": "2020-03-29T17:16:30.766550Z"
    }
   },
   "outputs": [
    {
     "name": "stdout",
     "output_type": "stream",
     "text": [
      "* model Scheduling solved with objective = 10055.500\n",
      "*  KPI: # of shifts not completely covered      = 21.000\n",
      "*  KPI: Maximum # missing nurses in one shift   = 1.000\n",
      "*  KPI: Sum of missing nurses in all the shifts = 21.000\n",
      "*  KPI: Maximum # hours worked                  = 47.000\n",
      "*  KPI: Minimum # hours worked                  = 38.000\n"
     ]
    }
   ],
   "source": [
    "mdl.report()"
   ]
  },
  {
   "cell_type": "code",
   "execution_count": 109,
   "metadata": {
    "ExecuteTime": {
     "end_time": "2020-03-29T17:16:44.486283Z",
     "start_time": "2020-03-29T17:16:44.123436Z"
    },
    "scrolled": true
   },
   "outputs": [],
   "source": [
    "# transform the solution into a dataframe\n",
    "x_star_dict =mdl.solution.get_value_dict(x)\n",
    "sol_x = sol_to_pandas(x_star_dict)\n",
    "\n",
    "z_star_dict =mdl.solution.get_value_dict(z)\n",
    "sol_z = sol_to_pandas(z_star_dict)\n",
    "\n",
    "q_star_dict =mdl.solution.get_value_dict(q)\n",
    "sol_q = sol_to_pandas(q_star_dict)\n",
    "\n",
    "alpha_star_dict = mdl.solution.get_value_dict(alpha)\n",
    "sol_alpha = alpha_to_pandas(alpha_star_dict)"
   ]
  },
  {
   "cell_type": "code",
   "execution_count": 110,
   "metadata": {
    "ExecuteTime": {
     "end_time": "2020-03-29T17:16:44.891496Z",
     "start_time": "2020-03-29T17:16:44.884735Z"
    }
   },
   "outputs": [
    {
     "name": "stdout",
     "output_type": "stream",
     "text": [
      "Nurse_8    6\n",
      "Nurse_1    6\n",
      "Nurse_2    6\n",
      "Nurse_5    6\n",
      "Nurse_6    6\n",
      "Nurse_9    6\n",
      "Nurse_4    6\n",
      "Nurse_7    6\n",
      "Nurse_0    5\n",
      "Nurse_3    5\n",
      "Name: Nurse, dtype: int64\n"
     ]
    }
   ],
   "source": [
    "print(sol_x['Nurse'].value_counts())\n"
   ]
  },
  {
   "cell_type": "code",
   "execution_count": 111,
   "metadata": {
    "ExecuteTime": {
     "end_time": "2020-03-29T17:16:45.290657Z",
     "start_time": "2020-03-29T17:16:45.279936Z"
    }
   },
   "outputs": [
    {
     "name": "stdout",
     "output_type": "stream",
     "text": [
      "------------First half of shift------------\n",
      "Nurse_3    4\n",
      "Nurse_1    2\n",
      "Nurse_9    2\n",
      "Nurse_0    1\n",
      "Nurse_2    1\n",
      "Nurse_6    1\n",
      "Nurse_7    1\n",
      "Name: Nurse, dtype: int64\n",
      "------------Last half hours of shift------------\n",
      "Nurse_0    3\n",
      "Nurse_8    2\n",
      "Nurse_5    2\n",
      "Nurse_4    2\n",
      "Nurse_2    1\n",
      "Nurse_6    1\n",
      "Nurse_7    1\n",
      "Name: Nurse, dtype: int64\n"
     ]
    }
   ],
   "source": [
    "# number of extra shifts done by each nurse\n",
    "print('------------First half of shift------------')\n",
    "print(sol_z['Nurse'].value_counts())\n",
    "print('------------Last half hours of shift------------')\n",
    "print(sol_q['Nurse'].value_counts())"
   ]
  },
  {
   "cell_type": "markdown",
   "metadata": {},
   "source": [
    "### Is the number of nurses $N$ enough to satisfy the demand?"
   ]
  },
  {
   "cell_type": "code",
   "execution_count": 112,
   "metadata": {
    "ExecuteTime": {
     "end_time": "2020-03-29T17:16:45.788505Z",
     "start_time": "2020-03-29T17:16:45.782522Z"
    },
    "scrolled": true
   },
   "outputs": [
    {
     "name": "stdout",
     "output_type": "stream",
     "text": [
      "NO! The number of nurses is not enough to satisfy the demand\n"
     ]
    }
   ],
   "source": [
    "alpha_star_dict =mdl.solution.get_value_dict(alpha)\n",
    "if max(list(alpha_star_dict.values()))==0:\n",
    "    print('YES! The number of nurses is enough to satisfy the demand')\n",
    "else:\n",
    "    print('NO! The number of nurses is not enough to satisfy the demand')\n"
   ]
  },
  {
   "cell_type": "markdown",
   "metadata": {},
   "source": [
    "### How many hours does each nurse work?"
   ]
  },
  {
   "cell_type": "code",
   "execution_count": 113,
   "metadata": {
    "ExecuteTime": {
     "end_time": "2020-03-29T17:16:46.127249Z",
     "start_time": "2020-03-29T17:16:46.110133Z"
    },
    "scrolled": false
   },
   "outputs": [
    {
     "data": {
      "text/plain": [
       "{'Nurse_0': 40,\n",
       " 'Nurse_1': 46,\n",
       " 'Nurse_2': 45,\n",
       " 'Nurse_3': 38,\n",
       " 'Nurse_4': 46,\n",
       " 'Nurse_5': 45,\n",
       " 'Nurse_6': 47,\n",
       " 'Nurse_7': 45,\n",
       " 'Nurse_8': 46,\n",
       " 'Nurse_9': 46}"
      ]
     },
     "execution_count": 113,
     "metadata": {},
     "output_type": "execute_result"
    }
   ],
   "source": [
    "worked_hours = {n:0 for n in nurses}\n",
    "\n",
    "for i,j in sol_x.iterrows():\n",
    "    worked_hours[j['Nurse']]+=h[j['Shift']]\n",
    "worked_hours"
   ]
  },
  {
   "cell_type": "markdown",
   "metadata": {},
   "source": [
    "### Maximum number of hours worked:"
   ]
  },
  {
   "cell_type": "code",
   "execution_count": 114,
   "metadata": {
    "ExecuteTime": {
     "end_time": "2020-03-29T17:16:46.442134Z",
     "start_time": "2020-03-29T17:16:46.435533Z"
    }
   },
   "outputs": [
    {
     "data": {
      "text/plain": [
       "47"
      ]
     },
     "execution_count": 114,
     "metadata": {},
     "output_type": "execute_result"
    }
   ],
   "source": [
    "max(worked_hours.values())"
   ]
  },
  {
   "cell_type": "markdown",
   "metadata": {},
   "source": [
    "### How many extra hours does each nurse work?"
   ]
  },
  {
   "cell_type": "code",
   "execution_count": 115,
   "metadata": {
    "ExecuteTime": {
     "end_time": "2020-03-29T17:16:46.771677Z",
     "start_time": "2020-03-29T17:16:46.754724Z"
    },
    "scrolled": false
   },
   "outputs": [
    {
     "data": {
      "text/plain": [
       "{'Nurse_0': 15.5,\n",
       " 'Nurse_1': 9.0,\n",
       " 'Nurse_2': 8.5,\n",
       " 'Nurse_3': 17.5,\n",
       " 'Nurse_4': 8.0,\n",
       " 'Nurse_5': 9.0,\n",
       " 'Nurse_6': 7.5,\n",
       " 'Nurse_7': 9.0,\n",
       " 'Nurse_8': 9.0,\n",
       " 'Nurse_9': 9.0}"
      ]
     },
     "execution_count": 115,
     "metadata": {},
     "output_type": "execute_result"
    }
   ],
   "source": [
    "extra_worked_hours = {n:0 for n in nurses}\n",
    "\n",
    "for i,j in sol_z.iterrows():\n",
    "    extra_worked_hours[j['Nurse']]+=h[j['Shift']]*0.5\n",
    "for i,j in sol_q.iterrows():\n",
    "    extra_worked_hours[j['Nurse']]+=h[j['Shift']]*0.5\n",
    "extra_worked_hours"
   ]
  },
  {
   "cell_type": "markdown",
   "metadata": {},
   "source": [
    "### Maximum number of extra hours worked:"
   ]
  },
  {
   "cell_type": "code",
   "execution_count": 116,
   "metadata": {
    "ExecuteTime": {
     "end_time": "2020-03-29T17:16:47.075351Z",
     "start_time": "2020-03-29T17:16:47.067269Z"
    }
   },
   "outputs": [
    {
     "data": {
      "text/plain": [
       "17.5"
      ]
     },
     "execution_count": 116,
     "metadata": {},
     "output_type": "execute_result"
    }
   ],
   "source": [
    "max(extra_worked_hours.values())"
   ]
  },
  {
   "cell_type": "markdown",
   "metadata": {},
   "source": [
    "### Overall hours worked"
   ]
  },
  {
   "cell_type": "code",
   "execution_count": 117,
   "metadata": {
    "ExecuteTime": {
     "end_time": "2020-03-29T17:16:47.416908Z",
     "start_time": "2020-03-29T17:16:47.410187Z"
    },
    "scrolled": true
   },
   "outputs": [
    {
     "data": {
      "text/plain": [
       "{'Nurse_0': 55.5,\n",
       " 'Nurse_1': 55.0,\n",
       " 'Nurse_2': 53.5,\n",
       " 'Nurse_3': 55.5,\n",
       " 'Nurse_4': 54.0,\n",
       " 'Nurse_5': 54.0,\n",
       " 'Nurse_6': 54.5,\n",
       " 'Nurse_7': 54.0,\n",
       " 'Nurse_8': 55.0,\n",
       " 'Nurse_9': 55.0}"
      ]
     },
     "execution_count": 117,
     "metadata": {},
     "output_type": "execute_result"
    }
   ],
   "source": [
    "overall_worked_hours = worked_hours.copy()\n",
    "for i,j in extra_worked_hours.items():\n",
    "    overall_worked_hours[i]+=j\n",
    "\n",
    "overall_worked_hours"
   ]
  }
 ],
 "metadata": {
  "kernelspec": {
   "display_name": "Python 3",
   "language": "python",
   "name": "python3"
  },
  "language_info": {
   "codemirror_mode": {
    "name": "ipython",
    "version": 3
   },
   "file_extension": ".py",
   "mimetype": "text/x-python",
   "name": "python",
   "nbconvert_exporter": "python",
   "pygments_lexer": "ipython3",
   "version": "3.7.3"
  },
  "toc": {
   "base_numbering": 1,
   "nav_menu": {},
   "number_sections": true,
   "sideBar": true,
   "skip_h1_title": true,
   "title_cell": "Table of Contents",
   "title_sidebar": "Contents",
   "toc_cell": false,
   "toc_position": {},
   "toc_section_display": true,
   "toc_window_display": true
  },
  "varInspector": {
   "cols": {
    "lenName": 16,
    "lenType": 16,
    "lenVar": 40
   },
   "kernels_config": {
    "python": {
     "delete_cmd_postfix": "",
     "delete_cmd_prefix": "del ",
     "library": "var_list.py",
     "varRefreshCmd": "print(var_dic_list())"
    },
    "r": {
     "delete_cmd_postfix": ") ",
     "delete_cmd_prefix": "rm(",
     "library": "var_list.r",
     "varRefreshCmd": "cat(var_dic_list()) "
    }
   },
   "types_to_exclude": [
    "module",
    "function",
    "builtin_function_or_method",
    "instance",
    "_Feature"
   ],
   "window_display": false
  }
 },
 "nbformat": 4,
 "nbformat_minor": 2
}
